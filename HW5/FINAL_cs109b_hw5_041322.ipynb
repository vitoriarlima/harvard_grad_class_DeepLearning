{
  "cells": [
    {
      "cell_type": "markdown",
      "metadata": {
        "id": "c28bSQkcLRKn"
      },
      "source": [
        "# <img style=\"float: left; padding-right: 10px; width: 45px\" src=\"https://raw.githubusercontent.com/Harvard-IACS/2018-CS109A/master/content/styles/iacs.png\"> Data Science 2: Advanced Topics in Data Science \n",
        "## Homework 5: Language Modeling\n",
        "\n",
        "\n",
        "**Harvard University**<br/>\n",
        "**Spring 2022**<br/>\n",
        "**Instructors**: Mark Glickman & Pavlos Protopapas\n",
        "\n",
        "\n",
        "<hr style=\"height:2pt\">"
      ]
    },
    {
      "cell_type": "code",
      "execution_count": null,
      "metadata": {
        "colab": {
          "base_uri": "https://localhost:8080/",
          "height": 17
        },
        "id": "gXRYyP2kI3lN",
        "outputId": "0287d8e0-3d59-45fd-c5a5-616deedd5c5f"
      },
      "outputs": [
        {
          "output_type": "execute_result",
          "data": {
            "text/plain": [
              "<IPython.core.display.HTML object>"
            ],
            "text/html": [
              "<style>\n",
              "blockquote { background: #AEDE94; }\n",
              "h1 { \n",
              "    padding-top: 25px;\n",
              "    padding-bottom: 25px;\n",
              "    text-align: left; \n",
              "    padding-left: 10px;\n",
              "    background-color: #DDDDDD; \n",
              "    color: black;\n",
              "}\n",
              "h2 { \n",
              "    padding-top: 10px;\n",
              "    padding-bottom: 10px;\n",
              "    text-align: left; \n",
              "    padding-left: 5px;\n",
              "    background-color: #EEEEEE; \n",
              "    color: black;\n",
              "}\n",
              "\n",
              "div.exercise {\n",
              "\tbackground-color: #ffcccc;\n",
              "\tborder-color: #E9967A; \t\n",
              "\tborder-left: 5px solid #800080; \n",
              "\tpadding: 0.5em;\n",
              "}\n",
              "\n",
              "div.exercise-r {\n",
              "\tbackground-color: #fce8e8;\n",
              "\tborder-color: #E9967A; \t\n",
              "\tborder-left: 5px solid #800080; \n",
              "\tpadding: 0.5em;\n",
              "}\n",
              "\n",
              "\n",
              "span.sub-q {\n",
              "\tfont-weight: bold;\n",
              "}\n",
              "div.theme {\n",
              "\tbackground-color: #DDDDDD;\n",
              "\tborder-color: #E9967A; \t\n",
              "\tborder-left: 5px solid #800080; \n",
              "\tpadding: 0.5em;\n",
              "\tfont-size: 18pt;\n",
              "}\n",
              "div.gc { \n",
              "\tbackground-color: #AEDE94;\n",
              "\tborder-color: #E9967A; \t \n",
              "\tborder-left: 5px solid #800080; \n",
              "\tpadding: 0.5em;\n",
              "\tfont-size: 12pt;\n",
              "}\n",
              "p.q1 { \n",
              "    padding-top: 5px;\n",
              "    padding-bottom: 5px;\n",
              "    text-align: left; \n",
              "    padding-left: 5px;\n",
              "    background-color: #EEEEEE; \n",
              "    color: black;\n",
              "}\n",
              "header {\n",
              "   padding-top: 35px;\n",
              "    padding-bottom: 35px;\n",
              "    text-align: left; \n",
              "    padding-left: 10px;\n",
              "    background-color: #DDDDDD; \n",
              "    color: black;\n",
              "}\n",
              "</style>\n",
              "\n"
            ]
          },
          "metadata": {},
          "execution_count": 1
        }
      ],
      "source": [
        "# RUN THIS CELL \n",
        "import requests\n",
        "from IPython.core.display import HTML\n",
        "styles = requests.get(\n",
        "    \"https://raw.githubusercontent.com/Harvard-IACS/2018-CS109A/master/\"\n",
        "    \"content/styles/cs109.css\"\n",
        ").text\n",
        "HTML(styles)"
      ]
    },
    {
      "cell_type": "markdown",
      "metadata": {
        "id": "inKAshSLL7U1"
      },
      "source": [
        "<hr style=\"height:2pt\">\n",
        "\n",
        "### INSTRUCTIONS\n",
        "\n",
        "- This homework can be submitted **in pairs**.\n",
        "\n",
        "- To submit your assignment follow the instructions given in Canvas.\n",
        "\n",
        "- Please **restart the kernel and run the entire notebook again before you submit.**\n",
        "\n",
        "- Running cells out of order is a common pitfall in Jupyter Notebooks. To make sure your code continues to work, restart the kernel and rerun your notebook periodically while working through this assignment. \n",
        "\n",
        "- We have tried to include all the libraries you may need to do the assignment in the imports cell provided below. **Please use only the libraries provided in those imports.**\n",
        "\n",
        "- Please use `.head(...)` when viewing data. Do not submit a notebook that is **excessively long**. \n",
        "\n",
        "- In questions that require code to answer, such as \"calculate and report $R^2$\", do not just output the value from a cell. Write a `print(...)` function that clearly labels the output, includes a reference to the calculated value, and rounds it to a reasonable number of digits. **Do not hard code values in your printed output**. For example, this is an appropriate print statement:\n",
        "```python\n",
        "print(f'The R^2 is {R:.4f}')\n",
        "```\n",
        "- **Your plots MUST be clearly labeled and easy to read,** including clear labels for the $x$ and $y$ axes, a descriptive title (\"MSE plot\" is NOT a descriptive title; \"Training and validation MSE at varying degree polynomial regression models\" on the other hand is descriptive), a legend when appropriate, and clearly formatted text and graphics.\n",
        "\n",
        "- **Your code may also be evaluated for efficiency and clarity.** As a result, correct output is not always sufficient for full credit.\n",
        "\n",
        "<hr style=\"height:2pt\">"
      ]
    },
    {
      "cell_type": "markdown",
      "metadata": {
        "id": "WkQ9H3dgXimi"
      },
      "source": [
        "## **HOMEWORK QUIZ**\n",
        "\n",
        "**For each part of the homework, there is an associated quiz on edStem. You are required to attempt that after completing each section of this homework.**"
      ]
    },
    {
      "cell_type": "markdown",
      "metadata": {
        "id": "B2p5Wx_BMPUu"
      },
      "source": [
        "## **Setup Notebook**"
      ]
    },
    {
      "cell_type": "markdown",
      "metadata": {
        "id": "_gOe-gtbMVD5"
      },
      "source": [
        "**Imports**"
      ]
    },
    {
      "cell_type": "code",
      "execution_count": null,
      "metadata": {
        "id": "bWsstoz5KnwW"
      },
      "outputs": [],
      "source": [
        "import requests\n",
        "import re\n",
        "import os\n",
        "import zipfile\n",
        "import collections\n",
        "import numpy as np\n",
        "import pandas as pd\n",
        "import urllib.request\n",
        "import matplotlib.pyplot as plt\n",
        "from collections import defaultdict\n",
        "%matplotlib inline\n",
        "from IPython.core.display import HTML\n",
        "\n",
        "import tensorflow as tf\n",
        "from tensorflow import keras\n",
        "from tensorflow.python.keras import backend as K\n",
        "from tensorflow.keras.models import Model\n",
        "\n",
        "from sklearn.model_selection import train_test_split"
      ]
    },
    {
      "cell_type": "markdown",
      "metadata": {
        "id": "RCKMuo0TM5dH"
      },
      "source": [
        "**Verify Setup**"
      ]
    },
    {
      "cell_type": "code",
      "execution_count": null,
      "metadata": {
        "colab": {
          "base_uri": "https://localhost:8080/"
        },
        "id": "F5Eh4YpOQTlW",
        "outputId": "562da2c1-ce9b-4352-8211-c724a30a1196"
      },
      "outputs": [
        {
          "output_type": "stream",
          "name": "stdout",
          "text": [
            "tensorflow version 2.8.0\n",
            "keras version 2.8.0\n",
            "Eager Execution Enabled: True\n",
            "INFO:tensorflow:Using MirroredStrategy with devices ('/job:localhost/replica:0/task:0/device:GPU:0',)\n",
            "Number of replicas: 1\n",
            "Devices: [PhysicalDevice(name='/physical_device:CPU:0', device_type='CPU'), PhysicalDevice(name='/physical_device:GPU:0', device_type='GPU')]\n",
            "[LogicalDevice(name='/device:GPU:0', device_type='GPU')]\n",
            "GPU Available:  [PhysicalDevice(name='/physical_device:GPU:0', device_type='GPU')]\n",
            "All Physical Devices [PhysicalDevice(name='/physical_device:CPU:0', device_type='CPU'), PhysicalDevice(name='/physical_device:GPU:0', device_type='GPU')]\n"
          ]
        }
      ],
      "source": [
        "# Enable/Disable Eager Execution\n",
        "# Reference: https://www.tensorflow.org/guide/eager\n",
        "# TensorFlow's eager execution is an imperative programming environment that evaluates operations immediately, \n",
        "# without building graphs\n",
        "\n",
        "#tf.compat.v1.disable_eager_execution()\n",
        "#tf.compat.v1.enable_eager_execution()\n",
        "\n",
        "print(\"tensorflow version\", tf.__version__)\n",
        "print(\"keras version\", tf.keras.__version__)\n",
        "print(\"Eager Execution Enabled:\", tf.executing_eagerly())\n",
        "\n",
        "# Get the number of replicas \n",
        "strategy = tf.distribute.MirroredStrategy()\n",
        "print(\"Number of replicas:\", strategy.num_replicas_in_sync)\n",
        "\n",
        "devices = tf.config.experimental.get_visible_devices()\n",
        "print(\"Devices:\", devices)\n",
        "print(tf.config.experimental.list_logical_devices('GPU'))\n",
        "\n",
        "print(\"GPU Available: \", tf.config.list_physical_devices('GPU'))\n",
        "print(\"All Physical Devices\", tf.config.list_physical_devices())\n",
        "\n",
        "# Better performance with the tf.data API\n",
        "# Reference: https://www.tensorflow.org/guide/data_performance\n",
        "AUTOTUNE = tf.data.experimental.AUTOTUNE"
      ]
    },
    {
      "cell_type": "markdown",
      "metadata": {
        "id": "8kAR4k4uHXkP"
      },
      "source": [
        "\n",
        "    \n",
        "## **PART 1 [35 points]: Language Modeling using ngrams**\n",
        "<br />    \n",
        "\n",
        "You have been tasked with developing a language model to complete messages that for some reason arrive incomplete to a disaster response station. Given the delicate situation, you will have to be extra careful. Each word in the sentence conveys a lot of information, and improper handling of the data could cause someone to come to harm. \n",
        "\n",
        "Your language model will be based on bigrams. You'll develop your own sub-word tokenization to analyze dissaster messages from multiple natural disasters. All the sentences are translated into English.\n",
        "    \n",
        "    \n",
        "\n",
        "    "
      ]
    },
    {
      "cell_type": "markdown",
      "metadata": {
        "id": "3G-7bWnyHXkQ"
      },
      "source": [
        "### **PART 1: Questions**\n",
        "<br />\n",
        "\n",
        "### **1.1 [5 points] PREPROCESS THE DATASET**\n",
        "<br />\n",
        "\n",
        "**1.1.1** - Read in the dataset `disaster_response_messages_training.csv` and select only the column \"message\" and display the head of the DataFrame.\n",
        "<br /><br />\n",
        "\n",
        "**1.1.2** - Define a function `clean_data` that takes the data frame as input, converts the characters to lower case and removes any special characters that you might consider irrelevant,  adds the start token `<s>` and the end token `</s>` to every sentence (row) in the data frame and returns the processed data frame. \n",
        "<br /><br />\n",
        "\n",
        "\n",
        "**1.1.3** - Split the dataset into train and test sets. The proportion should be 0.95 and 0.05, respectively. You will create the language model based on the train set and validate your results on the test set.\n",
        "<br /><br />    \n",
        "\n",
        "\n",
        "\n",
        "    \n",
        "### **1.2 [8 points] TOKENIZE AND COUNT**\n",
        "<br />\n",
        "In this section, you will create three different tokenizers that you will build LM based on. The tokenization functions must divide the text into tokens, count their frequency and return a dictionary with a mapping of token to number.\n",
        "    \n",
        "**1.2.1** - Create your own tokenization function ('tokenizer_1') based on whitespace. Set the vocabulary size to 1000, including the `<UNK>` token for out of the vocabulary (OOV) words. \n",
        "<br /><br />\n",
        "\n",
        "**1.2.2** - Create a second tokenization function ('tokenizer_2') based on whitespace, but do not limit the vocabulary size.\n",
        "<br /><br />\n",
        "\n",
        "**1.2.3** - Create a third tokenization function ('tokenizer_3') based on sub-words. You have to define a set of common sub-words in the English language, for example, the subtokens _ing_ and _n't_.\n",
        "    \n",
        "In this example, the sentence \"_It is raining outside_\" would be tokenized as [_It_, _is_, _rain_, _ing_, _outside_ ].\n",
        "<br /><br />\n",
        "    \n",
        "    \n",
        "    \n",
        "### **1.3 [6 points] CONSTRUCTING BIGRAMS**\n",
        "<br />\n",
        "\n",
        "**1.3.1** - Using each of the tokenizer functions you created, split each sentence into tokens in their numerical representation. \n",
        "<br /><br />\n",
        "\n",
        "**1.3.2** - For each tokenizer, count the occurances of each bigram in the dataset and divide them by the total number of bigrams. This will give you the probability of each bigram.\n",
        "<br /><br />\n",
        "    \n",
        "    \n",
        "    \n",
        "### **1.4 [8 points] PREDICTING THE NEXT WORDS**\n",
        "<br />\n",
        "\n",
        "**1.4.1** - Simulate incomplete messages by dividing each sentence of the test set in two. The first $75\\%$ will represent the received message, and the final $25\\%$ will convey the missing information. You will use this dataset to evaluate the predictions of your language model.\n",
        "    \n",
        "For example in the sentence: *\"I will go out on a vacation, now that my semester ended.\"*\n",
        "\n",
        "The first 75% will be *\"I will go out on a vacation, now\"*\n",
        "\n",
        "The last 25% will be *\"that my semeter ended\"*\n",
        "\n",
        "Your aim is to predict the last part by giving your model the first \"part\" of the sentence.\n",
        "\n",
        "\n",
        "Note that in an n-gram language model, only the last $n-1$ words are used to make a prediction. For example, for the above sentence, if you are using bigrams, the input to your model would only be \"now\" and you are expected to predict \"that\".\n",
        "    \n",
        "<br /><br />    \n",
        "    \n",
        "**1.4.2** - Given 5 sentences from the previous question (test set), predict the next word. \n",
        "Append this predicted word to the input sequence and predict the next one. Repeat this process until you reach the 10th predicted token or the end of a sentence. Compare your results qualitatively with the original sentences. Do the results make sense wrt the context and semantics?\n",
        "\n",
        "Repeat this for all the models built using different tokenization techniques.\n",
        "<br /><br />\n",
        "\n",
        "**1.4.3** - Repeat the same exercise, for all 3 models, but this time, the next token will be sampled from a distribution given by the bigram frequency. Compare and comment on the results?\n",
        "\n",
        "\n",
        "*Hint:* In a model of two bigrams with frequencies 0.7 and 0.3, a deterministic prediction will only predict the first bigram. Sampling from a distribution, will enable the model to predict the second bigram with a probability of 0.3. In this way we can still predict infrequent tokens. \n",
        "<br /><br />\n",
        "    \n",
        "\n",
        "### **1.5 [5 points] EVALUATE THE LANGUAGE MODELS**\n",
        "<br />\n",
        "\n",
        "    \n",
        "**1.5.1** - For each of the models built using different tokenization techniques, compute the average perplexity in the test set (These are the complete test messages as tokenized in 1.3.1, **not** the incomplete test messages from 1.4.1). Perform smoothing on the bigram models. Based on the perplexity, which model is better?\n",
        "<br /><br />\n",
        "\n",
        "**1.5.2** - Given the perplexities, which model do you think is better? Why do you think so? Does this reflect the quality of the prediction as seen in part 1.4? \n",
        " What is the effect of UNK words?\n",
        "\n",
        "<br /><br />\n",
        "\n",
        "### **1.6 [3 points] HOMEWORK QUIZ**\n",
        "<br />\n",
        "After attempting this part of the homework, answer the questions on edStem. All the questions depend on this part of the homework and you will not be able to answer them without attempting this part.\n",
        "\n",
        "<br /><br />\n",
        "\n",
        "</div>"
      ]
    },
    {
      "cell_type": "markdown",
      "metadata": {
        "id": "xf9ieRV5NU38"
      },
      "source": [
        "## **PART 1: Solutions**"
      ]
    },
    {
      "cell_type": "markdown",
      "metadata": {
        "id": "g0Zhd1UxHXkR"
      },
      "source": [
        "<div class=\"alert alert-block alert-danger\" style=\"color:black;background-color:#E7F4FA\">\n",
        "    \n",
        "### **1.1 [5 points] PREPROCESS THE DATASET**\n",
        "<br />\n",
        "\n",
        "**1.1.1** - Read in the dataset `disaster_response_messages_training.csv`. Select only the column \"message\" and display the head of the DataFrame.\n",
        "<br />\n",
        "\n",
        "If you want to download the file you can get it from [here](https://storage.googleapis.com/cs109b/nlp/disaster_response_messages_training.csv)\n",
        "</div>"
      ]
    },
    {
      "cell_type": "code",
      "execution_count": null,
      "metadata": {
        "colab": {
          "base_uri": "https://localhost:8080/"
        },
        "id": "0--qw-2RHXkR",
        "outputId": "5716c77d-72b2-459a-e8e6-e99f07e4c3bf"
      },
      "outputs": [
        {
          "output_type": "stream",
          "name": "stderr",
          "text": [
            "/usr/local/lib/python3.7/dist-packages/IPython/core/interactiveshell.py:2882: DtypeWarning: Columns (3) have mixed types.Specify dtype option on import or set low_memory=False.\n",
            "  exec(code_obj, self.user_global_ns, self.user_ns)\n"
          ]
        },
        {
          "output_type": "execute_result",
          "data": {
            "text/plain": [
              "0    Weather update - a cold front from Cuba that c...\n",
              "1              Is the Hurricane over or is it not over\n",
              "2    says: west side of Haiti, rest of the country ...\n",
              "3               Information about the National Palace-\n",
              "4                       Storm at sacred heart of jesus\n",
              "Name: message, dtype: object"
            ]
          },
          "metadata": {},
          "execution_count": 4
        }
      ],
      "source": [
        "file_path = \"https://storage.googleapis.com/cs109b/nlp/disaster_response_messages_training.csv\"\n",
        "df = pd.read_csv(file_path)['message']\n",
        "df.head()"
      ]
    },
    {
      "cell_type": "markdown",
      "metadata": {
        "id": "haGkdXvqHXkS"
      },
      "source": [
        "<div class=\"alert alert-block alert-danger\" style=\"color:black;background-color:#E7F4FA\">\n",
        "    \n",
        "**1.1.2** - Define a function `clean_data` that takes the data frame as input. Convert the characters to lower case and remove any special characters that you might consider irrelevant. Add the start token `<s>` and the end token `</s>` to every sentence (row) in the data frame. Return the processed data frame. \n",
        "    \n",
        "</div>"
      ]
    },
    {
      "cell_type": "code",
      "execution_count": null,
      "metadata": {
        "colab": {
          "base_uri": "https://localhost:8080/"
        },
        "id": "nzSqQLiRHXkS",
        "outputId": "e9f10e4b-fd69-41dd-f674-363d290c02a3"
      },
      "outputs": [
        {
          "output_type": "execute_result",
          "data": {
            "text/plain": [
              "0     <s> weather update  a cold front from cuba tha...\n",
              "1      <s> is the hurricane over or is it not over </s>\n",
              "2     <s> says west side of haiti rest of the countr...\n",
              "3        <s> information about the national palace </s>\n",
              "4               <s> storm at sacred heart of jesus </s>\n",
              "                            ...                        \n",
              "95    <s> we are a group of police and we found a ki...\n",
              "96    <s> dans la zone de saint etienne la route de ...\n",
              "97    <s> we are hungry we are in the streets we wer...\n",
              "98        <s> where they should go for water today </s>\n",
              "99    <s> i dont know rue du muguet route de desprez...\n",
              "Name: message, Length: 100, dtype: object"
            ]
          },
          "metadata": {},
          "execution_count": 5
        }
      ],
      "source": [
        "def clean_data(df):\n",
        "  df = df.apply(lambda x : re.sub(r'[^a-zA-Z0\\s]', '', x))\n",
        "  df = df.apply(lambda x: \"<s> \" + x.lower() + \" </s>\")\n",
        "  return df\n",
        "\n",
        "df_clean = clean_data(df)\n",
        "df_clean.head(100)"
      ]
    },
    {
      "cell_type": "markdown",
      "metadata": {
        "id": "FE_csbO_HXkS"
      },
      "source": [
        "<div class=\"alert alert-block alert-danger\" style=\"color:black;background-color:#E7F4FA\">\n",
        "\n",
        "**1.1.3** - Split the dataset into train and test sets. The proportion should be 0.95 and 0.05, respectively. You will create the language model based on the train set and validate your results on the test set.\n",
        "<br /><br />  \n",
        "\n",
        "</div>"
      ]
    },
    {
      "cell_type": "code",
      "execution_count": null,
      "metadata": {
        "id": "GqhLV4IDHXkT"
      },
      "outputs": [],
      "source": [
        "train, test = train_test_split(df_clean, test_size=0.05, random_state = 109)"
      ]
    },
    {
      "cell_type": "markdown",
      "metadata": {
        "id": "OE3BueW8HXkT"
      },
      "source": [
        "<div class=\"alert alert-block alert-danger\" style=\"color:black;background-color:#E7F4FA\">\n",
        "\n",
        "### **1.2 [8 points] TOKENIZE AND COUNT**\n",
        "<br />\n",
        "In this section, you will create three different tokenizers and build an LM based on each one of them. The tokenization functions must divide the text into tokens, count their frequency and return a dictionary with a mapping of token to number.\n",
        "<br /><br />\n",
        "    \n",
        "\n",
        "\n",
        "**1.2.1** - Create your own tokenization function ('tokenizer_1') based on whitespace. Set the vocabulary to 1000, including the `<UNK>` token for Out Of the Vocabulary (OOV) words. \n",
        "<br /><br />\n",
        "    \n",
        "</div> "
      ]
    },
    {
      "cell_type": "code",
      "execution_count": null,
      "metadata": {
        "id": "XsuySgwlHXkT"
      },
      "outputs": [],
      "source": [
        "def tokenizer_1(df):\n",
        "  string = []\n",
        "  for i in df:\n",
        "    string += i.split(\" \")\n",
        "\n",
        "  counter = collections.Counter(string)\n",
        "  counter_ = dict(counter.most_common(999))\n",
        "  uncommon = {x:v for (x,v) in dict(counter).items() if x not in counter_}\n",
        "  uncommon_sum = sum(uncommon.values())\n",
        "  counter_[\"<UNK>\"] = sum(uncommon.values())\n",
        "  \n",
        "  return counter_"
      ]
    },
    {
      "cell_type": "markdown",
      "metadata": {
        "id": "m1xu8CZ-HXkU"
      },
      "source": [
        "<div class=\"alert alert-block alert-danger\" style=\"color:black;background-color:#E7F4FA\">\n",
        "\n",
        "**1.2.2** - Create a second tokenization function ('tokenizer_2') based on whitespace, but do not limit the vocabulary size.\n",
        "<br /><br />\n",
        "    \n",
        "</div>"
      ]
    },
    {
      "cell_type": "code",
      "execution_count": null,
      "metadata": {
        "id": "XlFMii2QHXkU"
      },
      "outputs": [],
      "source": [
        "def tokenizer_2(df):\n",
        "  string = []\n",
        "  for i in df:\n",
        "    string += i.split(\" \")\n",
        "  counter = dict(collections.Counter(string))\n",
        "  counter[\"<UNK>\"] = 0\n",
        "  return counter"
      ]
    },
    {
      "cell_type": "markdown",
      "metadata": {
        "id": "Tc8kGcbKHXkU"
      },
      "source": [
        "<div class=\"alert alert-block alert-danger\" style=\"color:black;background-color:#E7F4FA\">\n",
        "\n",
        "**1.2.3** - Create a third tokenization function ('tokenizer_3') based on sub-words. You have to define a set of common sub-words in the English language, for example, the subtokens _ing_ and _n't_.\n",
        "    \n",
        "In this example, the sentence \"_It is raining outside_\" would be tokenized as [_It_, _is_, _rain_, _ing_, _outside_ ].\n",
        "<br /><br />\n",
        "    \n",
        "</div>"
      ]
    },
    {
      "cell_type": "code",
      "execution_count": null,
      "metadata": {
        "id": "VUddvhyfHXkU"
      },
      "outputs": [],
      "source": [
        "def tokenizer_3(df):\n",
        "  list_common_subt = ['ing', 'ed', \"n't\", \"tion\"]\n",
        "  for i in list_common_subt:\n",
        "    df = df.str.replace(i, \" \"+i+\" \")\n",
        "  string = []\n",
        "  for i in df:\n",
        "    string += i.split(\" \")\n",
        "  counter = dict(collections.Counter(string))\n",
        "  counter[\"<UNK>\"] = 0\n",
        "  return counter"
      ]
    },
    {
      "cell_type": "markdown",
      "metadata": {
        "id": "lPRIT0WCHXkV"
      },
      "source": [
        "<div class=\"alert alert-block alert-danger\" style=\"color:black;background-color:#E7F4FA\">\n",
        "\n",
        "### **1.3 [7 points] CONSTRUCTING BIGRAMS**\n",
        "<br />\n",
        "\n",
        "**1.3.1** - Using each of the tokenizer functions you created, split each sentence into tokens in their numerical representation. \n",
        "<br /><br />\n",
        "    \n",
        "</div>"
      ]
    },
    {
      "cell_type": "code",
      "execution_count": null,
      "metadata": {
        "id": "xwM25WBtxREM"
      },
      "outputs": [],
      "source": [
        "# create dictionaries\n",
        "def word2idx(tk, train):\n",
        "  return {word: idx for idx, word in enumerate(tk(train))}, {idx: word for idx, word in enumerate(tk(train))}\n",
        "\n",
        "# encode text based on tokenizer and train dataset \n",
        "def numerical_representation(tk, df, train):\n",
        "  word2idx_, _= word2idx(tk, train)\n",
        "\n",
        "  if tk == tokenizer_3:\n",
        "    list_common_subt = ['ing', 'ed', \"n't\", \"tion\"]\n",
        "    for i in list_common_subt:\n",
        "      df = df.str.replace(i, \" \"+i+\" \")\n",
        "  \n",
        "  df_proc = df.apply(lambda x: [word2idx_[word] if word in word2idx_.keys() else word2idx_['<UNK>'] for word in x.split(\" \")])\n",
        "\n",
        "  return df_proc"
      ]
    },
    {
      "cell_type": "markdown",
      "metadata": {
        "id": "HIgSWDWEHXkV"
      },
      "source": [
        "**Tokenizer_1**"
      ]
    },
    {
      "cell_type": "code",
      "execution_count": null,
      "metadata": {
        "colab": {
          "base_uri": "https://localhost:8080/"
        },
        "id": "50JWqq4THXkV",
        "outputId": "aaff08dd-0821-459b-b7db-9f098421365a"
      },
      "outputs": [
        {
          "output_type": "execute_result",
          "data": {
            "text/plain": [
              "11857    [1, 0, 136, 459, 999, 54, 50, 84, 20, 7, 3, 99...\n",
              "13270    [1, 456, 130, 7, 253, 999, 17, 999, 999, 4, 84...\n",
              "3278         [1, 68, 610, 999, 122, 386, 5, 377, 24, 3, 2]\n",
              "10309    [1, 999, 39, 0, 334, 989, 999, 11, 89, 8, 999,...\n",
              "15925    [1, 63, 0, 999, 830, 8, 174, 861, 5, 34, 819, ...\n",
              "Name: message, dtype: object"
            ]
          },
          "metadata": {},
          "execution_count": 11
        }
      ],
      "source": [
        "# Your code here\n",
        "train_num_1 = numerical_representation(tokenizer_1, train, train)\n",
        "test_num_1 = numerical_representation(tokenizer_1, test, train)\n",
        "test_num_1.head()"
      ]
    },
    {
      "cell_type": "markdown",
      "metadata": {
        "id": "yzPLeOJHHXkV"
      },
      "source": [
        "**Tokenizer_2**"
      ]
    },
    {
      "cell_type": "code",
      "execution_count": null,
      "metadata": {
        "colab": {
          "base_uri": "https://localhost:8080/"
        },
        "id": "6CB5Z1fhHXkV",
        "outputId": "1ded7bec-2f4b-4464-bbfb-4cdfce47e520"
      },
      "outputs": [
        {
          "output_type": "execute_result",
          "data": {
            "text/plain": [
              "11857    [0, 21, 170, 2031, 10737, 89, 58, 74, 202, 39,...\n",
              "13270    [0, 657, 2281, 39, 646, 1798, 3, 279, 13171, 9...\n",
              "3278     [0, 198, 2221, 3265, 650, 2291, 12, 704, 43, 1...\n",
              "10309    [0, 3023, 273, 21, 3129, 5838, 1244, 266, 673,...\n",
              "15925    [0, 183, 21, 8652, 3660, 4, 85, 2448, 12, 200,...\n",
              "Name: message, dtype: object"
            ]
          },
          "metadata": {},
          "execution_count": 12
        }
      ],
      "source": [
        "# Your code here\n",
        "train_num_2 = numerical_representation(tokenizer_2, train, train)\n",
        "test_num_2 = numerical_representation(tokenizer_2, test, train)\n",
        "test_num_2.head()"
      ]
    },
    {
      "cell_type": "markdown",
      "metadata": {
        "id": "p8C1SwPxHXkV"
      },
      "source": [
        "**Tokenizer_3**"
      ]
    },
    {
      "cell_type": "code",
      "execution_count": null,
      "metadata": {
        "colab": {
          "base_uri": "https://localhost:8080/"
        },
        "id": "9UL8xpqyHXkV",
        "outputId": "af9bae65-3639-41bb-853b-6ec426bc7779"
      },
      "outputs": [
        {
          "output_type": "execute_result",
          "data": {
            "text/plain": [
              "11857    [0, 21, 123, 1960, 9963, 94, 62, 79, 205, 41, ...\n",
              "13270    [0, 648, 2189, 41, 637, 1743, 25, 19, 3, 281, ...\n",
              "3278     [0, 201, 2135, 3120, 641, 2199, 12, 694, 45, 1...\n",
              "10309    [0, 2892, 275, 21, 2994, 4753, 1224, 268, 664,...\n",
              "15925    [0, 187, 21, 8057, 3485, 4, 90, 2345, 12, 203,...\n",
              "Name: message, dtype: object"
            ]
          },
          "metadata": {},
          "execution_count": 13
        }
      ],
      "source": [
        "# Your code here\n",
        "train_num_3 = numerical_representation(tokenizer_3, train, train)\n",
        "test_num_3 = numerical_representation(tokenizer_3, test, train)\n",
        "test_num_3.head()"
      ]
    },
    {
      "cell_type": "markdown",
      "metadata": {
        "id": "zCxmJSwyHXkW"
      },
      "source": [
        "<div class=\"alert alert-block alert-danger\" style=\"color:black;background-color:#E7F4FA\">\n",
        "\n",
        "**1.3.2** - For each tokenizer, count the occurances of each bigram in the dataset and divide them by the total number of bigrams. This will give you the probability of each bigram.\n",
        "<br /><br />\n",
        "    \n",
        "</div>"
      ]
    },
    {
      "cell_type": "code",
      "execution_count": null,
      "metadata": {
        "id": "CYcUVikVi6y4"
      },
      "outputs": [],
      "source": [
        "def bigram(sentence):\n",
        "  bigrams = [(sentence[i], sentence[i+1]) for i in range(0,len(sentence)-1)]\n",
        "  return bigrams\n",
        "\n",
        "def bigram_prob(tk, train):\n",
        "  df_num = numerical_representation(tk,train,train)\n",
        "  freq = tk(train)\n",
        "\n",
        "  all_bigram = []\n",
        "  for i in df_num:\n",
        "    all_bigram += bigram(i)\n",
        "\n",
        "  counter = collections.Counter(all_bigram)\n",
        "  out = pd.DataFrame.from_dict(counter, orient='index').reset_index().rename(columns={'index':'bigram', 0:'count'})\n",
        "  out['first'] = out['bigram'].str[0]\n",
        "  #out['total'] = out['first'].apply(lambda x: list(freq.items())[x][-1])\n",
        "  out['total'] = out['count'].groupby(out['first']).transform('sum')\n",
        "  out['prob'] = out['count']/out['total']\n",
        "  out['prob'] = (1 + out['count'])/(out['total'] + len(freq)) # apply smoothing\n",
        "  out = out[['first','bigram','prob']]\n",
        "\n",
        "  return out"
      ]
    },
    {
      "cell_type": "code",
      "execution_count": null,
      "metadata": {
        "colab": {
          "base_uri": "https://localhost:8080/",
          "height": 206
        },
        "id": "5nNj0_i9HXkW",
        "outputId": "a973e003-d00e-49d5-fec2-a1969ab92177"
      },
      "outputs": [
        {
          "output_type": "execute_result",
          "data": {
            "text/plain": [
              "   first     bigram      prob\n",
              "0      1     (1, 9)  0.084981\n",
              "1      9   (9, 111)  0.001099\n",
              "2    111  (111, 17)  0.016050\n",
              "3     17    (17, 8)  0.045442\n",
              "4      8   (8, 452)  0.004482"
            ],
            "text/html": [
              "\n",
              "  <div id=\"df-1bf1bfed-b42e-45c5-a20f-7b7258db912d\">\n",
              "    <div class=\"colab-df-container\">\n",
              "      <div>\n",
              "<style scoped>\n",
              "    .dataframe tbody tr th:only-of-type {\n",
              "        vertical-align: middle;\n",
              "    }\n",
              "\n",
              "    .dataframe tbody tr th {\n",
              "        vertical-align: top;\n",
              "    }\n",
              "\n",
              "    .dataframe thead th {\n",
              "        text-align: right;\n",
              "    }\n",
              "</style>\n",
              "<table border=\"1\" class=\"dataframe\">\n",
              "  <thead>\n",
              "    <tr style=\"text-align: right;\">\n",
              "      <th></th>\n",
              "      <th>first</th>\n",
              "      <th>bigram</th>\n",
              "      <th>prob</th>\n",
              "    </tr>\n",
              "  </thead>\n",
              "  <tbody>\n",
              "    <tr>\n",
              "      <th>0</th>\n",
              "      <td>1</td>\n",
              "      <td>(1, 9)</td>\n",
              "      <td>0.084981</td>\n",
              "    </tr>\n",
              "    <tr>\n",
              "      <th>1</th>\n",
              "      <td>9</td>\n",
              "      <td>(9, 111)</td>\n",
              "      <td>0.001099</td>\n",
              "    </tr>\n",
              "    <tr>\n",
              "      <th>2</th>\n",
              "      <td>111</td>\n",
              "      <td>(111, 17)</td>\n",
              "      <td>0.016050</td>\n",
              "    </tr>\n",
              "    <tr>\n",
              "      <th>3</th>\n",
              "      <td>17</td>\n",
              "      <td>(17, 8)</td>\n",
              "      <td>0.045442</td>\n",
              "    </tr>\n",
              "    <tr>\n",
              "      <th>4</th>\n",
              "      <td>8</td>\n",
              "      <td>(8, 452)</td>\n",
              "      <td>0.004482</td>\n",
              "    </tr>\n",
              "  </tbody>\n",
              "</table>\n",
              "</div>\n",
              "      <button class=\"colab-df-convert\" onclick=\"convertToInteractive('df-1bf1bfed-b42e-45c5-a20f-7b7258db912d')\"\n",
              "              title=\"Convert this dataframe to an interactive table.\"\n",
              "              style=\"display:none;\">\n",
              "        \n",
              "  <svg xmlns=\"http://www.w3.org/2000/svg\" height=\"24px\"viewBox=\"0 0 24 24\"\n",
              "       width=\"24px\">\n",
              "    <path d=\"M0 0h24v24H0V0z\" fill=\"none\"/>\n",
              "    <path d=\"M18.56 5.44l.94 2.06.94-2.06 2.06-.94-2.06-.94-.94-2.06-.94 2.06-2.06.94zm-11 1L8.5 8.5l.94-2.06 2.06-.94-2.06-.94L8.5 2.5l-.94 2.06-2.06.94zm10 10l.94 2.06.94-2.06 2.06-.94-2.06-.94-.94-2.06-.94 2.06-2.06.94z\"/><path d=\"M17.41 7.96l-1.37-1.37c-.4-.4-.92-.59-1.43-.59-.52 0-1.04.2-1.43.59L10.3 9.45l-7.72 7.72c-.78.78-.78 2.05 0 2.83L4 21.41c.39.39.9.59 1.41.59.51 0 1.02-.2 1.41-.59l7.78-7.78 2.81-2.81c.8-.78.8-2.07 0-2.86zM5.41 20L4 18.59l7.72-7.72 1.47 1.35L5.41 20z\"/>\n",
              "  </svg>\n",
              "      </button>\n",
              "      \n",
              "  <style>\n",
              "    .colab-df-container {\n",
              "      display:flex;\n",
              "      flex-wrap:wrap;\n",
              "      gap: 12px;\n",
              "    }\n",
              "\n",
              "    .colab-df-convert {\n",
              "      background-color: #E8F0FE;\n",
              "      border: none;\n",
              "      border-radius: 50%;\n",
              "      cursor: pointer;\n",
              "      display: none;\n",
              "      fill: #1967D2;\n",
              "      height: 32px;\n",
              "      padding: 0 0 0 0;\n",
              "      width: 32px;\n",
              "    }\n",
              "\n",
              "    .colab-df-convert:hover {\n",
              "      background-color: #E2EBFA;\n",
              "      box-shadow: 0px 1px 2px rgba(60, 64, 67, 0.3), 0px 1px 3px 1px rgba(60, 64, 67, 0.15);\n",
              "      fill: #174EA6;\n",
              "    }\n",
              "\n",
              "    [theme=dark] .colab-df-convert {\n",
              "      background-color: #3B4455;\n",
              "      fill: #D2E3FC;\n",
              "    }\n",
              "\n",
              "    [theme=dark] .colab-df-convert:hover {\n",
              "      background-color: #434B5C;\n",
              "      box-shadow: 0px 1px 3px 1px rgba(0, 0, 0, 0.15);\n",
              "      filter: drop-shadow(0px 1px 2px rgba(0, 0, 0, 0.3));\n",
              "      fill: #FFFFFF;\n",
              "    }\n",
              "  </style>\n",
              "\n",
              "      <script>\n",
              "        const buttonEl =\n",
              "          document.querySelector('#df-1bf1bfed-b42e-45c5-a20f-7b7258db912d button.colab-df-convert');\n",
              "        buttonEl.style.display =\n",
              "          google.colab.kernel.accessAllowed ? 'block' : 'none';\n",
              "\n",
              "        async function convertToInteractive(key) {\n",
              "          const element = document.querySelector('#df-1bf1bfed-b42e-45c5-a20f-7b7258db912d');\n",
              "          const dataTable =\n",
              "            await google.colab.kernel.invokeFunction('convertToInteractive',\n",
              "                                                     [key], {});\n",
              "          if (!dataTable) return;\n",
              "\n",
              "          const docLinkHtml = 'Like what you see? Visit the ' +\n",
              "            '<a target=\"_blank\" href=https://colab.research.google.com/notebooks/data_table.ipynb>data table notebook</a>'\n",
              "            + ' to learn more about interactive tables.';\n",
              "          element.innerHTML = '';\n",
              "          dataTable['output_type'] = 'display_data';\n",
              "          await google.colab.output.renderOutput(dataTable, element);\n",
              "          const docLink = document.createElement('div');\n",
              "          docLink.innerHTML = docLinkHtml;\n",
              "          element.appendChild(docLink);\n",
              "        }\n",
              "      </script>\n",
              "    </div>\n",
              "  </div>\n",
              "  "
            ]
          },
          "metadata": {},
          "execution_count": 15
        }
      ],
      "source": [
        "# tokenizer 1\n",
        "bigram_1 = bigram_prob(tokenizer_1, train)\n",
        "bigram_1.head()"
      ]
    },
    {
      "cell_type": "code",
      "execution_count": null,
      "metadata": {
        "colab": {
          "base_uri": "https://localhost:8080/",
          "height": 206
        },
        "id": "K_VSG7EOj6EZ",
        "outputId": "aa474868-83aa-444d-dd49-a8c4a1eacf26"
      },
      "outputs": [
        {
          "output_type": "execute_result",
          "data": {
            "text/plain": [
              "   first  bigram      prob\n",
              "0      0  (0, 1)  0.034073\n",
              "1      1  (1, 2)  0.000186\n",
              "2      2  (2, 3)  0.000701\n",
              "3      3  (3, 4)  0.004792\n",
              "4      4  (4, 5)  0.000954"
            ],
            "text/html": [
              "\n",
              "  <div id=\"df-55a691c2-5a68-41e1-ac6c-b732056dd51a\">\n",
              "    <div class=\"colab-df-container\">\n",
              "      <div>\n",
              "<style scoped>\n",
              "    .dataframe tbody tr th:only-of-type {\n",
              "        vertical-align: middle;\n",
              "    }\n",
              "\n",
              "    .dataframe tbody tr th {\n",
              "        vertical-align: top;\n",
              "    }\n",
              "\n",
              "    .dataframe thead th {\n",
              "        text-align: right;\n",
              "    }\n",
              "</style>\n",
              "<table border=\"1\" class=\"dataframe\">\n",
              "  <thead>\n",
              "    <tr style=\"text-align: right;\">\n",
              "      <th></th>\n",
              "      <th>first</th>\n",
              "      <th>bigram</th>\n",
              "      <th>prob</th>\n",
              "    </tr>\n",
              "  </thead>\n",
              "  <tbody>\n",
              "    <tr>\n",
              "      <th>0</th>\n",
              "      <td>0</td>\n",
              "      <td>(0, 1)</td>\n",
              "      <td>0.034073</td>\n",
              "    </tr>\n",
              "    <tr>\n",
              "      <th>1</th>\n",
              "      <td>1</td>\n",
              "      <td>(1, 2)</td>\n",
              "      <td>0.000186</td>\n",
              "    </tr>\n",
              "    <tr>\n",
              "      <th>2</th>\n",
              "      <td>2</td>\n",
              "      <td>(2, 3)</td>\n",
              "      <td>0.000701</td>\n",
              "    </tr>\n",
              "    <tr>\n",
              "      <th>3</th>\n",
              "      <td>3</td>\n",
              "      <td>(3, 4)</td>\n",
              "      <td>0.004792</td>\n",
              "    </tr>\n",
              "    <tr>\n",
              "      <th>4</th>\n",
              "      <td>4</td>\n",
              "      <td>(4, 5)</td>\n",
              "      <td>0.000954</td>\n",
              "    </tr>\n",
              "  </tbody>\n",
              "</table>\n",
              "</div>\n",
              "      <button class=\"colab-df-convert\" onclick=\"convertToInteractive('df-55a691c2-5a68-41e1-ac6c-b732056dd51a')\"\n",
              "              title=\"Convert this dataframe to an interactive table.\"\n",
              "              style=\"display:none;\">\n",
              "        \n",
              "  <svg xmlns=\"http://www.w3.org/2000/svg\" height=\"24px\"viewBox=\"0 0 24 24\"\n",
              "       width=\"24px\">\n",
              "    <path d=\"M0 0h24v24H0V0z\" fill=\"none\"/>\n",
              "    <path d=\"M18.56 5.44l.94 2.06.94-2.06 2.06-.94-2.06-.94-.94-2.06-.94 2.06-2.06.94zm-11 1L8.5 8.5l.94-2.06 2.06-.94-2.06-.94L8.5 2.5l-.94 2.06-2.06.94zm10 10l.94 2.06.94-2.06 2.06-.94-2.06-.94-.94-2.06-.94 2.06-2.06.94z\"/><path d=\"M17.41 7.96l-1.37-1.37c-.4-.4-.92-.59-1.43-.59-.52 0-1.04.2-1.43.59L10.3 9.45l-7.72 7.72c-.78.78-.78 2.05 0 2.83L4 21.41c.39.39.9.59 1.41.59.51 0 1.02-.2 1.41-.59l7.78-7.78 2.81-2.81c.8-.78.8-2.07 0-2.86zM5.41 20L4 18.59l7.72-7.72 1.47 1.35L5.41 20z\"/>\n",
              "  </svg>\n",
              "      </button>\n",
              "      \n",
              "  <style>\n",
              "    .colab-df-container {\n",
              "      display:flex;\n",
              "      flex-wrap:wrap;\n",
              "      gap: 12px;\n",
              "    }\n",
              "\n",
              "    .colab-df-convert {\n",
              "      background-color: #E8F0FE;\n",
              "      border: none;\n",
              "      border-radius: 50%;\n",
              "      cursor: pointer;\n",
              "      display: none;\n",
              "      fill: #1967D2;\n",
              "      height: 32px;\n",
              "      padding: 0 0 0 0;\n",
              "      width: 32px;\n",
              "    }\n",
              "\n",
              "    .colab-df-convert:hover {\n",
              "      background-color: #E2EBFA;\n",
              "      box-shadow: 0px 1px 2px rgba(60, 64, 67, 0.3), 0px 1px 3px 1px rgba(60, 64, 67, 0.15);\n",
              "      fill: #174EA6;\n",
              "    }\n",
              "\n",
              "    [theme=dark] .colab-df-convert {\n",
              "      background-color: #3B4455;\n",
              "      fill: #D2E3FC;\n",
              "    }\n",
              "\n",
              "    [theme=dark] .colab-df-convert:hover {\n",
              "      background-color: #434B5C;\n",
              "      box-shadow: 0px 1px 3px 1px rgba(0, 0, 0, 0.15);\n",
              "      filter: drop-shadow(0px 1px 2px rgba(0, 0, 0, 0.3));\n",
              "      fill: #FFFFFF;\n",
              "    }\n",
              "  </style>\n",
              "\n",
              "      <script>\n",
              "        const buttonEl =\n",
              "          document.querySelector('#df-55a691c2-5a68-41e1-ac6c-b732056dd51a button.colab-df-convert');\n",
              "        buttonEl.style.display =\n",
              "          google.colab.kernel.accessAllowed ? 'block' : 'none';\n",
              "\n",
              "        async function convertToInteractive(key) {\n",
              "          const element = document.querySelector('#df-55a691c2-5a68-41e1-ac6c-b732056dd51a');\n",
              "          const dataTable =\n",
              "            await google.colab.kernel.invokeFunction('convertToInteractive',\n",
              "                                                     [key], {});\n",
              "          if (!dataTable) return;\n",
              "\n",
              "          const docLinkHtml = 'Like what you see? Visit the ' +\n",
              "            '<a target=\"_blank\" href=https://colab.research.google.com/notebooks/data_table.ipynb>data table notebook</a>'\n",
              "            + ' to learn more about interactive tables.';\n",
              "          element.innerHTML = '';\n",
              "          dataTable['output_type'] = 'display_data';\n",
              "          await google.colab.output.renderOutput(dataTable, element);\n",
              "          const docLink = document.createElement('div');\n",
              "          docLink.innerHTML = docLinkHtml;\n",
              "          element.appendChild(docLink);\n",
              "        }\n",
              "      </script>\n",
              "    </div>\n",
              "  </div>\n",
              "  "
            ]
          },
          "metadata": {},
          "execution_count": 16
        }
      ],
      "source": [
        "# tokenizer 2\n",
        "bigram_2 = bigram_prob(tokenizer_2, train)\n",
        "bigram_2.head()\n"
      ]
    },
    {
      "cell_type": "code",
      "execution_count": null,
      "metadata": {
        "colab": {
          "base_uri": "https://localhost:8080/",
          "height": 206
        },
        "id": "uNwPzNzQwoXS",
        "outputId": "0c4dabd8-a5ce-40ed-acb2-6cc087420fce"
      },
      "outputs": [
        {
          "output_type": "execute_result",
          "data": {
            "text/plain": [
              "   first  bigram      prob\n",
              "0      0  (0, 1)  0.035823\n",
              "1      1  (1, 2)  0.000227\n",
              "2      2  (2, 3)  0.000754\n",
              "3      3  (3, 4)  0.005169\n",
              "4      4  (4, 5)  0.001018"
            ],
            "text/html": [
              "\n",
              "  <div id=\"df-5d32a5d4-c56d-401a-a786-4258bd01b4f6\">\n",
              "    <div class=\"colab-df-container\">\n",
              "      <div>\n",
              "<style scoped>\n",
              "    .dataframe tbody tr th:only-of-type {\n",
              "        vertical-align: middle;\n",
              "    }\n",
              "\n",
              "    .dataframe tbody tr th {\n",
              "        vertical-align: top;\n",
              "    }\n",
              "\n",
              "    .dataframe thead th {\n",
              "        text-align: right;\n",
              "    }\n",
              "</style>\n",
              "<table border=\"1\" class=\"dataframe\">\n",
              "  <thead>\n",
              "    <tr style=\"text-align: right;\">\n",
              "      <th></th>\n",
              "      <th>first</th>\n",
              "      <th>bigram</th>\n",
              "      <th>prob</th>\n",
              "    </tr>\n",
              "  </thead>\n",
              "  <tbody>\n",
              "    <tr>\n",
              "      <th>0</th>\n",
              "      <td>0</td>\n",
              "      <td>(0, 1)</td>\n",
              "      <td>0.035823</td>\n",
              "    </tr>\n",
              "    <tr>\n",
              "      <th>1</th>\n",
              "      <td>1</td>\n",
              "      <td>(1, 2)</td>\n",
              "      <td>0.000227</td>\n",
              "    </tr>\n",
              "    <tr>\n",
              "      <th>2</th>\n",
              "      <td>2</td>\n",
              "      <td>(2, 3)</td>\n",
              "      <td>0.000754</td>\n",
              "    </tr>\n",
              "    <tr>\n",
              "      <th>3</th>\n",
              "      <td>3</td>\n",
              "      <td>(3, 4)</td>\n",
              "      <td>0.005169</td>\n",
              "    </tr>\n",
              "    <tr>\n",
              "      <th>4</th>\n",
              "      <td>4</td>\n",
              "      <td>(4, 5)</td>\n",
              "      <td>0.001018</td>\n",
              "    </tr>\n",
              "  </tbody>\n",
              "</table>\n",
              "</div>\n",
              "      <button class=\"colab-df-convert\" onclick=\"convertToInteractive('df-5d32a5d4-c56d-401a-a786-4258bd01b4f6')\"\n",
              "              title=\"Convert this dataframe to an interactive table.\"\n",
              "              style=\"display:none;\">\n",
              "        \n",
              "  <svg xmlns=\"http://www.w3.org/2000/svg\" height=\"24px\"viewBox=\"0 0 24 24\"\n",
              "       width=\"24px\">\n",
              "    <path d=\"M0 0h24v24H0V0z\" fill=\"none\"/>\n",
              "    <path d=\"M18.56 5.44l.94 2.06.94-2.06 2.06-.94-2.06-.94-.94-2.06-.94 2.06-2.06.94zm-11 1L8.5 8.5l.94-2.06 2.06-.94-2.06-.94L8.5 2.5l-.94 2.06-2.06.94zm10 10l.94 2.06.94-2.06 2.06-.94-2.06-.94-.94-2.06-.94 2.06-2.06.94z\"/><path d=\"M17.41 7.96l-1.37-1.37c-.4-.4-.92-.59-1.43-.59-.52 0-1.04.2-1.43.59L10.3 9.45l-7.72 7.72c-.78.78-.78 2.05 0 2.83L4 21.41c.39.39.9.59 1.41.59.51 0 1.02-.2 1.41-.59l7.78-7.78 2.81-2.81c.8-.78.8-2.07 0-2.86zM5.41 20L4 18.59l7.72-7.72 1.47 1.35L5.41 20z\"/>\n",
              "  </svg>\n",
              "      </button>\n",
              "      \n",
              "  <style>\n",
              "    .colab-df-container {\n",
              "      display:flex;\n",
              "      flex-wrap:wrap;\n",
              "      gap: 12px;\n",
              "    }\n",
              "\n",
              "    .colab-df-convert {\n",
              "      background-color: #E8F0FE;\n",
              "      border: none;\n",
              "      border-radius: 50%;\n",
              "      cursor: pointer;\n",
              "      display: none;\n",
              "      fill: #1967D2;\n",
              "      height: 32px;\n",
              "      padding: 0 0 0 0;\n",
              "      width: 32px;\n",
              "    }\n",
              "\n",
              "    .colab-df-convert:hover {\n",
              "      background-color: #E2EBFA;\n",
              "      box-shadow: 0px 1px 2px rgba(60, 64, 67, 0.3), 0px 1px 3px 1px rgba(60, 64, 67, 0.15);\n",
              "      fill: #174EA6;\n",
              "    }\n",
              "\n",
              "    [theme=dark] .colab-df-convert {\n",
              "      background-color: #3B4455;\n",
              "      fill: #D2E3FC;\n",
              "    }\n",
              "\n",
              "    [theme=dark] .colab-df-convert:hover {\n",
              "      background-color: #434B5C;\n",
              "      box-shadow: 0px 1px 3px 1px rgba(0, 0, 0, 0.15);\n",
              "      filter: drop-shadow(0px 1px 2px rgba(0, 0, 0, 0.3));\n",
              "      fill: #FFFFFF;\n",
              "    }\n",
              "  </style>\n",
              "\n",
              "      <script>\n",
              "        const buttonEl =\n",
              "          document.querySelector('#df-5d32a5d4-c56d-401a-a786-4258bd01b4f6 button.colab-df-convert');\n",
              "        buttonEl.style.display =\n",
              "          google.colab.kernel.accessAllowed ? 'block' : 'none';\n",
              "\n",
              "        async function convertToInteractive(key) {\n",
              "          const element = document.querySelector('#df-5d32a5d4-c56d-401a-a786-4258bd01b4f6');\n",
              "          const dataTable =\n",
              "            await google.colab.kernel.invokeFunction('convertToInteractive',\n",
              "                                                     [key], {});\n",
              "          if (!dataTable) return;\n",
              "\n",
              "          const docLinkHtml = 'Like what you see? Visit the ' +\n",
              "            '<a target=\"_blank\" href=https://colab.research.google.com/notebooks/data_table.ipynb>data table notebook</a>'\n",
              "            + ' to learn more about interactive tables.';\n",
              "          element.innerHTML = '';\n",
              "          dataTable['output_type'] = 'display_data';\n",
              "          await google.colab.output.renderOutput(dataTable, element);\n",
              "          const docLink = document.createElement('div');\n",
              "          docLink.innerHTML = docLinkHtml;\n",
              "          element.appendChild(docLink);\n",
              "        }\n",
              "      </script>\n",
              "    </div>\n",
              "  </div>\n",
              "  "
            ]
          },
          "metadata": {},
          "execution_count": 17
        }
      ],
      "source": [
        "# tokenizer 3\n",
        "bigram_3 = bigram_prob(tokenizer_3, train)\n",
        "bigram_3.head()"
      ]
    },
    {
      "cell_type": "markdown",
      "metadata": {
        "id": "M8icmHoiHXkW"
      },
      "source": [
        "<div class=\"alert alert-block alert-danger\" style=\"color:black;background-color:#E7F4FA\">\n",
        "\n",
        "### **1.4 [9 points] PREDICTING THE NEXT WORDS**\n",
        "<br />\n",
        "\n",
        "**1.4.1** - Simulate incomplete messages by dividing each sentence of the test set in two. The first $75\\%$ will represent the received message, and the final $25\\%$ will convey the missing information. You will use this dataset to evaluate the predictions of your language model.\n",
        "    \n",
        "Note that in an n-gram language model, only the last $n-1$ words are used to make a prediction. \n",
        "    \n",
        "For example in the sentence \"A star is an astronomical object consisting of a luminous spheroid of plasma\", the first $75\\%$ is aproximately \"A star is an astronomical object consisting of a\" and $25\\%$ \"luminous spheroid of plasma\".\n",
        "<br /><br />\n",
        "    \n",
        "</div>"
      ]
    },
    {
      "cell_type": "code",
      "execution_count": null,
      "metadata": {
        "id": "yCFq-wyOHXkW"
      },
      "outputs": [],
      "source": [
        "# Your code here\n",
        "def get_fragment(string, fragment=75):\n",
        "  lst = string.split(\" \")\n",
        "  # get either first 75 or last 25\n",
        "  if fragment == 75:\n",
        "    ind = int(len(lst)*0.75)\n",
        "    out = lst[:ind]\n",
        "  else:\n",
        "    ind = int(len(lst)*0.75)\n",
        "    out = lst[ind:]\n",
        "\n",
        "  return \" \".join(out)\n",
        "\n",
        "test_75 = test.apply(lambda x: get_fragment(x))\n",
        "test_25 = test.apply(lambda x: get_fragment(x, fragment=25))"
      ]
    },
    {
      "cell_type": "markdown",
      "metadata": {
        "id": "q668WN8JHXkW"
      },
      "source": [
        "<div class=\"alert alert-block alert-danger\" style=\"color:black;background-color:#E7F4FA\">\n",
        "\n",
        "\n",
        "**1.4.2** - For five sentence fragments of the test set, predict the next token. Append the predicted token to the sentence and predict the next one. Repeat this process until you reach the 10th predicted token or the end of a sentence. Compare your results with the original sentences. Do the results make sense?\n",
        "<br /><br />\n",
        "    \n",
        "</div>"
      ]
    },
    {
      "cell_type": "code",
      "execution_count": null,
      "metadata": {
        "id": "blmHFTEx5WPy"
      },
      "outputs": [],
      "source": [
        "def predict_sent(sentence, bigram, word2idx, idx2word, sample=False):\n",
        "  \"\"\" predict remaining sentence fragment\n",
        "  \"\"\"\n",
        "  predicted_words = []\n",
        "  last_word_idx = sentence[-1]\n",
        "  s = 0\n",
        "\n",
        "  #predict 10 words or until predicting end of sentence\n",
        "  while s <10 and idx2word[last_word_idx] != '</s>':\n",
        "\n",
        "    if idx2word[last_word_idx] == '<UNK>':\n",
        "      next_word_idx = word2idx['<UNK>']\n",
        "      predicted_words.append(idx2word[next_word_idx])\n",
        "      last_word_idx = next_word_idx\n",
        "      s += 1\n",
        "\n",
        "    else:\n",
        "      # filter bigram df to bigram beginning with last word\n",
        "      bigram_filtered = bigram[bigram['bigram'].str[0] == last_word_idx].sort_values(by='prob', ascending=False)\n",
        "\n",
        "        # if not sampling, next word is at index 0 after sorting\n",
        "      if sample==False:\n",
        "        idx = 0\n",
        "\n",
        "        # else, if sampling, next word is sampled from multinomial\n",
        "      else:\n",
        "        idx = np.argmax(np.random.multinomial(1, bigram_filtered['prob']))\n",
        "\n",
        "        # get next word prediction\n",
        "      next_word_idx = bigram_filtered['bigram'].iloc[idx][-1]\n",
        "\n",
        "        # append to list\n",
        "      predicted_words.append(idx2word[next_word_idx])\n",
        "\n",
        "        # update last word\n",
        "      last_word_idx = next_word_idx\n",
        "        # update counter\n",
        "      s += 1\n",
        "\n",
        "  return predicted_words\n",
        "\n",
        "def predict(train, test, tk, sample=False):\n",
        "  word2idx_, idx2word_ = word2idx(tk, train)\n",
        "  bigram = bigram_prob(tk, train)\n",
        "  test_num = numerical_representation(tk, test, train)\n",
        "  predict = []\n",
        "\n",
        "  for sentence in test_num:\n",
        "    if sample==False:\n",
        "      predict.append(predict_sent(sentence, bigram, word2idx_, idx2word_, sample=False))\n",
        "    else:\n",
        "      predict.append(predict_sent(sentence, bigram, word2idx_, idx2word_, sample=True))\n",
        "\n",
        "  return pd.Series(predict)"
      ]
    },
    {
      "cell_type": "markdown",
      "metadata": {
        "id": "EtpZFMe8HXkX"
      },
      "source": [
        "**Tokenizer1**"
      ]
    },
    {
      "cell_type": "code",
      "execution_count": null,
      "metadata": {
        "colab": {
          "base_uri": "https://localhost:8080/"
        },
        "id": "cG05ZHtR1CiI",
        "outputId": "e30238f9-bc41-4041-b117-5b66cd338156"
      },
      "outputs": [
        {
          "output_type": "stream",
          "name": "stdout",
          "text": [
            "Sentence  1\n",
            "First fragment:  <s> the flood control headquarters said some 000 people in  townships in zhangjiajie city have been evacuated\n",
            "Predicted completion:  to <UNK> <UNK> <UNK> <UNK> <UNK> <UNK> <UNK> <UNK> <UNK>\n",
            "Actual last fragment:  because of the flooding threat </s> \n",
            "\n",
            "Sentence  2\n",
            "First fragment:  <s> monsoon rains in pakistan coupled with glacial melting and flash floods have claimed nine lives and affected over 000 people in the provinces of punjab khyber pakhtunkhwa gilgit baltistan and baluchistan causing\n",
            "Predicted completion:  <UNK> <UNK> <UNK> <UNK> <UNK> <UNK> <UNK> <UNK> <UNK> <UNK>\n",
            "Actual last fragment:  urban flooding in the major cities of lahore rawalpindi and islamabad </s> \n",
            "\n",
            "Sentence  3\n",
            "First fragment:  <s> where does pam give card to receive\n",
            "Predicted completion:  <UNK> <UNK> <UNK> <UNK> <UNK> <UNK> <UNK> <UNK> <UNK> <UNK>\n",
            "Actual last fragment:  food  </s> \n",
            "\n",
            "Sentence  4\n",
            "First fragment:  <s> oh my the west side highway is now a canal sandy battery park httptcokhuoamamhurricane survival food peanutbutter fluff cookies popcorn chips candles frankenstorm astoria ny httptcosxkikgtntree\n",
            "Predicted completion:  <UNK> <UNK> <UNK> <UNK> <UNK> <UNK> <UNK> <UNK> <UNK> <UNK>\n",
            "Actual last fragment:  smashed through the railing hurricanesandy frankenstorm bay ridge httptcocroijmq </s> \n",
            "\n",
            "Sentence  5\n",
            "First fragment:  <s> if the azawad become a state party to be seen of course come into play several international dynamics that may also help to end\n",
            "Predicted completion:  of <UNK> <UNK> <UNK> <UNK> <UNK> <UNK> <UNK> <UNK> <UNK>\n",
            "Actual last fragment:  a more federalist than a real secession  </s> \n",
            "\n"
          ]
        }
      ],
      "source": [
        "# get prediction\n",
        "pred_1 = predict(train, test_75[:5], tokenizer_1, sample=False)\n",
        "\n",
        "# print prediction\n",
        "for (sentence, (i, j, k)) in enumerate(zip(test_75[:5], pred_1, test_25[:5])):\n",
        "  print(\"Sentence \", sentence+1)\n",
        "  print(\"First fragment: \", i)\n",
        "  print(\"Predicted completion: \", \" \".join(j))\n",
        "  print(\"Actual last fragment: \", k, \"\\n\")"
      ]
    },
    {
      "cell_type": "markdown",
      "metadata": {
        "id": "pf7IJrptHXkX"
      },
      "source": [
        "**Tokenizer2**"
      ]
    },
    {
      "cell_type": "code",
      "execution_count": null,
      "metadata": {
        "colab": {
          "base_uri": "https://localhost:8080/"
        },
        "id": "rl3aQERDHXkX",
        "outputId": "7b876e53-be0b-48e5-9d1a-c90953bfa4f0"
      },
      "outputs": [
        {
          "output_type": "stream",
          "name": "stdout",
          "text": [
            "Sentence  1\n",
            "First fragment:  <s> the flood control headquarters said some 000 people in  townships in zhangjiajie city have been evacuated\n",
            "Predicted completion:  to the earthquake in the earthquake in the earthquake in\n",
            "Actual last fragment:  because of the flooding threat </s> \n",
            "\n",
            "Sentence  2\n",
            "First fragment:  <s> monsoon rains in pakistan coupled with glacial melting and flash floods have claimed nine lives and affected over 000 people in the provinces of punjab khyber pakhtunkhwa gilgit baltistan and baluchistan causing\n",
            "Predicted completion:  widespread flooding in the earthquake in the earthquake in the\n",
            "Actual last fragment:  urban flooding in the major cities of lahore rawalpindi and islamabad </s> \n",
            "\n",
            "Sentence  3\n",
            "First fragment:  <s> where does pam give card to receive\n",
            "Predicted completion:  the earthquake in the earthquake in the earthquake in the\n",
            "Actual last fragment:  food  </s> \n",
            "\n",
            "Sentence  4\n",
            "First fragment:  <s> oh my the west side highway is now a canal sandy battery park httptcokhuoamamhurricane survival food peanutbutter fluff cookies popcorn chips candles frankenstorm astoria ny httptcosxkikgtntree\n",
            "Predicted completion:  <UNK> <UNK> <UNK> <UNK> <UNK> <UNK> <UNK> <UNK> <UNK> <UNK>\n",
            "Actual last fragment:  smashed through the railing hurricanesandy frankenstorm bay ridge httptcocroijmq </s> \n",
            "\n",
            "Sentence  5\n",
            "First fragment:  <s> if the azawad become a state party to be seen of course come into play several international dynamics that may also help to end\n",
            "Predicted completion:  of the earthquake in the earthquake in the earthquake in\n",
            "Actual last fragment:  a more federalist than a real secession  </s> \n",
            "\n"
          ]
        }
      ],
      "source": [
        "# get prediction\n",
        "pred_2 = predict(train, test_75[:5], tokenizer_2, sample=False)\n",
        "\n",
        "# print prediction\n",
        "for (sentence, (i, j, k)) in enumerate(zip(test_75[:5], pred_2, test_25[:5])):\n",
        "  print(\"Sentence \", sentence+1)\n",
        "  print(\"First fragment: \", i)\n",
        "  print(\"Predicted completion: \", \" \".join(j))\n",
        "  print(\"Actual last fragment: \", k, \"\\n\")"
      ]
    },
    {
      "cell_type": "markdown",
      "metadata": {
        "id": "aV0jyNHFHXkX"
      },
      "source": [
        "**Tokenizer3**"
      ]
    },
    {
      "cell_type": "code",
      "execution_count": null,
      "metadata": {
        "colab": {
          "base_uri": "https://localhost:8080/"
        },
        "id": "wMUlZeAhHXkX",
        "outputId": "f5b0ad6c-da16-437b-ce07-f5b45d773b76"
      },
      "outputs": [
        {
          "output_type": "stream",
          "name": "stdout",
          "text": [
            "Sentence  1\n",
            "First fragment:  <s> the flood control headquarters said some 000 people in  townships in zhangjiajie city have been evacuated\n",
            "Predicted completion:  </s>\n",
            "Actual last fragment:  because of the flooding threat </s> \n",
            "\n",
            "Sentence  2\n",
            "First fragment:  <s> monsoon rains in pakistan coupled with glacial melting and flash floods have claimed nine lives and affected over 000 people in the provinces of punjab khyber pakhtunkhwa gilgit baltistan and baluchistan causing\n",
            "Predicted completion:  </s>\n",
            "Actual last fragment:  urban flooding in the major cities of lahore rawalpindi and islamabad </s> \n",
            "\n",
            "Sentence  3\n",
            "First fragment:  <s> where does pam give card to receive\n",
            "Predicted completion:  the earthquake in the earthquake in the earthquake in the\n",
            "Actual last fragment:  food  </s> \n",
            "\n",
            "Sentence  4\n",
            "First fragment:  <s> oh my the west side highway is now a canal sandy battery park httptcokhuoamamhurricane survival food peanutbutter fluff cookies popcorn chips candles frankenstorm astoria ny httptcosxkikgtntree\n",
            "Predicted completion:  <UNK> <UNK> <UNK> <UNK> <UNK> <UNK> <UNK> <UNK> <UNK> <UNK>\n",
            "Actual last fragment:  smashed through the railing hurricanesandy frankenstorm bay ridge httptcocroijmq </s> \n",
            "\n",
            "Sentence  5\n",
            "First fragment:  <s> if the azawad become a state party to be seen of course come into play several international dynamics that may also help to end\n",
            "Predicted completion:  of the earthquake in the earthquake in the earthquake in\n",
            "Actual last fragment:  a more federalist than a real secession  </s> \n",
            "\n"
          ]
        }
      ],
      "source": [
        "pred_3 = predict(train, test_75[:5], tokenizer_3, sample=False)\n",
        "\n",
        "# print prediction\n",
        "for (sentence, (i, j, k)) in enumerate(zip(test_75[:5], pred_3, test_25[:5])):\n",
        "  print(\"Sentence \", sentence+1)\n",
        "  print(\"First fragment: \", i)\n",
        "  print(\"Predicted completion: \", \" \".join(j))\n",
        "  print(\"Actual last fragment: \", k, \"\\n\")"
      ]
    },
    {
      "cell_type": "markdown",
      "source": [
        "**Answer**\n",
        "\n",
        "Tokenizer 1 predicts \"UNK\" for all sentences because the vocabulary size is very small. The other tokernizers do a little better but the predictions are still bad compared to the real sentences as they are based on pure word frequency in the data and have very little context information."
      ],
      "metadata": {
        "id": "f7rXqHwvbNNe"
      }
    },
    {
      "cell_type": "markdown",
      "metadata": {
        "id": "5ebMOukaHXkY"
      },
      "source": [
        "<div class=\"alert alert-block alert-danger\" style=\"color:black;background-color:#E7F4FA\">\n",
        "\n",
        "**1.4.3** - Repeat the same exercise, but this time, the next token will be _sampled_ from a distribution given by the bigram frequency. Are the results better?\n",
        "\n",
        "In a model of two bigrams with frequencies 0.7 and 0.3, a deterministic prediction will only predict the first bigram. Sampling from a distribution, will enable the model to predict the second bigram with a probability of 0.3. In this way we can still predict infrequent tokens. \n",
        "<br /><br />\n",
        "    \n",
        "</div>"
      ]
    },
    {
      "cell_type": "markdown",
      "metadata": {
        "id": "ACZ7LVm0HXkY"
      },
      "source": [
        "**Tokenizer_1**"
      ]
    },
    {
      "cell_type": "code",
      "execution_count": null,
      "metadata": {
        "colab": {
          "base_uri": "https://localhost:8080/"
        },
        "id": "P9pISmymHXkY",
        "outputId": "f3a29909-329e-4d17-cc30-4c75f4621d34"
      },
      "outputs": [
        {
          "output_type": "stream",
          "name": "stdout",
          "text": [
            "Sentence  1\n",
            "First fragment:  <s> the flood control headquarters said some 000 people in  townships in zhangjiajie city have been evacuated\n",
            "Predicted completion:  power and the evacuation team was <UNK> <UNK> <UNK> <UNK>\n",
            "Actual last fragment:  because of the flooding threat </s> \n",
            "\n",
            "Sentence  2\n",
            "First fragment:  <s> monsoon rains in pakistan coupled with glacial melting and flash floods have claimed nine lives and affected over 000 people in the provinces of punjab khyber pakhtunkhwa gilgit baltistan and baluchistan causing\n",
            "Predicted completion:  temporary school thank of flash about such times she came\n",
            "Actual last fragment:  urban flooding in the major cities of lahore rawalpindi and islamabad </s> \n",
            "\n",
            "Sentence  3\n",
            "First fragment:  <s> where does pam give card to receive\n",
            "Predicted completion:  cash back against <UNK> <UNK> <UNK> <UNK> <UNK> <UNK> <UNK>\n",
            "Actual last fragment:  food  </s> \n",
            "\n",
            "Sentence  4\n",
            "First fragment:  <s> oh my the west side highway is now a canal sandy battery park httptcokhuoamamhurricane survival food peanutbutter fluff cookies popcorn chips candles frankenstorm astoria ny httptcosxkikgtntree\n",
            "Predicted completion:  <UNK> <UNK> <UNK> <UNK> <UNK> <UNK> <UNK> <UNK> <UNK> <UNK>\n",
            "Actual last fragment:  smashed through the railing hurricanesandy frankenstorm bay ridge httptcocroijmq </s> \n",
            "\n",
            "Sentence  5\n",
            "First fragment:  <s> if the azawad become a state party to be seen of course come into play several international dynamics that may also help to end\n",
            "Predicted completion:  us united nations <UNK> <UNK> <UNK> <UNK> <UNK> <UNK> <UNK>\n",
            "Actual last fragment:  a more federalist than a real secession  </s> \n",
            "\n"
          ]
        }
      ],
      "source": [
        "# Your code here\n",
        "pred_1 = predict(train, test_75[:5], tokenizer_1, sample=True)\n",
        "\n",
        "# print prediction\n",
        "for (sentence, (i, j, k)) in enumerate(zip(test_75[:5], pred_1, test_25[:5])):\n",
        "  print(\"Sentence \", sentence+1)\n",
        "  print(\"First fragment: \", i)\n",
        "  print(\"Predicted completion: \", \" \".join(j))\n",
        "  print(\"Actual last fragment: \", k, \"\\n\")"
      ]
    },
    {
      "cell_type": "markdown",
      "metadata": {
        "id": "7w_gG_4AHXkY"
      },
      "source": [
        "**Tokenizer_2**"
      ]
    },
    {
      "cell_type": "code",
      "execution_count": null,
      "metadata": {
        "colab": {
          "base_uri": "https://localhost:8080/"
        },
        "id": "eqYkoDt4HXkY",
        "outputId": "67838a2b-037e-42ee-9e40-c96e079e6951"
      },
      "outputs": [
        {
          "output_type": "stream",
          "name": "stdout",
          "text": [
            "Sentence  1\n",
            "First fragment:  <s> the flood control headquarters said some 000 people in  townships in zhangjiajie city have been evacuated\n",
            "Predicted completion:  power off its regional allies are barely surviving we change\n",
            "Actual last fragment:  because of the flooding threat </s> \n",
            "\n",
            "Sentence  2\n",
            "First fragment:  <s> monsoon rains in pakistan coupled with glacial melting and flash floods have claimed nine lives and affected over 000 people in the provinces of punjab khyber pakhtunkhwa gilgit baltistan and baluchistan causing\n",
            "Predicted completion:  reactors to emro </s>\n",
            "Actual last fragment:  urban flooding in the major cities of lahore rawalpindi and islamabad </s> \n",
            "\n",
            "Sentence  3\n",
            "First fragment:  <s> where does pam give card to receive\n",
            "Predicted completion:  bread provided another air i dothe despair the massive amount\n",
            "Actual last fragment:  food  </s> \n",
            "\n",
            "Sentence  4\n",
            "First fragment:  <s> oh my the west side highway is now a canal sandy battery park httptcokhuoamamhurricane survival food peanutbutter fluff cookies popcorn chips candles frankenstorm astoria ny httptcosxkikgtntree\n",
            "Predicted completion:  <UNK> <UNK> <UNK> <UNK> <UNK> <UNK> <UNK> <UNK> <UNK> <UNK>\n",
            "Actual last fragment:  smashed through the railing hurricanesandy frankenstorm bay ridge httptcocroijmq </s> \n",
            "\n",
            "Sentence  5\n",
            "First fragment:  <s> if the azawad become a state party to be seen of course come into play several international dynamics that may also help to end\n",
            "Predicted completion:  sudans civil engineer  ten mile run w spongebob lmao\n",
            "Actual last fragment:  a more federalist than a real secession  </s> \n",
            "\n"
          ]
        }
      ],
      "source": [
        "pred_2 = predict(train, test_75[:5], tokenizer_2, sample=True)\n",
        "\n",
        "# print prediction\n",
        "for (sentence, (i, j, k)) in enumerate(zip(test_75[:5], pred_2, test_25[:5])):\n",
        "  print(\"Sentence \", sentence+1)\n",
        "  print(\"First fragment: \", i)\n",
        "  print(\"Predicted completion: \", \" \".join(j))\n",
        "  print(\"Actual last fragment: \", k, \"\\n\")"
      ]
    },
    {
      "cell_type": "markdown",
      "metadata": {
        "id": "BB4ESZF9HXkY"
      },
      "source": [
        "**Tokenizer_3**"
      ]
    },
    {
      "cell_type": "code",
      "execution_count": null,
      "metadata": {
        "colab": {
          "base_uri": "https://localhost:8080/"
        },
        "id": "88g1jRSMHXkZ",
        "outputId": "be418fe6-2aea-48e6-e4a6-bd63a90eb84b"
      },
      "outputs": [
        {
          "output_type": "stream",
          "name": "stdout",
          "text": [
            "Sentence  1\n",
            "First fragment:  <s> the flood control headquarters said some 000 people in  townships in zhangjiajie city have been evacuated\n",
            "Predicted completion:  mt sinabungs tectonic quakes construc tion of croplivestock and alur\n",
            "Actual last fragment:  because of the flooding threat </s> \n",
            "\n",
            "Sentence  2\n",
            "First fragment:  <s> monsoon rains in pakistan coupled with glacial melting and flash floods have claimed nine lives and affected over 000 people in the provinces of punjab khyber pakhtunkhwa gilgit baltistan and baluchistan causing\n",
            "Predicted completion:  safer migra tion  safer migra tion of croplivestock and\n",
            "Actual last fragment:  urban flooding in the major cities of lahore rawalpindi and islamabad </s> \n",
            "\n",
            "Sentence  3\n",
            "First fragment:  <s> where does pam give card to receive\n",
            "Predicted completion:  bread provid ing dead so now func tion  </s>\n",
            "Actual last fragment:  food  </s> \n",
            "\n",
            "Sentence  4\n",
            "First fragment:  <s> oh my the west side highway is now a canal sandy battery park httptcokhuoamamhurricane survival food peanutbutter fluff cookies popcorn chips candles frankenstorm astoria ny httptcosxkikgtntree\n",
            "Predicted completion:  <UNK> <UNK> <UNK> <UNK> <UNK> <UNK> <UNK> <UNK> <UNK> <UNK>\n",
            "Actual last fragment:  smashed through the railing hurricanesandy frankenstorm bay ridge httptcocroijmq </s> \n",
            "\n",
            "Sentence  5\n",
            "First fragment:  <s> if the azawad become a state party to be seen of course come into play several international dynamics that may also help to end\n",
            "Predicted completion:  sudans civil engineer  that take concert sandyhelp </s>\n",
            "Actual last fragment:  a more federalist than a real secession  </s> \n",
            "\n"
          ]
        }
      ],
      "source": [
        "pred_3 = predict(train, test_75[:5], tokenizer_3, sample=True)\n",
        "\n",
        "# print prediction\n",
        "for (sentence, (i, j, k)) in enumerate(zip(test_75[:5], pred_3, test_25[:5])):\n",
        "  print(\"Sentence \", sentence+1)\n",
        "  print(\"First fragment: \", i)\n",
        "  print(\"Predicted completion: \", \" \".join(j))\n",
        "  print(\"Actual last fragment: \", k, \"\\n\")"
      ]
    },
    {
      "cell_type": "markdown",
      "source": [
        "**Answer**\n",
        "\n",
        "The first tokenizer is still the worst-performing. The results are different but not neccessarily better than the previous version."
      ],
      "metadata": {
        "id": "czBNEmAPbw1r"
      }
    },
    {
      "cell_type": "markdown",
      "metadata": {
        "id": "1ZcTt2wsHXkZ"
      },
      "source": [
        "<div class=\"alert alert-block alert-danger\" style=\"color:black;background-color:#E7F4FA\">\n",
        "\n",
        "### **1.5 [6 points] EVALUATE THE LANGUAGE MODELS**\n",
        "<br />\n",
        "\n",
        "    \n",
        "**1.5.1** - For each of your models, compute the average perplexity on the test set (These are the complete test messages as tokenized in 1.3.1, **not** the incomplete test messages from 1.4.1). If the tokens of the test set are not present in the train split, define a minimum probability. Based on this metric, which model is better?\n",
        "<br /><br />\n",
        "    \n",
        "</div>"
      ]
    },
    {
      "cell_type": "code",
      "execution_count": null,
      "metadata": {
        "id": "kkGe0gdU81QU"
      },
      "outputs": [],
      "source": [
        "from tqdm.notebook import tqdm_notebook"
      ]
    },
    {
      "cell_type": "code",
      "execution_count": null,
      "metadata": {
        "id": "yt8RfxTJHXkZ"
      },
      "outputs": [],
      "source": [
        "# Your code here\n",
        "def perplexity(train, test, tk):\n",
        "  bigram_df = bigram_prob(tk, train)\n",
        "  test_num = numerical_representation(tk, test, train)\n",
        "  pp_list = []\n",
        "  for i, sent  in tqdm_notebook(enumerate(test_num), total=len(test_num)):\n",
        "    bigram_list = bigram(sent)\n",
        "    if len(bigram_list) > 0:\n",
        "      pp = 0\n",
        "      for b in bigram_list:\n",
        "        if b in bigram_df['bigram'].tolist():\n",
        "          pp += np.log(bigram_df[bigram_df['bigram'] == b]['prob'].values[0])\n",
        "        else:\n",
        "          pp += np.log(1/len(tk(train)))\n",
        "      pp = np.exp(pp*(-1/(len(sent))))\n",
        "      pp_list.append(pp)\n",
        "    else:\n",
        "      pass\n",
        "  return np.mean(pp_list)"
      ]
    },
    {
      "cell_type": "code",
      "execution_count": null,
      "metadata": {
        "colab": {
          "base_uri": "https://localhost:8080/",
          "height": 165,
          "referenced_widgets": [
            "2ce0c910dd174fab9e96c554de6a5134",
            "34dd2c4a91074b5f990a4e8b06c8f253",
            "7faf448197974acf9c1b9dbc5e069ceb",
            "19b17b3bf8d346aa9cf1eb2d294a18cd",
            "99607531dd9a4b1297421b6cd75f690b",
            "dd81c4b826ef4ea597444b40cfd65f71",
            "e3acd1bffe864a248819ff11816825dd",
            "130ad88ebdf14cec94257cfc04e45495",
            "87dbfca388804b4b96894df934d1e85d",
            "77d60bb07f8a41c7898424bcda5041f0",
            "4d83e0742c2548af8ef7bd1791345086",
            "79033fd6811d425690991cb44e804fcd",
            "a6011d0eb98a4e719bea34f0b05e5a24",
            "fd62345da8ee4545b5c4c50b35a3d400",
            "0df1a205a7eb4b608220872fa56bf409",
            "356382f8e9504f4d819230009432c7d5",
            "f1716c8754264effbfc3e4d7e8bc39da",
            "3dca9d153ec44a499879c659c4fe9ecb",
            "028f929530464dfab03e68e13d63e325",
            "4cd3c8de723c48db8cdb9f13d786f6c7",
            "b213b91d9ebd46a19c95b4fe1e18de5e",
            "c5c361b5cc6e43d4974ebb39bd200e45",
            "38f5fd76d9974b7f9ba5f5c3d1c243f1",
            "d04bf9074fe6412ca0b08c7371daa2ad",
            "f5b2f6eae268417685679c485aeb9e4a",
            "520b2d4ab2b14b3ab58504d901d61297",
            "855b2e9611c24c54804f59076a9d05d4",
            "dd5c7ff8d4084b6c9e7533c535fedfed",
            "9500131921654795a94945c855f01b8b",
            "10c47d238fd1428fbaa39ef28698ebac",
            "6952e00b0bcb40e3aa1b516990d0e14e",
            "7f951a1b3c3a46d385ee85a08f301124",
            "c138e7ca6f9249c69cc644d27c636d7d"
          ]
        },
        "id": "arftVSwUxdk-",
        "outputId": "447389f6-61f6-4cc7-a4df-28d67706206b"
      },
      "outputs": [
        {
          "data": {
            "application/vnd.jupyter.widget-view+json": {
              "model_id": "2ce0c910dd174fab9e96c554de6a5134",
              "version_major": 2,
              "version_minor": 0
            },
            "text/plain": [
              "  0%|          | 0/1053 [00:00<?, ?it/s]"
            ]
          },
          "metadata": {},
          "output_type": "display_data"
        },
        {
          "data": {
            "application/vnd.jupyter.widget-view+json": {
              "model_id": "79033fd6811d425690991cb44e804fcd",
              "version_major": 2,
              "version_minor": 0
            },
            "text/plain": [
              "  0%|          | 0/1053 [00:00<?, ?it/s]"
            ]
          },
          "metadata": {},
          "output_type": "display_data"
        },
        {
          "data": {
            "application/vnd.jupyter.widget-view+json": {
              "model_id": "38f5fd76d9974b7f9ba5f5c3d1c243f1",
              "version_major": 2,
              "version_minor": 0
            },
            "text/plain": [
              "  0%|          | 0/1053 [00:00<?, ?it/s]"
            ]
          },
          "metadata": {},
          "output_type": "display_data"
        },
        {
          "output_type": "stream",
          "name": "stdout",
          "text": [
            "Perplexity 1:  56.278831873858365\n",
            "Perplexity 2:  3496.0359841170325\n",
            "Perplexity 3:  1646.3356487014084\n"
          ]
        }
      ],
      "source": [
        "pp_1 = perplexity(train, test, tokenizer_1)\n",
        "pp_2 = perplexity(train, test, tokenizer_2)\n",
        "pp_3 = perplexity(train, test, tokenizer_3)\n",
        "print(\"Perplexity 1: \", pp_1)\n",
        "print(\"Perplexity 2: \", pp_2)\n",
        "print(\"Perplexity 3: \", pp_3)"
      ]
    },
    {
      "cell_type": "code",
      "execution_count": null,
      "metadata": {
        "colab": {
          "base_uri": "https://localhost:8080/"
        },
        "id": "VcXtee2x0hku",
        "outputId": "51b62f87-bd9c-4968-d3e7-b62456beefff"
      },
      "outputs": [
        {
          "output_type": "execute_result",
          "data": {
            "text/plain": [
              "56.278831873858365"
            ]
          },
          "metadata": {},
          "execution_count": 29
        }
      ],
      "source": [
        "pp_1"
      ]
    },
    {
      "cell_type": "markdown",
      "metadata": {
        "id": "QyHHj10DHXkZ"
      },
      "source": [
        "<div class=\"alert alert-block alert-danger\" style=\"color:black;background-color:#E7F4FA\">\n",
        "\n",
        "**1.5.2** - Given the perplexities, which model do you think is better? Why do you think so? Does this reflect the quality of the prediction as seen in part 1.4? \n",
        " What is the effect of UNK words?\n",
        "<br /><br />\n",
        "    \n",
        "</div>"
      ]
    },
    {
      "cell_type": "markdown",
      "metadata": {
        "id": "wSMZ8TueHXkZ"
      },
      "source": [
        "**Answer**\n",
        "\n",
        "According to the perplexity score, the first model is the best as it has the lowest perplexity score. This does not reflect the quality of the prediction as seen in part 1.4. Given how the perplexity is calculated as a product of probability, and tokenizer 1 has the lowest vocab size and thus its bigrams have higher probablity than the other models. "
      ]
    },
    {
      "cell_type": "markdown",
      "metadata": {
        "id": "QLx_dIVbwW_y"
      },
      "source": [
        "___\n",
        "___\n"
      ]
    },
    {
      "cell_type": "markdown",
      "metadata": {
        "id": "5s8tzWckHXkf"
      },
      "source": [
        "## **PART 2 [35 points] : Language Modelling using RNNs**\n",
        "<br />    \n",
        "\n",
        "In this part of the homework, you are to build and train a new language model. For this, we will be using Prof. Protopapas's famous texts which end with `...` for prediction. Here, you will preprocess a data corpus and train your simple RNN network with it. With this network you will try to predict what he meant when he typed `...`. For this task we will use a form of transfer learning: first training a network on the larger dataset, such as IMDB reviews, and then 'fine tuning' the network to the professor's texts.\n",
        "<br /><br />\n",
        "    \n",
        "</div>"
      ]
    },
    {
      "cell_type": "markdown",
      "metadata": {
        "id": "AWrWbR1eHXkf"
      },
      "source": [
        "## **PART 2: Questions**\n",
        "<br />\n",
        "\n",
        "### **2.1 [2 points] PREPROCESS THE DATASET**\n",
        "<br />\n",
        "\n",
        "**2.1.1** - Read in the dataset `imdb.csv`. Create a new dataframe by splitting each review into individual sentences. The sentences can be delimited by different characters such as period and question mark (eroteme). Call this column as `text` in the new dataframe.\n",
        "<br /><br />\n",
        "\n",
        "**2.1.2** - Define a function `clean_data` that takes the new dataframe as input and removes all html tags and non-alphabetic characters from the dataframe. Additionally, convert all characters to lower case. Remove all the sentences where the number of words is less than 10 and higher than 30. Finally, add the start token `<s>` and the end token `</s>` to every sentence (row) in the dataframe. Return the processed the dataframe. \n",
        "<br /><br />\n",
        "\n",
        "### **2.2 [2 points] TOKENIZE THE DATASET**\n",
        "<br />\n",
        "\n",
        "**2.2.1** - Instantiate a Tokenizer for the dataset using `tensorflow.keras.preprocessing.text.Tokenizer` with a vocabulary size of 5000. Do **not** use an additional token for unknown, out of vocabulary words (oov). That is, you will **not** have the equivalent of the `<UNK>` token.\n",
        "<br /><br />\n",
        "\n",
        "**2.2.2** - Fit the tokenizer on the dataset and get the sequence representation of each sentence.\n",
        "<br /><br />\n",
        "\n",
        "### **2.3 [10 points] MODELLING THE DATA**\n",
        "<br />\n",
        "\n",
        "**2.3.1** - The first step is to split the dataset into the predictors ($X$) and the response ($Y$). The predictors for each observation (sentence) are all tokens in that sentence _except_ the **last** token. The response for a given sentence is all tokens in that sentence _except_ the **first**. Using `tf.keras.preprocessing.sequence.pad_sequences` post-pad each sequence in $X$ and $Y$ to a length of 30.\n",
        "    \n",
        "**Hint:** You may need to use `tf.convert_to_tensor` on the objects returned by the padding operation. \n",
        "```\n",
        "Example:\n",
        "if token for <s> = 1 and </s> = 2\n",
        "sentence_i = [1, 48, 2498, 22, 16, 4, 4, 1554, 149, 14, 22, 2]\n",
        "x_i = [1, 48, 2498, 22, 16, 4, 4, 1554, 149, 14, 2, 0, ..., 0]\n",
        "y_i = [1, 2498, 22, 16, 4, 4, 1554, 149, 14, 22, 2, 0, ..., 0]\n",
        "```\n",
        "<br /><br />\n",
        "\n",
        "**2.3.2** - Define a simple RNN model that has an embedding layer with an embedding dimension of 300. You can define any number of RNN layers. The output of the RNN model will be a dense layer with size of the vocabulary and softmax activation. Using the functional API here may make it easier to reuse parts of the network later on.\n",
        "<br /><br />\n",
        "\n",
        "**2.3.3** - Train the model with the $X$ and $Y$ data formed in 2.3.1. Use a validation split of 0.2. The choice of number epochs and batch size is left to you.\n",
        "<br /><br />\n",
        "\n",
        "**2.3.4** - Plot the train and validation loss from the training history.\n",
        "<br /><br />\n",
        "\n",
        "### **2.4 [9 points] PREDICTING THE NEXT WORD**\n",
        "<br />\n",
        "\n",
        "**2.4.1** - Read the dataset `pp_text.csv`. Add the start and end tokens to each line and tokenize it. Convert each sentence to a sequence vector and post-pad to a length of 30. This will be the input for the prediction phase.\n",
        "<br /><br />\n",
        "\n",
        "**2.4.2** - For predicting the next word, use the trained RNN model from above. \n",
        "\n",
        "NOTE - Based on your implementation, the output of the RNN model might have to be different from that of your trained network. You can make use of Keras function API for this.\n",
        "<br /><br />\n",
        "\n",
        "**2.4.3** - Choose any sentence from the list of Pavlos' texts to predict the next word. Input this to the RNN model built for prediction and print the predicted word. Try this out with multiple sentences.\n",
        "<br /><br />\n",
        "\n",
        "**2.4.4** - Do you notice any pattern in the predicted words? Do they seem approriate to the context of the texts as you understand it? What do you attribute this discrepency to? How can you resolve it?\n",
        "\n",
        "Answer in less than 150 words.\n",
        "<br /><br />\n",
        "\n",
        "### **2.5 [6 points] TRAINING AND PREDICTING WITH A DIFFERENT DATASET**\n",
        "<br />\n",
        "\n",
        "**2.5.1** - Read the dataset `cleaned_sarcasm.csv`. This dataset has been preprocessed for you, all you need to do is tokenize, convert to sequence and pad it, similar to 2.2.1, 2.2.2 and 2.3.1.\n",
        "<br /><br />\n",
        "\n",
        "**2.5.2** - Train your RNN model with this data and plot the train and validation trace plot. This part is similar to 2.3.2, 2.3.3 and 2.3.4.\n",
        "<br /><br />\n",
        "\n",
        "**2.5.3** - Repeat 2.4.1, 2.4.2 and 2.4.3 with the RNN model trained using the new dataset.\n",
        "<br /><br />\n",
        "\n",
        "**2.5.4** - How do the results with the new dataset compare to the previous ones? Why do you think so? \n",
        "\n",
        "Answer in less than 100 words.\n",
        "<br /><br />\n",
        "    \n",
        "### **2.6 [3 points] COMPLETING THE SENTENCE**\n",
        "<br />\n",
        "\n",
        "**2.6.1** Until now we have predicted a single word for a given sentence. However, what if he meant more than one word when he typed in `...`\n",
        "\n",
        "We will now predict multiple words for each input sentence. To do this we will first predict one word, append this word to the input text and then predict one more with the updated input. Continue doing this for 5 words or until the end token `</s>` (whichever comes first). \n",
        "<br /><br />\n",
        "\n",
        "### **2.7 [3 points] HOMEWORK QUIZ**\n",
        "<br />\n",
        "After attempting this part of the homework, answer the questions on edStem. All the questions depend on this part of the homework and you will not be able to answer them without attempting this part.\n",
        "\n",
        "<br />\n",
        "\n"
      ]
    },
    {
      "cell_type": "markdown",
      "metadata": {
        "id": "BaQ8lfVowoy3"
      },
      "source": [
        "---"
      ]
    },
    {
      "cell_type": "markdown",
      "metadata": {
        "id": "898ka8eIyMSY"
      },
      "source": [
        "## **PART 2: Solutions**"
      ]
    },
    {
      "cell_type": "markdown",
      "metadata": {
        "id": "GfUtlwvKHXkg"
      },
      "source": [
        "<div class=\"alert alert-block alert-danger\" style=\"color:black;background-color:#E7F4FA\">\n",
        "    \n",
        "### **2.1 [2 points] PREPROCESS THE DATASET**\n",
        "<br />    \n",
        "\n",
        "**2.1.1** - Read in the dataset `imdb.csv`. Create a new dataframe by splitting each review into individual sentences. The sentences can be delimited by different characters such as period and question mark (eroteme). Call this column as `text` in the new dataframe.\n",
        "</div>"
      ]
    },
    {
      "cell_type": "code",
      "execution_count": null,
      "metadata": {
        "colab": {
          "base_uri": "https://localhost:8080/",
          "height": 206
        },
        "id": "B1HuszSR0_C7",
        "outputId": "0d179370-c649-4dbc-a842-a2e3e8aa6bc4"
      },
      "outputs": [
        {
          "output_type": "execute_result",
          "data": {
            "text/plain": [
              "                                                text  polarity\n",
              "0  first think another Disney movie, might good, ...         1\n",
              "1  Put aside Dr. House repeat missed, Desperate H...         0\n",
              "2  big fan Stephen King's work, film made even gr...         1\n",
              "3  watched horrid thing TV. Needless say one movi...         0\n",
              "4  truly enjoyed film. acting terrific plot. Jeff...         1"
            ],
            "text/html": [
              "\n",
              "  <div id=\"df-c37915f7-1caa-4a44-9448-080a9ea15843\">\n",
              "    <div class=\"colab-df-container\">\n",
              "      <div>\n",
              "<style scoped>\n",
              "    .dataframe tbody tr th:only-of-type {\n",
              "        vertical-align: middle;\n",
              "    }\n",
              "\n",
              "    .dataframe tbody tr th {\n",
              "        vertical-align: top;\n",
              "    }\n",
              "\n",
              "    .dataframe thead th {\n",
              "        text-align: right;\n",
              "    }\n",
              "</style>\n",
              "<table border=\"1\" class=\"dataframe\">\n",
              "  <thead>\n",
              "    <tr style=\"text-align: right;\">\n",
              "      <th></th>\n",
              "      <th>text</th>\n",
              "      <th>polarity</th>\n",
              "    </tr>\n",
              "  </thead>\n",
              "  <tbody>\n",
              "    <tr>\n",
              "      <th>0</th>\n",
              "      <td>first think another Disney movie, might good, ...</td>\n",
              "      <td>1</td>\n",
              "    </tr>\n",
              "    <tr>\n",
              "      <th>1</th>\n",
              "      <td>Put aside Dr. House repeat missed, Desperate H...</td>\n",
              "      <td>0</td>\n",
              "    </tr>\n",
              "    <tr>\n",
              "      <th>2</th>\n",
              "      <td>big fan Stephen King's work, film made even gr...</td>\n",
              "      <td>1</td>\n",
              "    </tr>\n",
              "    <tr>\n",
              "      <th>3</th>\n",
              "      <td>watched horrid thing TV. Needless say one movi...</td>\n",
              "      <td>0</td>\n",
              "    </tr>\n",
              "    <tr>\n",
              "      <th>4</th>\n",
              "      <td>truly enjoyed film. acting terrific plot. Jeff...</td>\n",
              "      <td>1</td>\n",
              "    </tr>\n",
              "  </tbody>\n",
              "</table>\n",
              "</div>\n",
              "      <button class=\"colab-df-convert\" onclick=\"convertToInteractive('df-c37915f7-1caa-4a44-9448-080a9ea15843')\"\n",
              "              title=\"Convert this dataframe to an interactive table.\"\n",
              "              style=\"display:none;\">\n",
              "        \n",
              "  <svg xmlns=\"http://www.w3.org/2000/svg\" height=\"24px\"viewBox=\"0 0 24 24\"\n",
              "       width=\"24px\">\n",
              "    <path d=\"M0 0h24v24H0V0z\" fill=\"none\"/>\n",
              "    <path d=\"M18.56 5.44l.94 2.06.94-2.06 2.06-.94-2.06-.94-.94-2.06-.94 2.06-2.06.94zm-11 1L8.5 8.5l.94-2.06 2.06-.94-2.06-.94L8.5 2.5l-.94 2.06-2.06.94zm10 10l.94 2.06.94-2.06 2.06-.94-2.06-.94-.94-2.06-.94 2.06-2.06.94z\"/><path d=\"M17.41 7.96l-1.37-1.37c-.4-.4-.92-.59-1.43-.59-.52 0-1.04.2-1.43.59L10.3 9.45l-7.72 7.72c-.78.78-.78 2.05 0 2.83L4 21.41c.39.39.9.59 1.41.59.51 0 1.02-.2 1.41-.59l7.78-7.78 2.81-2.81c.8-.78.8-2.07 0-2.86zM5.41 20L4 18.59l7.72-7.72 1.47 1.35L5.41 20z\"/>\n",
              "  </svg>\n",
              "      </button>\n",
              "      \n",
              "  <style>\n",
              "    .colab-df-container {\n",
              "      display:flex;\n",
              "      flex-wrap:wrap;\n",
              "      gap: 12px;\n",
              "    }\n",
              "\n",
              "    .colab-df-convert {\n",
              "      background-color: #E8F0FE;\n",
              "      border: none;\n",
              "      border-radius: 50%;\n",
              "      cursor: pointer;\n",
              "      display: none;\n",
              "      fill: #1967D2;\n",
              "      height: 32px;\n",
              "      padding: 0 0 0 0;\n",
              "      width: 32px;\n",
              "    }\n",
              "\n",
              "    .colab-df-convert:hover {\n",
              "      background-color: #E2EBFA;\n",
              "      box-shadow: 0px 1px 2px rgba(60, 64, 67, 0.3), 0px 1px 3px 1px rgba(60, 64, 67, 0.15);\n",
              "      fill: #174EA6;\n",
              "    }\n",
              "\n",
              "    [theme=dark] .colab-df-convert {\n",
              "      background-color: #3B4455;\n",
              "      fill: #D2E3FC;\n",
              "    }\n",
              "\n",
              "    [theme=dark] .colab-df-convert:hover {\n",
              "      background-color: #434B5C;\n",
              "      box-shadow: 0px 1px 3px 1px rgba(0, 0, 0, 0.15);\n",
              "      filter: drop-shadow(0px 1px 2px rgba(0, 0, 0, 0.3));\n",
              "      fill: #FFFFFF;\n",
              "    }\n",
              "  </style>\n",
              "\n",
              "      <script>\n",
              "        const buttonEl =\n",
              "          document.querySelector('#df-c37915f7-1caa-4a44-9448-080a9ea15843 button.colab-df-convert');\n",
              "        buttonEl.style.display =\n",
              "          google.colab.kernel.accessAllowed ? 'block' : 'none';\n",
              "\n",
              "        async function convertToInteractive(key) {\n",
              "          const element = document.querySelector('#df-c37915f7-1caa-4a44-9448-080a9ea15843');\n",
              "          const dataTable =\n",
              "            await google.colab.kernel.invokeFunction('convertToInteractive',\n",
              "                                                     [key], {});\n",
              "          if (!dataTable) return;\n",
              "\n",
              "          const docLinkHtml = 'Like what you see? Visit the ' +\n",
              "            '<a target=\"_blank\" href=https://colab.research.google.com/notebooks/data_table.ipynb>data table notebook</a>'\n",
              "            + ' to learn more about interactive tables.';\n",
              "          element.innerHTML = '';\n",
              "          dataTable['output_type'] = 'display_data';\n",
              "          await google.colab.output.renderOutput(dataTable, element);\n",
              "          const docLink = document.createElement('div');\n",
              "          docLink.innerHTML = docLinkHtml;\n",
              "          element.appendChild(docLink);\n",
              "        }\n",
              "      </script>\n",
              "    </div>\n",
              "  </div>\n",
              "  "
            ]
          },
          "metadata": {},
          "execution_count": 3
        }
      ],
      "source": [
        "# Read the data\n",
        "file_path = \"https://storage.googleapis.com/cs109b/nlp/imdb.csv\"\n",
        "data = pd.read_csv(file_path, encoding='latin1')\n",
        "data.head()"
      ]
    },
    {
      "cell_type": "code",
      "execution_count": null,
      "metadata": {
        "colab": {
          "base_uri": "https://localhost:8080/",
          "height": 206
        },
        "id": "KsbOPlNPXv8c",
        "outputId": "d985b2a2-7f9a-427f-ba64-486e256bec3d"
      },
      "outputs": [
        {
          "output_type": "execute_result",
          "data": {
            "text/plain": [
              "                                                text\n",
              "0  first think another Disney movie, might good, ...\n",
              "1  Put aside Dr. House repeat missed, Desperate H...\n",
              "2  big fan Stephen King's work, film made even gr...\n",
              "3  watched horrid thing TV. Needless say one movi...\n",
              "4  truly enjoyed film. acting terrific plot. Jeff..."
            ],
            "text/html": [
              "\n",
              "  <div id=\"df-0138c933-996d-4b05-bd24-edf1d533ac5c\">\n",
              "    <div class=\"colab-df-container\">\n",
              "      <div>\n",
              "<style scoped>\n",
              "    .dataframe tbody tr th:only-of-type {\n",
              "        vertical-align: middle;\n",
              "    }\n",
              "\n",
              "    .dataframe tbody tr th {\n",
              "        vertical-align: top;\n",
              "    }\n",
              "\n",
              "    .dataframe thead th {\n",
              "        text-align: right;\n",
              "    }\n",
              "</style>\n",
              "<table border=\"1\" class=\"dataframe\">\n",
              "  <thead>\n",
              "    <tr style=\"text-align: right;\">\n",
              "      <th></th>\n",
              "      <th>text</th>\n",
              "    </tr>\n",
              "  </thead>\n",
              "  <tbody>\n",
              "    <tr>\n",
              "      <th>0</th>\n",
              "      <td>first think another Disney movie, might good, ...</td>\n",
              "    </tr>\n",
              "    <tr>\n",
              "      <th>1</th>\n",
              "      <td>Put aside Dr. House repeat missed, Desperate H...</td>\n",
              "    </tr>\n",
              "    <tr>\n",
              "      <th>2</th>\n",
              "      <td>big fan Stephen King's work, film made even gr...</td>\n",
              "    </tr>\n",
              "    <tr>\n",
              "      <th>3</th>\n",
              "      <td>watched horrid thing TV. Needless say one movi...</td>\n",
              "    </tr>\n",
              "    <tr>\n",
              "      <th>4</th>\n",
              "      <td>truly enjoyed film. acting terrific plot. Jeff...</td>\n",
              "    </tr>\n",
              "  </tbody>\n",
              "</table>\n",
              "</div>\n",
              "      <button class=\"colab-df-convert\" onclick=\"convertToInteractive('df-0138c933-996d-4b05-bd24-edf1d533ac5c')\"\n",
              "              title=\"Convert this dataframe to an interactive table.\"\n",
              "              style=\"display:none;\">\n",
              "        \n",
              "  <svg xmlns=\"http://www.w3.org/2000/svg\" height=\"24px\"viewBox=\"0 0 24 24\"\n",
              "       width=\"24px\">\n",
              "    <path d=\"M0 0h24v24H0V0z\" fill=\"none\"/>\n",
              "    <path d=\"M18.56 5.44l.94 2.06.94-2.06 2.06-.94-2.06-.94-.94-2.06-.94 2.06-2.06.94zm-11 1L8.5 8.5l.94-2.06 2.06-.94-2.06-.94L8.5 2.5l-.94 2.06-2.06.94zm10 10l.94 2.06.94-2.06 2.06-.94-2.06-.94-.94-2.06-.94 2.06-2.06.94z\"/><path d=\"M17.41 7.96l-1.37-1.37c-.4-.4-.92-.59-1.43-.59-.52 0-1.04.2-1.43.59L10.3 9.45l-7.72 7.72c-.78.78-.78 2.05 0 2.83L4 21.41c.39.39.9.59 1.41.59.51 0 1.02-.2 1.41-.59l7.78-7.78 2.81-2.81c.8-.78.8-2.07 0-2.86zM5.41 20L4 18.59l7.72-7.72 1.47 1.35L5.41 20z\"/>\n",
              "  </svg>\n",
              "      </button>\n",
              "      \n",
              "  <style>\n",
              "    .colab-df-container {\n",
              "      display:flex;\n",
              "      flex-wrap:wrap;\n",
              "      gap: 12px;\n",
              "    }\n",
              "\n",
              "    .colab-df-convert {\n",
              "      background-color: #E8F0FE;\n",
              "      border: none;\n",
              "      border-radius: 50%;\n",
              "      cursor: pointer;\n",
              "      display: none;\n",
              "      fill: #1967D2;\n",
              "      height: 32px;\n",
              "      padding: 0 0 0 0;\n",
              "      width: 32px;\n",
              "    }\n",
              "\n",
              "    .colab-df-convert:hover {\n",
              "      background-color: #E2EBFA;\n",
              "      box-shadow: 0px 1px 2px rgba(60, 64, 67, 0.3), 0px 1px 3px 1px rgba(60, 64, 67, 0.15);\n",
              "      fill: #174EA6;\n",
              "    }\n",
              "\n",
              "    [theme=dark] .colab-df-convert {\n",
              "      background-color: #3B4455;\n",
              "      fill: #D2E3FC;\n",
              "    }\n",
              "\n",
              "    [theme=dark] .colab-df-convert:hover {\n",
              "      background-color: #434B5C;\n",
              "      box-shadow: 0px 1px 3px 1px rgba(0, 0, 0, 0.15);\n",
              "      filter: drop-shadow(0px 1px 2px rgba(0, 0, 0, 0.3));\n",
              "      fill: #FFFFFF;\n",
              "    }\n",
              "  </style>\n",
              "\n",
              "      <script>\n",
              "        const buttonEl =\n",
              "          document.querySelector('#df-0138c933-996d-4b05-bd24-edf1d533ac5c button.colab-df-convert');\n",
              "        buttonEl.style.display =\n",
              "          google.colab.kernel.accessAllowed ? 'block' : 'none';\n",
              "\n",
              "        async function convertToInteractive(key) {\n",
              "          const element = document.querySelector('#df-0138c933-996d-4b05-bd24-edf1d533ac5c');\n",
              "          const dataTable =\n",
              "            await google.colab.kernel.invokeFunction('convertToInteractive',\n",
              "                                                     [key], {});\n",
              "          if (!dataTable) return;\n",
              "\n",
              "          const docLinkHtml = 'Like what you see? Visit the ' +\n",
              "            '<a target=\"_blank\" href=https://colab.research.google.com/notebooks/data_table.ipynb>data table notebook</a>'\n",
              "            + ' to learn more about interactive tables.';\n",
              "          element.innerHTML = '';\n",
              "          dataTable['output_type'] = 'display_data';\n",
              "          await google.colab.output.renderOutput(dataTable, element);\n",
              "          const docLink = document.createElement('div');\n",
              "          docLink.innerHTML = docLinkHtml;\n",
              "          element.appendChild(docLink);\n",
              "        }\n",
              "      </script>\n",
              "    </div>\n",
              "  </div>\n",
              "  "
            ]
          },
          "metadata": {},
          "execution_count": 4
        }
      ],
      "source": [
        "data_text = data[['text']]\n",
        "data_text.head()"
      ]
    },
    {
      "cell_type": "markdown",
      "metadata": {
        "id": "YvCroMOhHXkg"
      },
      "source": [
        "<div class=\"alert alert-block alert-danger\" style=\"color:black;background-color:#E7F4FA\">\n",
        "\n",
        "**2.1.2** - Define a function `clean_data` that takes the new dataframe as input and removes all html tags and non-alphabetic characters from the dataframe. Additionally, convert all characters to lower case. Remove all the sentences where the number of words is less than 10 and higher than 30. Finally, add the start token `<s>` and the end token `</s>` to every sentence (row) in the dataframe. Return the processed the dataframe. \n",
        "    \n",
        "</div>"
      ]
    },
    {
      "cell_type": "code",
      "execution_count": null,
      "metadata": {
        "colab": {
          "base_uri": "https://localhost:8080/"
        },
        "id": "8Q14FLh9HXkg",
        "outputId": "a2b481d7-1e61-4dfe-a25d-6e14a8a608d8"
      },
      "outputs": [
        {
          "output_type": "stream",
          "name": "stderr",
          "text": [
            "/usr/local/lib/python3.7/dist-packages/ipykernel_launcher.py:3: SettingWithCopyWarning: \n",
            "A value is trying to be set on a copy of a slice from a DataFrame.\n",
            "Try using .loc[row_indexer,col_indexer] = value instead\n",
            "\n",
            "See the caveats in the documentation: https://pandas.pydata.org/pandas-docs/stable/user_guide/indexing.html#returning-a-view-versus-a-copy\n",
            "  This is separate from the ipykernel package so we can avoid doing imports until\n",
            "/usr/local/lib/python3.7/dist-packages/ipykernel_launcher.py:4: SettingWithCopyWarning: \n",
            "A value is trying to be set on a copy of a slice from a DataFrame.\n",
            "Try using .loc[row_indexer,col_indexer] = value instead\n",
            "\n",
            "See the caveats in the documentation: https://pandas.pydata.org/pandas-docs/stable/user_guide/indexing.html#returning-a-view-versus-a-copy\n",
            "  after removing the cwd from sys.path.\n",
            "/usr/local/lib/python3.7/dist-packages/ipykernel_launcher.py:8: SettingWithCopyWarning: \n",
            "A value is trying to be set on a copy of a slice from a DataFrame.\n",
            "Try using .loc[row_indexer,col_indexer] = value instead\n",
            "\n",
            "See the caveats in the documentation: https://pandas.pydata.org/pandas-docs/stable/user_guide/indexing.html#returning-a-view-versus-a-copy\n",
            "  \n"
          ]
        },
        {
          "output_type": "execute_result",
          "data": {
            "text/plain": [
              "8       <s> real classic shipload sailors trying get t...\n",
              "14      <s> great movie could soylent green scenes peo...\n",
              "27      <s> sometimes want laugh dont you analyzing cr...\n",
              "51      <s> shallow shallow script stilted acting the ...\n",
              "68      <s> boring badly written italian exploitation ...\n",
              "                              ...                        \n",
              "9834    <s> uptight voyeur wants commit suicide encoun...\n",
              "9844    <s> brilliant kungfu scenes loads melodrama pe...\n",
              "9849    <s> script movie probably found hairball recen...\n",
              "9980    <s> never child love movie one would love it w...\n",
              "9986    <s> movie ok kids gotta tell ya scratch little...\n",
              "Name: text, Length: 354, dtype: object"
            ]
          },
          "metadata": {},
          "execution_count": 5
        }
      ],
      "source": [
        "# Your code here\n",
        "def clean_data(df):\n",
        "  df['text'] = df['text'].apply(lambda x : re.sub(r'<br /><br />', '', x))\n",
        "  df['text'] = df['text'].apply(lambda x : re.sub(r'[^a-zA-Z0\\s]', '', x))\n",
        "  df['new'] = df['text'].apply(lambda x: x.split(\" \"))\n",
        "  df['cnt'] = df['new'].apply(lambda x: len(x))\n",
        "  df = df[(df['cnt']  >= 10) & (df['cnt']  <= 30)]\n",
        "  df['text'] = df['text'].apply(lambda x: \"<s> \" + x.lower() + \" </s>\")\n",
        "\n",
        "  #df = df.loc[(df['cnt'] > 10)&(df['cnt'] < 30),:]\n",
        "  return df['text']\n",
        "\n",
        "clean_data_ = clean_data(data_text)\n",
        "clean_data_"
      ]
    },
    {
      "cell_type": "markdown",
      "metadata": {
        "id": "VRMMXqdMHXkh"
      },
      "source": [
        "<div class=\"alert alert-block alert-danger\" style=\"color:black;background-color:#E7F4FA\">\n",
        "    \n",
        "### **2.2 [2 points] TOKENIZE THE DATASET**\n",
        "    \n",
        "<br />\n",
        "\n",
        "**2.2.1** - Instantiate a Tokenizer for the dataset using `tensorflow.keras.preprocessing.text.Tokenizer` with a vocabulary size of 5000. Do **not** use an additional token for unknown, out of vocabulary words (oov). That is, you will **not** have the equivalent of the `<UNK>` token.\n",
        "</div>"
      ]
    },
    {
      "cell_type": "code",
      "execution_count": null,
      "metadata": {
        "id": "zxRYzZAlHXkh"
      },
      "outputs": [],
      "source": [
        "# Your code here\n",
        "from keras.preprocessing.text import Tokenizer\n",
        "my_max = 5000\n",
        "tokenizer = Tokenizer(num_words=my_max, filters='!\"#$%&()*+,-.:;=?@[\\\\]^_`{|}~\\t\\n')\n",
        "tokenizer.fit_on_texts(clean_data_)"
      ]
    },
    {
      "cell_type": "markdown",
      "metadata": {
        "id": "3FoDsoziHXkh"
      },
      "source": [
        "<div class=\"alert alert-block alert-danger\" style=\"color:black;background-color:#E7F4FA\">\n",
        "\n",
        "**2.2.2** - Fit the tokenizer on the dataset and get the sequence representation of each sentence.\n",
        "    \n",
        "</div>"
      ]
    },
    {
      "cell_type": "code",
      "execution_count": null,
      "metadata": {
        "id": "NfcKfHC8HXkh"
      },
      "outputs": [],
      "source": [
        "# Your code here\n",
        "sequences = tokenizer.texts_to_sequences(clean_data_)"
      ]
    },
    {
      "cell_type": "markdown",
      "metadata": {
        "id": "mnaKCmlZHXkh"
      },
      "source": [
        "<div class=\"alert alert-block alert-danger\" style=\"color:black;background-color:#E7F4FA\">\n",
        "    \n",
        "### **2.3 [10 points] MODELLING THE DATA**\n",
        "    \n",
        "**2.3.1** - The first step is to split the dataset into the predictors ($X$) and the response ($Y$). The predictors for each observation (sentence) are all tokens in that sentence _except_ the **last** token. The response for a given sentence is all tokens in that sentence _except_ the **first**. Using `tf.keras.preprocessing.sequence.pad_sequences` post-pad each sequence in $X$ and $Y$ to a length of 30.\n",
        "    \n",
        "```\n",
        "Example:\n",
        "if token for <s> = 1 and </s> = 2\n",
        "sentence_i = [1, 48, 2498, 22, 16, 4, 4, 1554, 149, 14, 22, 2]\n",
        "x_i = [1, 48, 2498, 22, 16, 4, 4, 1554, 149, 14, 2, 0, ..., 0]\n",
        "y_i = [1, 2498, 22, 16, 4, 4, 1554, 149, 14, 22, 2, 0, ..., 0]\n",
        "```\n",
        "**Hint:** You may need to use `tf.convert_to_tensor` on the objects returned by the padding operation. \n",
        "</div>    "
      ]
    },
    {
      "cell_type": "code",
      "execution_count": null,
      "metadata": {
        "id": "4LycPh7yje5I"
      },
      "outputs": [],
      "source": [
        "from tensorflow.keras.preprocessing.sequence import pad_sequences\n",
        "\n",
        "X_train = [sentence[:-1] for sentence in sequences]\n",
        "y_train = [sentence[1:] for sentence in sequences]\n",
        "\n",
        "MAX_LEN = 500\n",
        "X_train = pad_sequences(X_train, maxlen=30, padding='post') #padding='post' will pad in the end of a sequence\n",
        "y_train = pad_sequences(y_train, maxlen=30, padding='post')\n"
      ]
    },
    {
      "cell_type": "markdown",
      "metadata": {
        "id": "F-GPuG5XHXkh"
      },
      "source": [
        "<div class=\"alert alert-block alert-danger\" style=\"color:black;background-color:#E7F4FA\">\n",
        "    \n",
        "**2.3.2** - Define a simple RNN model that has an embedding layer with an embedding dimension of 300. You can define any number of RNN layers. The output of the RNN model will be a dense layer with size of the vocabulary and softmax activation. Using the functional API here may make it easier to reuse parts of the network later on.\n",
        "    \n",
        "</div>"
      ]
    },
    {
      "cell_type": "code",
      "execution_count": null,
      "metadata": {
        "id": "S4RJd2JBmwhW"
      },
      "outputs": [],
      "source": [
        "from tensorflow.keras.models import Sequential, Model\n",
        "from tensorflow.keras.layers import Dense, Embedding, SimpleRNN, Flatten, Reshape #GRU, LSTM"
      ]
    },
    {
      "cell_type": "markdown",
      "metadata": {
        "id": "COoBnwApiGDZ"
      },
      "source": [
        ""
      ]
    },
    {
      "cell_type": "code",
      "execution_count": null,
      "metadata": {
        "id": "_1Z6wPVd1WfL"
      },
      "outputs": [],
      "source": [
        "from tensorflow import keras\n",
        "from tensorflow.keras.models import Sequential, Model\n",
        "from tensorflow.keras import Input"
      ]
    },
    {
      "cell_type": "code",
      "execution_count": null,
      "metadata": {
        "colab": {
          "base_uri": "https://localhost:8080/"
        },
        "id": "eojfGIcRtW0u",
        "outputId": "f52fbb32-adc8-4cad-ca61-fcde85ea0960"
      },
      "outputs": [
        {
          "output_type": "stream",
          "name": "stdout",
          "text": [
            "Model: \"Model1\"\n",
            "_________________________________________________________________\n",
            " Layer (type)                Output Shape              Param #   \n",
            "=================================================================\n",
            " input_1 (InputLayer)        [(None, 30)]              0         \n",
            "                                                                 \n",
            " embedding (Embedding)       (None, 30, 300)           1500000   \n",
            "                                                                 \n",
            " simple_rnn (SimpleRNN)      (None, 30, 250)           137750    \n",
            "                                                                 \n",
            " dense (Dense)               (None, 30, 5000)          1255000   \n",
            "                                                                 \n",
            "=================================================================\n",
            "Total params: 2,892,750\n",
            "Trainable params: 2,892,750\n",
            "Non-trainable params: 0\n",
            "_________________________________________________________________\n"
          ]
        }
      ],
      "source": [
        "# Construct a CNN\n",
        "inputs = Input((30,))\n",
        "x = Embedding(5000, 300, input_length=30, mask_zero=True)(inputs)\n",
        "x = SimpleRNN(250, return_sequences=True)(x)\n",
        "x = Dense(5000, activation=\"softmax\")(x)\n",
        "\n",
        "model1 = Model(inputs=inputs, outputs=x, name=\"Model1\")\n",
        "model1.compile(loss='sparse_categorical_crossentropy', optimizer= 'adam' , metrics=['accuracy'])\n",
        "model1.summary()"
      ]
    },
    {
      "cell_type": "markdown",
      "metadata": {
        "id": "LnWND6RSHXki"
      },
      "source": [
        "<div class=\"alert alert-block alert-danger\" style=\"color:black;background-color:#E7F4FA\">\n",
        "\n",
        "**2.3.3** - Train the model with the $X$ and $Y$ data formed in 2.3.1. Use a validation split of 0.2. The choice of number epochs and batch size is left to you.\n",
        "    \n",
        "</div>"
      ]
    },
    {
      "cell_type": "code",
      "execution_count": null,
      "metadata": {
        "id": "GGt185PRHXki"
      },
      "outputs": [],
      "source": [
        "# Your code here\n",
        "history = model1.fit(X_train,y_train, epochs=100, batch_size=64, verbose=0, validation_split=0.2)\n",
        "trainPredict = model1.predict(X_train)"
      ]
    },
    {
      "cell_type": "markdown",
      "metadata": {
        "id": "4eTadAXqHXki"
      },
      "source": [
        "<div class=\"alert alert-block alert-danger\" style=\"color:black;background-color:#E7F4FA\">\n",
        "\n",
        "**2.3.4** - Plot the train and validation loss from the training history.\n",
        "\n",
        "</div>"
      ]
    },
    {
      "cell_type": "code",
      "execution_count": null,
      "metadata": {
        "id": "bSjYr4hnHXki",
        "scrolled": true,
        "colab": {
          "base_uri": "https://localhost:8080/",
          "height": 353
        },
        "outputId": "9bacc395-6442-46c6-badc-bf3e1371f93a"
      },
      "outputs": [
        {
          "output_type": "display_data",
          "data": {
            "text/plain": [
              "<Figure size 1440x360 with 2 Axes>"
            ],
            "image/png": "[encoded data removed]"
          },
          "metadata": {
            "needs_background": "light"
          }
        }
      ],
      "source": [
        "# Your code here\n",
        "def plot_loss_acc(history):\n",
        "    train_loss = history.history['loss'] \n",
        "    val_loss = history.history['val_loss']\n",
        "    train_acc = history.history['accuracy'] \n",
        "    val_acc = history.history['val_accuracy']\n",
        "\n",
        "    fig, ax = plt.subplots(1, 2, figsize = (20,5))\n",
        "    ax[0].loglog(train_loss, label = 'Training')\n",
        "    ax[0].loglog(val_loss, label = 'Validation')\n",
        "    ax[0].set_title('Training and validation loss by epoch')\n",
        "    ax[0].set_xlabel('Epoch')\n",
        "    ax[0].set_ylabel('Loss')\n",
        "    ax[0].legend()\n",
        "\n",
        "    ax[1].loglog(train_acc, label = 'Training')\n",
        "    ax[1].loglog(val_acc, label = 'Validation')\n",
        "    ax[1].set_title('Training and validation accuracy by epoch')\n",
        "    ax[1].set_xlabel('Epoch')\n",
        "    ax[1].set_ylabel('Accuracy')\n",
        "    ax[1].legend()\n",
        "    plt.show()\n",
        "    pass\n",
        "\n",
        "plot_loss_acc(history)"
      ]
    },
    {
      "cell_type": "markdown",
      "metadata": {
        "id": "rHZAUp9vHXki"
      },
      "source": [
        "<div class=\"alert alert-block alert-danger\" style=\"color:black;background-color:#E7F4FA\">\n",
        "\n",
        "### **2.4 [10 points] PREDICTING THE NEXT WORD**\n",
        "    \n",
        "<br />\n",
        "    \n",
        "**2.4.1** - Read the dataset `pp_text.csv`. Add the start and end tokens to each line and tokenize it. Convert each sentence to a sequence vector and post-pad to a length of 30. This will be the input for the prediction phase.\n",
        "    \n",
        "</div>"
      ]
    },
    {
      "cell_type": "code",
      "execution_count": null,
      "metadata": {
        "id": "kJTWuX7VHXki",
        "colab": {
          "base_uri": "https://localhost:8080/",
          "height": 206
        },
        "outputId": "8adb5445-895e-4e55-ef2f-a845a8bc573d"
      },
      "outputs": [
        {
          "output_type": "execute_result",
          "data": {
            "text/plain": [
              "                                                Text\n",
              "0  When you make changes please always check if e...\n",
              "1                          I found them very similar\n",
              "2  Give some overview of what the exercises are a...\n",
              "3                         Honestly I do not remember\n",
              "4                            Can you check the video"
            ],
            "text/html": [
              "\n",
              "  <div id=\"df-a66749e2-a4cd-41a0-a696-4a81e763b0c9\">\n",
              "    <div class=\"colab-df-container\">\n",
              "      <div>\n",
              "<style scoped>\n",
              "    .dataframe tbody tr th:only-of-type {\n",
              "        vertical-align: middle;\n",
              "    }\n",
              "\n",
              "    .dataframe tbody tr th {\n",
              "        vertical-align: top;\n",
              "    }\n",
              "\n",
              "    .dataframe thead th {\n",
              "        text-align: right;\n",
              "    }\n",
              "</style>\n",
              "<table border=\"1\" class=\"dataframe\">\n",
              "  <thead>\n",
              "    <tr style=\"text-align: right;\">\n",
              "      <th></th>\n",
              "      <th>Text</th>\n",
              "    </tr>\n",
              "  </thead>\n",
              "  <tbody>\n",
              "    <tr>\n",
              "      <th>0</th>\n",
              "      <td>When you make changes please always check if e...</td>\n",
              "    </tr>\n",
              "    <tr>\n",
              "      <th>1</th>\n",
              "      <td>I found them very similar</td>\n",
              "    </tr>\n",
              "    <tr>\n",
              "      <th>2</th>\n",
              "      <td>Give some overview of what the exercises are a...</td>\n",
              "    </tr>\n",
              "    <tr>\n",
              "      <th>3</th>\n",
              "      <td>Honestly I do not remember</td>\n",
              "    </tr>\n",
              "    <tr>\n",
              "      <th>4</th>\n",
              "      <td>Can you check the video</td>\n",
              "    </tr>\n",
              "  </tbody>\n",
              "</table>\n",
              "</div>\n",
              "      <button class=\"colab-df-convert\" onclick=\"convertToInteractive('df-a66749e2-a4cd-41a0-a696-4a81e763b0c9')\"\n",
              "              title=\"Convert this dataframe to an interactive table.\"\n",
              "              style=\"display:none;\">\n",
              "        \n",
              "  <svg xmlns=\"http://www.w3.org/2000/svg\" height=\"24px\"viewBox=\"0 0 24 24\"\n",
              "       width=\"24px\">\n",
              "    <path d=\"M0 0h24v24H0V0z\" fill=\"none\"/>\n",
              "    <path d=\"M18.56 5.44l.94 2.06.94-2.06 2.06-.94-2.06-.94-.94-2.06-.94 2.06-2.06.94zm-11 1L8.5 8.5l.94-2.06 2.06-.94-2.06-.94L8.5 2.5l-.94 2.06-2.06.94zm10 10l.94 2.06.94-2.06 2.06-.94-2.06-.94-.94-2.06-.94 2.06-2.06.94z\"/><path d=\"M17.41 7.96l-1.37-1.37c-.4-.4-.92-.59-1.43-.59-.52 0-1.04.2-1.43.59L10.3 9.45l-7.72 7.72c-.78.78-.78 2.05 0 2.83L4 21.41c.39.39.9.59 1.41.59.51 0 1.02-.2 1.41-.59l7.78-7.78 2.81-2.81c.8-.78.8-2.07 0-2.86zM5.41 20L4 18.59l7.72-7.72 1.47 1.35L5.41 20z\"/>\n",
              "  </svg>\n",
              "      </button>\n",
              "      \n",
              "  <style>\n",
              "    .colab-df-container {\n",
              "      display:flex;\n",
              "      flex-wrap:wrap;\n",
              "      gap: 12px;\n",
              "    }\n",
              "\n",
              "    .colab-df-convert {\n",
              "      background-color: #E8F0FE;\n",
              "      border: none;\n",
              "      border-radius: 50%;\n",
              "      cursor: pointer;\n",
              "      display: none;\n",
              "      fill: #1967D2;\n",
              "      height: 32px;\n",
              "      padding: 0 0 0 0;\n",
              "      width: 32px;\n",
              "    }\n",
              "\n",
              "    .colab-df-convert:hover {\n",
              "      background-color: #E2EBFA;\n",
              "      box-shadow: 0px 1px 2px rgba(60, 64, 67, 0.3), 0px 1px 3px 1px rgba(60, 64, 67, 0.15);\n",
              "      fill: #174EA6;\n",
              "    }\n",
              "\n",
              "    [theme=dark] .colab-df-convert {\n",
              "      background-color: #3B4455;\n",
              "      fill: #D2E3FC;\n",
              "    }\n",
              "\n",
              "    [theme=dark] .colab-df-convert:hover {\n",
              "      background-color: #434B5C;\n",
              "      box-shadow: 0px 1px 3px 1px rgba(0, 0, 0, 0.15);\n",
              "      filter: drop-shadow(0px 1px 2px rgba(0, 0, 0, 0.3));\n",
              "      fill: #FFFFFF;\n",
              "    }\n",
              "  </style>\n",
              "\n",
              "      <script>\n",
              "        const buttonEl =\n",
              "          document.querySelector('#df-a66749e2-a4cd-41a0-a696-4a81e763b0c9 button.colab-df-convert');\n",
              "        buttonEl.style.display =\n",
              "          google.colab.kernel.accessAllowed ? 'block' : 'none';\n",
              "\n",
              "        async function convertToInteractive(key) {\n",
              "          const element = document.querySelector('#df-a66749e2-a4cd-41a0-a696-4a81e763b0c9');\n",
              "          const dataTable =\n",
              "            await google.colab.kernel.invokeFunction('convertToInteractive',\n",
              "                                                     [key], {});\n",
              "          if (!dataTable) return;\n",
              "\n",
              "          const docLinkHtml = 'Like what you see? Visit the ' +\n",
              "            '<a target=\"_blank\" href=https://colab.research.google.com/notebooks/data_table.ipynb>data table notebook</a>'\n",
              "            + ' to learn more about interactive tables.';\n",
              "          element.innerHTML = '';\n",
              "          dataTable['output_type'] = 'display_data';\n",
              "          await google.colab.output.renderOutput(dataTable, element);\n",
              "          const docLink = document.createElement('div');\n",
              "          docLink.innerHTML = docLinkHtml;\n",
              "          element.appendChild(docLink);\n",
              "        }\n",
              "      </script>\n",
              "    </div>\n",
              "  </div>\n",
              "  "
            ]
          },
          "metadata": {},
          "execution_count": 24
        }
      ],
      "source": [
        "# Read the data\n",
        "file_path = \"https://storage.googleapis.com/cs109b/nlp/pp_text.csv\"\n",
        "df_pred = pd.read_csv(file_path)\n",
        "df_pred.head()"
      ]
    },
    {
      "cell_type": "code",
      "execution_count": null,
      "metadata": {
        "id": "mmEFZ_TeHXki",
        "colab": {
          "base_uri": "https://localhost:8080/"
        },
        "outputId": "dbee8019-2fc9-47da-a66d-c29eb731647f"
      },
      "outputs": [
        {
          "output_type": "execute_result",
          "data": {
            "text/plain": [
              "0     <s> when you make changes please always check ...\n",
              "1                         <s> i found them very similar\n",
              "2     <s> give some overview of what the exercises a...\n",
              "3                        <s> honestly i do not remember\n",
              "4                           <s> can you check the video\n",
              "5                            <s> a&a when you have time\n",
              "6     <s> otherwise we will need to start working on it\n",
              "7     <s> i do believe these students will know cnns...\n",
              "8                                    <s> they are ready\n",
              "9            <s> today i have as much as you can handle\n",
              "10                           <s> almost done until then\n",
              "11                       <s> ok the video is super cool\n",
              "12                               <s> this is for me fun\n",
              "13                                    <s> not much time\n",
              "14                                  <s> for main course\n",
              "15                                 <s> time to think of\n",
              "16                       <s> could you share the slides\n",
              "17                       <s> or we should write it here\n",
              "18            <s> fyi the meeting at 3pm has been moved\n",
              "19                                <s> hey ski is closed\n",
              "20                                   <s> v we can start\n",
              "21                                   <s> n just told me\n",
              "22                   <s> let's do this if you have time\n",
              "23                                  <s> kids two things\n",
              "24                               <s> about the schedule\n",
              "25                                  <s> to the calendar\n",
              "26          <s> i pushed very hard for him to start now\n",
              "27                                      <s> to be frank\n",
              "28                <s> it is not urgent just catching up\n",
              "29                                      <s> here she is\n",
              "30                            <s> i will do it in class\n",
              "31                              <s> when i looked at it\n",
              "32                  <s> i can not exactly figure it out\n",
              "33                               <s> i blamed it on you\n",
              "34        <s> i am getting my jibilijibs please stop me\n",
              "Name: Text, dtype: object"
            ]
          },
          "metadata": {},
          "execution_count": 25
        }
      ],
      "source": [
        "# Your code here\n",
        "def clean_data(df):\n",
        "  # df['Text'] = df['Text'].apply(lambda x: \"<s> \" + x.lower() + \" </s>\")\n",
        "  df['Text'] = df['Text'].apply(lambda x: \"<s> \" + x.lower())\n",
        "  # here we are removing end token before padding so we get better prediction, even though the earlier question asked us to add the end token.\n",
        "  return df['Text']\n",
        "\n",
        "clean_data_ = clean_data(df_pred)\n",
        "clean_data_"
      ]
    },
    {
      "cell_type": "code",
      "execution_count": null,
      "metadata": {
        "id": "r8QPGvbTRwBB"
      },
      "outputs": [],
      "source": [
        "sequences = tokenizer.texts_to_sequences(clean_data_)"
      ]
    },
    {
      "cell_type": "code",
      "execution_count": null,
      "metadata": {
        "id": "Bp_aTxLuz5iP"
      },
      "outputs": [],
      "source": [
        "X_test = pad_sequences(sequences, maxlen=30, padding='post') #padding='post' will pad in the end of a sequence"
      ]
    },
    {
      "cell_type": "code",
      "execution_count": null,
      "metadata": {
        "id": "cRDwIZMrGnQe"
      },
      "outputs": [],
      "source": [
        "X_test_end_removed = np.where(X_test==2, 0, X_test)"
      ]
    },
    {
      "cell_type": "code",
      "source": [
        "X_test_end_removed[0]"
      ],
      "metadata": {
        "colab": {
          "base_uri": "https://localhost:8080/"
        },
        "id": "uyjNk2YMDQOg",
        "outputId": "8bb55288-a851-4b28-a743-a7a525cb28b5"
      },
      "execution_count": null,
      "outputs": [
        {
          "output_type": "execute_result",
          "data": {
            "text/plain": [
              "array([   1,  148,   44, 2609,   75,  688,  481,  744,  246, 1712,    0,\n",
              "          0,    0,    0,    0,    0,    0,    0,    0,    0,    0,    0,\n",
              "          0,    0,    0,    0,    0,    0,    0,    0], dtype=int32)"
            ]
          },
          "metadata": {},
          "execution_count": 23
        }
      ]
    },
    {
      "cell_type": "markdown",
      "metadata": {
        "id": "3nVrOByOHXki"
      },
      "source": [
        "<div class=\"alert alert-block alert-danger\" style=\"color:black;background-color:#E7F4FA\">\n",
        "\n",
        "\n",
        "**2.4.2** - Define a simple RNN model with the trained weights of the trained RNN model for predicting the next word. You can make use of Keras function API to reuse the previously written code. The output of this new model is the last element of the RNN output.\n",
        "    \n",
        "</div>"
      ]
    },
    {
      "cell_type": "code",
      "execution_count": null,
      "metadata": {
        "id": "_YuKcLtqHXkj",
        "colab": {
          "base_uri": "https://localhost:8080/"
        },
        "outputId": "3e1d9928-d59a-4eec-8ee0-5d396d96a3e4"
      },
      "outputs": [
        {
          "output_type": "stream",
          "name": "stdout",
          "text": [
            "Model: \"model_1\"\n",
            "_________________________________________________________________\n",
            " Layer (type)                Output Shape              Param #   \n",
            "=================================================================\n",
            " input_1 (InputLayer)        [(None, 30)]              0         \n",
            "                                                                 \n",
            " embedding (Embedding)       (None, 30, 300)           1500000   \n",
            "                                                                 \n",
            " simple_rnn (SimpleRNN)      (None, 30, 250)           137750    \n",
            "                                                                 \n",
            " dense (Dense)               (None, 30, 5000)          1255000   \n",
            "                                                                 \n",
            " tf.__operators__.getitem_1   (None, 5000)             0         \n",
            " (SlicingOpLambda)                                               \n",
            "                                                                 \n",
            "=================================================================\n",
            "Total params: 2,892,750\n",
            "Trainable params: 2,892,750\n",
            "Non-trainable params: 0\n",
            "_________________________________________________________________\n"
          ]
        }
      ],
      "source": [
        "# Your code here\n",
        "model2 = tf.keras.Model(model1.input, model1.output[:,-1,:])\n",
        "model2.summary()"
      ]
    },
    {
      "cell_type": "markdown",
      "metadata": {
        "id": "-RC5P3fqHXkj"
      },
      "source": [
        "<div class=\"alert alert-block alert-danger\" style=\"color:black;background-color:#E7F4FA\">\n",
        "\n",
        "**2.4.3** - Choose any sentence from the list of Prof. Protopapas's texts to predict the next word. Input this to the RNN model built for prediction and print the predicted word. Try this out with multiple sentences.\n",
        "    \n",
        "</div>"
      ]
    },
    {
      "cell_type": "code",
      "execution_count": null,
      "metadata": {
        "id": "JS_tK6C94GYM",
        "colab": {
          "base_uri": "https://localhost:8080/"
        },
        "outputId": "093e3ef2-b783-4e4d-fb45-37f7ea5d262e"
      },
      "outputs": [
        {
          "output_type": "execute_result",
          "data": {
            "text/plain": [
              "array([[   1,  148,   44, ...,    0,    0,    0],\n",
              "       [   1, 1057,  136, ...,    0,    0,    0],\n",
              "       [   1,  109, 2316, ...,    0,    0,    0],\n",
              "       ...,\n",
              "       [   1, 1057,  522, ...,    0,    0,    0],\n",
              "       [   1, 1057,   12, ...,    0,    0,    0],\n",
              "       [   1, 1057,  358, ...,    0,    0,    0]], dtype=int32)"
            ]
          },
          "metadata": {},
          "execution_count": 22
        }
      ],
      "source": [
        "X_test"
      ]
    },
    {
      "cell_type": "code",
      "execution_count": null,
      "metadata": {
        "id": "1lE9ODjNHXkj"
      },
      "outputs": [],
      "source": [
        "# Your code here\n",
        "y_hat = model2.predict(X_test)\n",
        "y_hat_words_idx = np.argmax(y_hat, axis=1)\n",
        "y_hat_words = tokenizer.sequences_to_texts([y_hat_words_idx])"
      ]
    },
    {
      "cell_type": "code",
      "execution_count": null,
      "metadata": {
        "colab": {
          "base_uri": "https://localhost:8080/"
        },
        "id": "xHXjIFcbODBq",
        "outputId": "2971cbf0-91b7-4808-e4af-3036f58382a9"
      },
      "outputs": [
        {
          "output_type": "execute_result",
          "data": {
            "text/plain": [
              "['one real bad movie acting seen its think film thru ever movie one bad its ever bad </s> another bad unforgettable best bad its ive bad many script seen much own dont </s> bad film']"
            ]
          },
          "metadata": {},
          "execution_count": 34
        }
      ],
      "source": [
        "y_hat_words"
      ]
    },
    {
      "cell_type": "code",
      "execution_count": null,
      "metadata": {
        "colab": {
          "base_uri": "https://localhost:8080/"
        },
        "id": "sddeQUlD4WTD",
        "outputId": "015a2969-ca8f-4c47-cad4-3190a44063ed"
      },
      "outputs": [
        {
          "output_type": "stream",
          "name": "stdout",
          "text": [
            "Predicted word for sentence 0:  movie\n",
            "Predicted word for sentence 1:  movie\n",
            "Predicted word for sentence 2:  movie\n",
            "Predicted word for sentence 3:  movie\n",
            "Predicted word for sentence 4:  movie\n",
            "Predicted word for sentence 5:  acting\n",
            "Predicted word for sentence 6:  dont\n",
            "Predicted word for sentence 7:  movie\n",
            "Predicted word for sentence 8:  movie\n",
            "Predicted word for sentence 9:  none\n",
            "Predicted word for sentence 10:  ever\n",
            "Predicted word for sentence 11:  best\n",
            "Predicted word for sentence 12:  one\n",
            "Predicted word for sentence 13:  movie\n",
            "Predicted word for sentence 14:  quality\n",
            "Predicted word for sentence 15:  movie\n",
            "Predicted word for sentence 16:  believe\n",
            "Predicted word for sentence 17:  doesnt\n",
            "Predicted word for sentence 18:  high\n",
            "Predicted word for sentence 19:  film\n",
            "Predicted word for sentence 20:  response\n",
            "Predicted word for sentence 21:  movie\n",
            "Predicted word for sentence 22:  story\n",
            "Predicted word for sentence 23:  ever\n",
            "Predicted word for sentence 24:  movie\n",
            "Predicted word for sentence 25:  movie\n",
            "Predicted word for sentence 26:  performance\n",
            "Predicted word for sentence 27:  movie\n",
            "Predicted word for sentence 28:  movie\n",
            "Predicted word for sentence 29:  film\n",
            "Predicted word for sentence 30:  long\n",
            "Predicted word for sentence 31:  movie\n",
            "Predicted word for sentence 32:  lot\n",
            "Predicted word for sentence 33:  doesnt\n",
            "Predicted word for sentence 34:  film\n"
          ]
        }
      ],
      "source": [
        "y_hat_words = y_hat_words[0].split()\n",
        "for idx, value in enumerate(y_hat_words):\n",
        "  print(f'Predicted word for sentence {idx}: ', value)"
      ]
    },
    {
      "cell_type": "code",
      "execution_count": null,
      "metadata": {
        "colab": {
          "base_uri": "https://localhost:8080/",
          "height": 36
        },
        "id": "ipEkfsUO6Acs",
        "outputId": "c09c64db-5f3d-4e0b-be86-d29d9268f440"
      },
      "outputs": [
        {
          "output_type": "execute_result",
          "data": {
            "text/plain": [
              "'<s> i found them very similar'"
            ],
            "application/vnd.google.colaboratory.intrinsic+json": {
              "type": "string"
            }
          },
          "metadata": {},
          "execution_count": 36
        }
      ],
      "source": [
        "clean_data_[1]\n"
      ]
    },
    {
      "cell_type": "code",
      "execution_count": null,
      "metadata": {
        "colab": {
          "base_uri": "https://localhost:8080/"
        },
        "id": "lRW3ttCF5T3N",
        "outputId": "01e8764f-a183-4598-df6f-85c4003c8608"
      },
      "outputs": [
        {
          "output_type": "stream",
          "name": "stdout",
          "text": [
            "Continued sentence:\n",
            "<s> when you make changes please always check if everything is working  movie\n",
            "Continued sentence:\n",
            "<s> i found them very similar  movie\n",
            "Continued sentence:\n",
            "<s> give some overview of what the exercises are and why they are there  movie\n",
            "Continued sentence:\n",
            "<s> honestly i do not remember  movie\n",
            "Continued sentence:\n",
            "<s> can you check the video  movie\n",
            "Continued sentence:\n",
            "<s> a&a when you have time  acting\n",
            "Continued sentence:\n",
            "<s> otherwise we will need to start working on it  dont\n",
            "Continued sentence:\n",
            "<s> i do believe these students will know cnns very well by the end  movie\n",
            "Continued sentence:\n",
            "<s> they are ready  movie\n",
            "Continued sentence:\n",
            "<s> today i have as much as you can handle  none\n",
            "Continued sentence:\n",
            "<s> almost done until then  ever\n",
            "Continued sentence:\n",
            "<s> ok the video is super cool  best\n",
            "Continued sentence:\n",
            "<s> this is for me fun  one\n",
            "Continued sentence:\n",
            "<s> not much time  movie\n",
            "Continued sentence:\n",
            "<s> for main course  quality\n",
            "Continued sentence:\n",
            "<s> time to think of  movie\n",
            "Continued sentence:\n",
            "<s> could you share the slides  believe\n",
            "Continued sentence:\n",
            "<s> or we should write it here  doesnt\n",
            "Continued sentence:\n",
            "<s> fyi the meeting at 3pm has been moved  high\n",
            "Continued sentence:\n",
            "<s> hey ski is closed  film\n",
            "Continued sentence:\n",
            "<s> v we can start  response\n",
            "Continued sentence:\n",
            "<s> n just told me  movie\n",
            "Continued sentence:\n",
            "<s> let's do this if you have time  story\n",
            "Continued sentence:\n",
            "<s> kids two things  ever\n",
            "Continued sentence:\n",
            "<s> about the schedule  movie\n",
            "Continued sentence:\n",
            "<s> to the calendar  movie\n",
            "Continued sentence:\n",
            "<s> i pushed very hard for him to start now  performance\n",
            "Continued sentence:\n",
            "<s> to be frank  movie\n",
            "Continued sentence:\n",
            "<s> it is not urgent just catching up  movie\n",
            "Continued sentence:\n",
            "<s> here she is  film\n",
            "Continued sentence:\n",
            "<s> i will do it in class  long\n",
            "Continued sentence:\n",
            "<s> when i looked at it  movie\n",
            "Continued sentence:\n",
            "<s> i can not exactly figure it out  lot\n",
            "Continued sentence:\n",
            "<s> i blamed it on you  doesnt\n",
            "Continued sentence:\n",
            "<s> i am getting my jibilijibs please stop me  film\n"
          ]
        }
      ],
      "source": [
        "\n",
        "for idx, value in enumerate(y_hat_words):\n",
        "  print(f'Continued sentence:')\n",
        "  print(f'{clean_data_[idx]}  {value}')"
      ]
    },
    {
      "cell_type": "markdown",
      "metadata": {
        "id": "appaIgaqHXkj"
      },
      "source": [
        "<div class=\"alert alert-block alert-danger\" style=\"color:black;background-color:#E7F4FA\">\n",
        "\n",
        "**2.4.4** - Do you notice any pattern in the predicted words? Do they seem approriate to the context of the texts as you understand it? What do you attribute this discrepency to? How can you resolve it?\n",
        "\n",
        "Answer in less than 150 words.\n",
        "    \n",
        "</div>"
      ]
    },
    {
      "cell_type": "markdown",
      "metadata": {
        "id": "KKGvrS06HXkj"
      },
      "source": [
        "Most of them do not make sense. We are completing the sentences with words related to movies. This might be due to the fact that our training dataset is text of movies review, and we are testing on conversations with people. \n"
      ]
    },
    {
      "cell_type": "markdown",
      "metadata": {
        "id": "8uKAkAUYHXkj"
      },
      "source": [
        "<div class=\"alert alert-block alert-danger\" style=\"color:black;background-color:#E7F4FA\">\n",
        "\n",
        "\n",
        "### **2.5 [7 points] TRAINING AND PREDICTING WITH A DIFFERENT DATASET**\n",
        "<br />\n",
        "    \n",
        "**2.5.1** - Read the dataset `cleaned_sarcasm.csv`. This dataset has been preprocessed for you, all you need to do is tokenize, convert to sequence and pad it, similar to 2.2.1, 2.2.2 and 2.3.1.\n",
        "    \n",
        "</div>"
      ]
    },
    {
      "cell_type": "code",
      "execution_count": null,
      "metadata": {
        "colab": {
          "base_uri": "https://localhost:8080/",
          "height": 206
        },
        "id": "8eVJUn-hHXkj",
        "outputId": "9634c481-85fc-40fa-d74e-638ce57ccc39"
      },
      "outputs": [
        {
          "output_type": "execute_result",
          "data": {
            "text/plain": [
              "                                                text\n",
              "0  you do know west teams play against west teams...\n",
              "1  they were underdogs earlier today but since gr...\n",
              "2  you dont have to you have a good build buy gam...\n",
              "3  i think a significant amount would be against ...\n",
              "4  ayy bb wassup it makes a bit more sense in con..."
            ],
            "text/html": [
              "\n",
              "  <div id=\"df-fc9a041a-2ba6-494b-b7df-b90565ce4ae8\">\n",
              "    <div class=\"colab-df-container\">\n",
              "      <div>\n",
              "<style scoped>\n",
              "    .dataframe tbody tr th:only-of-type {\n",
              "        vertical-align: middle;\n",
              "    }\n",
              "\n",
              "    .dataframe tbody tr th {\n",
              "        vertical-align: top;\n",
              "    }\n",
              "\n",
              "    .dataframe thead th {\n",
              "        text-align: right;\n",
              "    }\n",
              "</style>\n",
              "<table border=\"1\" class=\"dataframe\">\n",
              "  <thead>\n",
              "    <tr style=\"text-align: right;\">\n",
              "      <th></th>\n",
              "      <th>text</th>\n",
              "    </tr>\n",
              "  </thead>\n",
              "  <tbody>\n",
              "    <tr>\n",
              "      <th>0</th>\n",
              "      <td>you do know west teams play against west teams...</td>\n",
              "    </tr>\n",
              "    <tr>\n",
              "      <th>1</th>\n",
              "      <td>they were underdogs earlier today but since gr...</td>\n",
              "    </tr>\n",
              "    <tr>\n",
              "      <th>2</th>\n",
              "      <td>you dont have to you have a good build buy gam...</td>\n",
              "    </tr>\n",
              "    <tr>\n",
              "      <th>3</th>\n",
              "      <td>i think a significant amount would be against ...</td>\n",
              "    </tr>\n",
              "    <tr>\n",
              "      <th>4</th>\n",
              "      <td>ayy bb wassup it makes a bit more sense in con...</td>\n",
              "    </tr>\n",
              "  </tbody>\n",
              "</table>\n",
              "</div>\n",
              "      <button class=\"colab-df-convert\" onclick=\"convertToInteractive('df-fc9a041a-2ba6-494b-b7df-b90565ce4ae8')\"\n",
              "              title=\"Convert this dataframe to an interactive table.\"\n",
              "              style=\"display:none;\">\n",
              "        \n",
              "  <svg xmlns=\"http://www.w3.org/2000/svg\" height=\"24px\"viewBox=\"0 0 24 24\"\n",
              "       width=\"24px\">\n",
              "    <path d=\"M0 0h24v24H0V0z\" fill=\"none\"/>\n",
              "    <path d=\"M18.56 5.44l.94 2.06.94-2.06 2.06-.94-2.06-.94-.94-2.06-.94 2.06-2.06.94zm-11 1L8.5 8.5l.94-2.06 2.06-.94-2.06-.94L8.5 2.5l-.94 2.06-2.06.94zm10 10l.94 2.06.94-2.06 2.06-.94-2.06-.94-.94-2.06-.94 2.06-2.06.94z\"/><path d=\"M17.41 7.96l-1.37-1.37c-.4-.4-.92-.59-1.43-.59-.52 0-1.04.2-1.43.59L10.3 9.45l-7.72 7.72c-.78.78-.78 2.05 0 2.83L4 21.41c.39.39.9.59 1.41.59.51 0 1.02-.2 1.41-.59l7.78-7.78 2.81-2.81c.8-.78.8-2.07 0-2.86zM5.41 20L4 18.59l7.72-7.72 1.47 1.35L5.41 20z\"/>\n",
              "  </svg>\n",
              "      </button>\n",
              "      \n",
              "  <style>\n",
              "    .colab-df-container {\n",
              "      display:flex;\n",
              "      flex-wrap:wrap;\n",
              "      gap: 12px;\n",
              "    }\n",
              "\n",
              "    .colab-df-convert {\n",
              "      background-color: #E8F0FE;\n",
              "      border: none;\n",
              "      border-radius: 50%;\n",
              "      cursor: pointer;\n",
              "      display: none;\n",
              "      fill: #1967D2;\n",
              "      height: 32px;\n",
              "      padding: 0 0 0 0;\n",
              "      width: 32px;\n",
              "    }\n",
              "\n",
              "    .colab-df-convert:hover {\n",
              "      background-color: #E2EBFA;\n",
              "      box-shadow: 0px 1px 2px rgba(60, 64, 67, 0.3), 0px 1px 3px 1px rgba(60, 64, 67, 0.15);\n",
              "      fill: #174EA6;\n",
              "    }\n",
              "\n",
              "    [theme=dark] .colab-df-convert {\n",
              "      background-color: #3B4455;\n",
              "      fill: #D2E3FC;\n",
              "    }\n",
              "\n",
              "    [theme=dark] .colab-df-convert:hover {\n",
              "      background-color: #434B5C;\n",
              "      box-shadow: 0px 1px 3px 1px rgba(0, 0, 0, 0.15);\n",
              "      filter: drop-shadow(0px 1px 2px rgba(0, 0, 0, 0.3));\n",
              "      fill: #FFFFFF;\n",
              "    }\n",
              "  </style>\n",
              "\n",
              "      <script>\n",
              "        const buttonEl =\n",
              "          document.querySelector('#df-fc9a041a-2ba6-494b-b7df-b90565ce4ae8 button.colab-df-convert');\n",
              "        buttonEl.style.display =\n",
              "          google.colab.kernel.accessAllowed ? 'block' : 'none';\n",
              "\n",
              "        async function convertToInteractive(key) {\n",
              "          const element = document.querySelector('#df-fc9a041a-2ba6-494b-b7df-b90565ce4ae8');\n",
              "          const dataTable =\n",
              "            await google.colab.kernel.invokeFunction('convertToInteractive',\n",
              "                                                     [key], {});\n",
              "          if (!dataTable) return;\n",
              "\n",
              "          const docLinkHtml = 'Like what you see? Visit the ' +\n",
              "            '<a target=\"_blank\" href=https://colab.research.google.com/notebooks/data_table.ipynb>data table notebook</a>'\n",
              "            + ' to learn more about interactive tables.';\n",
              "          element.innerHTML = '';\n",
              "          dataTable['output_type'] = 'display_data';\n",
              "          await google.colab.output.renderOutput(dataTable, element);\n",
              "          const docLink = document.createElement('div');\n",
              "          docLink.innerHTML = docLinkHtml;\n",
              "          element.appendChild(docLink);\n",
              "        }\n",
              "      </script>\n",
              "    </div>\n",
              "  </div>\n",
              "  "
            ]
          },
          "metadata": {},
          "execution_count": 38
        }
      ],
      "source": [
        "# Read the data\n",
        "file_path = \"https://cs109b-prod-course-data.s3.amazonaws.com/sarcasm_filtered.csv\"\n",
        "df = pd.read_csv(file_path)\n",
        "df.head()"
      ]
    },
    {
      "cell_type": "code",
      "execution_count": null,
      "metadata": {
        "colab": {
          "base_uri": "https://localhost:8080/"
        },
        "id": "x9Ed7AtW_-OG",
        "outputId": "d60adadb-7907-4d3f-c81a-4541fd5c333e"
      },
      "outputs": [
        {
          "output_type": "execute_result",
          "data": {
            "text/plain": [
              "0         <s> you do know west teams play against west t...\n",
              "1         <s> they were underdogs earlier today but sinc...\n",
              "2         <s> you dont have to you have a good build buy...\n",
              "3         <s> i think a significant amount would be agai...\n",
              "4         <s> ayy bb wassup it makes a bit more sense in...\n",
              "                                ...                        \n",
              "289501    <s> if no one is aware multi culturalism is so...\n",
              "289502    <s> i dont really need a notifier the envelope...\n",
              "289503    <s> excellent idea now i just need data worth ...\n",
              "289504    <s> texan judge orders microsoft to stop selli...\n",
              "289505    <s> columbine is ten years old this year peopl...\n",
              "Name: text, Length: 289506, dtype: object"
            ]
          },
          "metadata": {},
          "execution_count": 39
        }
      ],
      "source": [
        "def clean_data(df):\n",
        "  # df['text'] = df['text'].apply(lambda x: \"<s> \" + x.lower() + \" </s>\")\n",
        "  df['text'] = df['text'].apply(lambda x: \"<s> \" + x.lower()) # + \" </s>\")\n",
        "  # we are not adding the end token for better prediction\n",
        "\n",
        "  return df['text']\n",
        "\n",
        "df = clean_data(df)\n",
        "df"
      ]
    },
    {
      "cell_type": "code",
      "execution_count": null,
      "metadata": {
        "colab": {
          "base_uri": "https://localhost:8080/"
        },
        "id": "0RMbwMBOHXkj",
        "outputId": "fc712eb5-3512-4c50-dc0e-cbb2154b17fa"
      },
      "outputs": [
        {
          "output_type": "stream",
          "name": "stderr",
          "text": [
            "IOPub data rate exceeded.\n",
            "The notebook server will temporarily stop sending output\n",
            "to the client in order to avoid crashing it.\n",
            "To change this limit, set the config variable\n",
            "`--NotebookApp.iopub_data_rate_limit`.\n",
            "\n",
            "Current values:\n",
            "NotebookApp.iopub_data_rate_limit=1000000.0 (bytes/sec)\n",
            "NotebookApp.rate_limit_window=3.0 (secs)\n",
            "\n"
          ]
        }
      ],
      "source": [
        "# Your code here\n",
        "from keras.preprocessing.text import Tokenizer\n",
        "my_max = 5000\n",
        "tokenizer = Tokenizer(num_words=my_max, filters='!\"#$%&()*+,-.:;=?@[\\\\]^_`{|}~\\t\\n')\n",
        "tokenizer.fit_on_texts(df)\n",
        "sequences = tokenizer.texts_to_sequences(df)\n",
        "print(sequences)\n",
        "X_train = []\n",
        "y_train = []\n",
        "\n",
        "for i in list(range(len(sequences))):\n",
        "  sentence = sequences[i]\n",
        "  # x_i = sentence[:-2] + [(sentence[-1])]\n",
        "  # y_i = [sentence[0]] + sentence[2:]\n",
        "  x_i = sentence[:-1]\n",
        "  y_i = sentence[1:]\n",
        "  X_train.append(x_i)\n",
        "  y_train.append(y_i)\n",
        "\n",
        "X_train = pad_sequences(X_train, maxlen=30, padding='post') #padding='post' will pad in the end of a sequence\n",
        "y_train = pad_sequences(y_train, maxlen=30, padding='post')"
      ]
    },
    {
      "cell_type": "markdown",
      "metadata": {
        "id": "EDo-fIiXHXkk"
      },
      "source": [
        "<div class=\"alert alert-block alert-danger\" style=\"color:black;background-color:#E7F4FA\">\n",
        "\n",
        "**2.5.2** - Train your RNN model with this data and plot the train and validation trace plot. This part is similar to 2.3.2, 2.3.3 and 2.3.4.\n",
        "    \n",
        "</div>"
      ]
    },
    {
      "cell_type": "code",
      "execution_count": null,
      "metadata": {
        "id": "3BOsajxmBYXi",
        "colab": {
          "base_uri": "https://localhost:8080/"
        },
        "outputId": "332ca821-7f7b-4e07-c2ba-9ea55b6dfef1"
      },
      "outputs": [
        {
          "output_type": "stream",
          "name": "stdout",
          "text": [
            "Model: \"Model3\"\n",
            "_________________________________________________________________\n",
            " Layer (type)                Output Shape              Param #   \n",
            "=================================================================\n",
            " input_2 (InputLayer)        [(None, 30)]              0         \n",
            "                                                                 \n",
            " embedding_1 (Embedding)     (None, 30, 300)           1500300   \n",
            "                                                                 \n",
            " simple_rnn_1 (SimpleRNN)    (None, 30, 250)           137750    \n",
            "                                                                 \n",
            " dense_1 (Dense)             (None, 30, 5000)          1255000   \n",
            "                                                                 \n",
            "=================================================================\n",
            "Total params: 2,893,050\n",
            "Trainable params: 2,893,050\n",
            "Non-trainable params: 0\n",
            "_________________________________________________________________\n",
            "Epoch 1/15\n",
            "1810/1810 [==============================] - 102s 56ms/step - loss: 2.6869 - accuracy: 0.1125 - val_loss: 2.6858 - val_accuracy: 0.1371\n",
            "Epoch 2/15\n",
            "1810/1810 [==============================] - 99s 55ms/step - loss: 2.4578 - accuracy: 0.1498 - val_loss: 2.6063 - val_accuracy: 0.1479\n",
            "Epoch 3/15\n",
            "1810/1810 [==============================] - 99s 55ms/step - loss: 2.3914 - accuracy: 0.1589 - val_loss: 2.5724 - val_accuracy: 0.1532\n",
            "Epoch 4/15\n",
            "1810/1810 [==============================] - 99s 55ms/step - loss: 2.3508 - accuracy: 0.1643 - val_loss: 2.5557 - val_accuracy: 0.1562\n",
            "Epoch 5/15\n",
            "1810/1810 [==============================] - 99s 55ms/step - loss: 2.3216 - accuracy: 0.1683 - val_loss: 2.5494 - val_accuracy: 0.1579\n",
            "Epoch 6/15\n",
            "1810/1810 [==============================] - 99s 55ms/step - loss: 2.2986 - accuracy: 0.1713 - val_loss: 2.5438 - val_accuracy: 0.1594\n",
            "Epoch 7/15\n",
            "1810/1810 [==============================] - 100s 55ms/step - loss: 2.2796 - accuracy: 0.1739 - val_loss: 2.5434 - val_accuracy: 0.1606\n",
            "Epoch 8/15\n",
            "1810/1810 [==============================] - 100s 55ms/step - loss: 2.2635 - accuracy: 0.1762 - val_loss: 2.5441 - val_accuracy: 0.1607\n",
            "Epoch 9/15\n",
            "1810/1810 [==============================] - 100s 55ms/step - loss: 2.2493 - accuracy: 0.1780 - val_loss: 2.5470 - val_accuracy: 0.1609\n",
            "Epoch 10/15\n",
            "1810/1810 [==============================] - 99s 55ms/step - loss: 2.2369 - accuracy: 0.1796 - val_loss: 2.5495 - val_accuracy: 0.1616\n",
            "Epoch 11/15\n",
            "1810/1810 [==============================] - 99s 55ms/step - loss: 2.2256 - accuracy: 0.1813 - val_loss: 2.5538 - val_accuracy: 0.1608\n",
            "Epoch 12/15\n",
            "1810/1810 [==============================] - 100s 55ms/step - loss: 2.2155 - accuracy: 0.1827 - val_loss: 2.5568 - val_accuracy: 0.1620\n",
            "Epoch 13/15\n",
            "1810/1810 [==============================] - 101s 56ms/step - loss: 2.2063 - accuracy: 0.1837 - val_loss: 2.5635 - val_accuracy: 0.1615\n",
            "Epoch 14/15\n",
            "1810/1810 [==============================] - 100s 55ms/step - loss: 2.1982 - accuracy: 0.1850 - val_loss: 2.5661 - val_accuracy: 0.1614\n",
            "Epoch 15/15\n",
            "1810/1810 [==============================] - 100s 55ms/step - loss: 2.1904 - accuracy: 0.1859 - val_loss: 2.5707 - val_accuracy: 0.1618\n"
          ]
        }
      ],
      "source": [
        "# Construct a CNN\n",
        "inputs = Input((30,))\n",
        "x = Embedding(5000+1, 300, input_length=30, mask_zero=True)(inputs)\n",
        "x = SimpleRNN(250, return_sequences=True)(x)\n",
        "x = Dense(5000, activation=\"softmax\")(x)\n",
        "\n",
        "model3 = Model(inputs=inputs, outputs=x, name=\"Model3\")\n",
        "model3.compile(loss='sparse_categorical_crossentropy', optimizer= 'adam' , metrics=['accuracy'])\n",
        "model3.summary()\n",
        "\n",
        "# Your code here\n",
        "history = model3.fit(X_train,y_train, epochs=15, batch_size=128, verbose=1, validation_split=0.2)"
      ]
    },
    {
      "cell_type": "code",
      "execution_count": null,
      "metadata": {
        "id": "41SMwk6BHXkk",
        "colab": {
          "base_uri": "https://localhost:8080/",
          "height": 353
        },
        "outputId": "241f5a49-4ad8-4477-fe4a-cc97b077e699"
      },
      "outputs": [
        {
          "output_type": "display_data",
          "data": {
            "text/plain": [
              "<Figure size 1440x360 with 2 Axes>"
            ],
            "image/png": "[encoded data removed]"
          },
          "metadata": {
            "needs_background": "light"
          }
        }
      ],
      "source": [
        "# Your code here\n",
        "def plot_loss_acc(history):\n",
        "    train_loss = history.history['loss'] \n",
        "    val_loss = history.history['val_loss']\n",
        "    train_acc = history.history['accuracy'] \n",
        "    val_acc = history.history['val_accuracy']\n",
        "\n",
        "    fig, ax = plt.subplots(1, 2, figsize = (20,5))\n",
        "    ax[0].loglog(train_loss, label = 'Training')\n",
        "    ax[0].loglog(val_loss, label = 'Validation')\n",
        "    ax[0].set_title('Training and validation loss by epoch')\n",
        "    ax[0].set_xlabel('Epoch')\n",
        "    ax[0].set_ylabel('Loss')\n",
        "    ax[0].legend()\n",
        "\n",
        "    ax[1].loglog(train_acc, label = 'Training')\n",
        "    ax[1].loglog(val_acc, label = 'Validation')\n",
        "    ax[1].set_title('Training and validation accuracy by epoch')\n",
        "    ax[1].set_xlabel('Epoch')\n",
        "    ax[1].set_ylabel('Accuracy')\n",
        "    ax[1].legend()\n",
        "    plt.show()\n",
        "    pass\n",
        "\n",
        "plot_loss_acc(history)\n"
      ]
    },
    {
      "cell_type": "markdown",
      "metadata": {
        "id": "ZpqpMMQTHXkk"
      },
      "source": [
        "<div class=\"alert alert-block alert-danger\" style=\"color:black;background-color:#E7F4FA\">\n",
        "\n",
        "**2.5.3** - Repeat 2.4.1, 2.4.2 and 2.4.3 with the RNN model trained using the new dataset.\n",
        "\n",
        "</div>"
      ]
    },
    {
      "cell_type": "code",
      "execution_count": null,
      "metadata": {
        "id": "Rp3mb5vqBkmU",
        "colab": {
          "base_uri": "https://localhost:8080/",
          "height": 206
        },
        "outputId": "4860bc80-94b2-42c9-83d8-2dc5ff23d325"
      },
      "outputs": [
        {
          "output_type": "execute_result",
          "data": {
            "text/plain": [
              "                                                Text\n",
              "0  When you make changes please always check if e...\n",
              "1                          I found them very similar\n",
              "2  Give some overview of what the exercises are a...\n",
              "3                         Honestly I do not remember\n",
              "4                            Can you check the video"
            ],
            "text/html": [
              "\n",
              "  <div id=\"df-a5f4cc6f-6d83-4e55-8b0d-850efce2f718\">\n",
              "    <div class=\"colab-df-container\">\n",
              "      <div>\n",
              "<style scoped>\n",
              "    .dataframe tbody tr th:only-of-type {\n",
              "        vertical-align: middle;\n",
              "    }\n",
              "\n",
              "    .dataframe tbody tr th {\n",
              "        vertical-align: top;\n",
              "    }\n",
              "\n",
              "    .dataframe thead th {\n",
              "        text-align: right;\n",
              "    }\n",
              "</style>\n",
              "<table border=\"1\" class=\"dataframe\">\n",
              "  <thead>\n",
              "    <tr style=\"text-align: right;\">\n",
              "      <th></th>\n",
              "      <th>Text</th>\n",
              "    </tr>\n",
              "  </thead>\n",
              "  <tbody>\n",
              "    <tr>\n",
              "      <th>0</th>\n",
              "      <td>When you make changes please always check if e...</td>\n",
              "    </tr>\n",
              "    <tr>\n",
              "      <th>1</th>\n",
              "      <td>I found them very similar</td>\n",
              "    </tr>\n",
              "    <tr>\n",
              "      <th>2</th>\n",
              "      <td>Give some overview of what the exercises are a...</td>\n",
              "    </tr>\n",
              "    <tr>\n",
              "      <th>3</th>\n",
              "      <td>Honestly I do not remember</td>\n",
              "    </tr>\n",
              "    <tr>\n",
              "      <th>4</th>\n",
              "      <td>Can you check the video</td>\n",
              "    </tr>\n",
              "  </tbody>\n",
              "</table>\n",
              "</div>\n",
              "      <button class=\"colab-df-convert\" onclick=\"convertToInteractive('df-a5f4cc6f-6d83-4e55-8b0d-850efce2f718')\"\n",
              "              title=\"Convert this dataframe to an interactive table.\"\n",
              "              style=\"display:none;\">\n",
              "        \n",
              "  <svg xmlns=\"http://www.w3.org/2000/svg\" height=\"24px\"viewBox=\"0 0 24 24\"\n",
              "       width=\"24px\">\n",
              "    <path d=\"M0 0h24v24H0V0z\" fill=\"none\"/>\n",
              "    <path d=\"M18.56 5.44l.94 2.06.94-2.06 2.06-.94-2.06-.94-.94-2.06-.94 2.06-2.06.94zm-11 1L8.5 8.5l.94-2.06 2.06-.94-2.06-.94L8.5 2.5l-.94 2.06-2.06.94zm10 10l.94 2.06.94-2.06 2.06-.94-2.06-.94-.94-2.06-.94 2.06-2.06.94z\"/><path d=\"M17.41 7.96l-1.37-1.37c-.4-.4-.92-.59-1.43-.59-.52 0-1.04.2-1.43.59L10.3 9.45l-7.72 7.72c-.78.78-.78 2.05 0 2.83L4 21.41c.39.39.9.59 1.41.59.51 0 1.02-.2 1.41-.59l7.78-7.78 2.81-2.81c.8-.78.8-2.07 0-2.86zM5.41 20L4 18.59l7.72-7.72 1.47 1.35L5.41 20z\"/>\n",
              "  </svg>\n",
              "      </button>\n",
              "      \n",
              "  <style>\n",
              "    .colab-df-container {\n",
              "      display:flex;\n",
              "      flex-wrap:wrap;\n",
              "      gap: 12px;\n",
              "    }\n",
              "\n",
              "    .colab-df-convert {\n",
              "      background-color: #E8F0FE;\n",
              "      border: none;\n",
              "      border-radius: 50%;\n",
              "      cursor: pointer;\n",
              "      display: none;\n",
              "      fill: #1967D2;\n",
              "      height: 32px;\n",
              "      padding: 0 0 0 0;\n",
              "      width: 32px;\n",
              "    }\n",
              "\n",
              "    .colab-df-convert:hover {\n",
              "      background-color: #E2EBFA;\n",
              "      box-shadow: 0px 1px 2px rgba(60, 64, 67, 0.3), 0px 1px 3px 1px rgba(60, 64, 67, 0.15);\n",
              "      fill: #174EA6;\n",
              "    }\n",
              "\n",
              "    [theme=dark] .colab-df-convert {\n",
              "      background-color: #3B4455;\n",
              "      fill: #D2E3FC;\n",
              "    }\n",
              "\n",
              "    [theme=dark] .colab-df-convert:hover {\n",
              "      background-color: #434B5C;\n",
              "      box-shadow: 0px 1px 3px 1px rgba(0, 0, 0, 0.15);\n",
              "      filter: drop-shadow(0px 1px 2px rgba(0, 0, 0, 0.3));\n",
              "      fill: #FFFFFF;\n",
              "    }\n",
              "  </style>\n",
              "\n",
              "      <script>\n",
              "        const buttonEl =\n",
              "          document.querySelector('#df-a5f4cc6f-6d83-4e55-8b0d-850efce2f718 button.colab-df-convert');\n",
              "        buttonEl.style.display =\n",
              "          google.colab.kernel.accessAllowed ? 'block' : 'none';\n",
              "\n",
              "        async function convertToInteractive(key) {\n",
              "          const element = document.querySelector('#df-a5f4cc6f-6d83-4e55-8b0d-850efce2f718');\n",
              "          const dataTable =\n",
              "            await google.colab.kernel.invokeFunction('convertToInteractive',\n",
              "                                                     [key], {});\n",
              "          if (!dataTable) return;\n",
              "\n",
              "          const docLinkHtml = 'Like what you see? Visit the ' +\n",
              "            '<a target=\"_blank\" href=https://colab.research.google.com/notebooks/data_table.ipynb>data table notebook</a>'\n",
              "            + ' to learn more about interactive tables.';\n",
              "          element.innerHTML = '';\n",
              "          dataTable['output_type'] = 'display_data';\n",
              "          await google.colab.output.renderOutput(dataTable, element);\n",
              "          const docLink = document.createElement('div');\n",
              "          docLink.innerHTML = docLinkHtml;\n",
              "          element.appendChild(docLink);\n",
              "        }\n",
              "      </script>\n",
              "    </div>\n",
              "  </div>\n",
              "  "
            ]
          },
          "metadata": {},
          "execution_count": 43
        }
      ],
      "source": [
        "# 2.4.1\n",
        "# Read the data\n",
        "file_path = \"https://storage.googleapis.com/cs109b/nlp/pp_text.csv\"\n",
        "df_pred = pd.read_csv(file_path)\n",
        "df_pred.head()\n",
        "\n"
      ]
    },
    {
      "cell_type": "code",
      "execution_count": null,
      "metadata": {
        "id": "Ykree6pYHXkk"
      },
      "outputs": [],
      "source": [
        "# Your code here"
      ]
    },
    {
      "cell_type": "code",
      "execution_count": null,
      "metadata": {
        "id": "0KqNL7W-wsWY"
      },
      "outputs": [],
      "source": [
        "# 2.4.1\n",
        "# Your code here\n",
        "# Your code here\n",
        "def clean_data(df):\n",
        "  #df['Text'] = df['Text'].apply(lambda x: \"<s> \" + x.lower() + \" </s>\")\n",
        "  df['Text'] = df['Text'].apply(lambda x: \"<s> \" + x.lower())\n",
        "  # we are not adding the end token here for better prediction\n",
        "  return df['Text']"
      ]
    },
    {
      "cell_type": "code",
      "execution_count": null,
      "metadata": {
        "id": "bVPvzJq2ws76"
      },
      "outputs": [],
      "source": [
        "clean_data_ = clean_data(df_pred)\n",
        "clean_data_\n",
        "sequences = tokenizer.texts_to_sequences(clean_data_)\n",
        "X_test = pad_sequences(sequences, maxlen=30, padding='post') #padding='post' will pad in the end of a sequence\n"
      ]
    },
    {
      "cell_type": "code",
      "execution_count": null,
      "metadata": {
        "id": "PF9LJzZF3l9v",
        "colab": {
          "base_uri": "https://localhost:8080/"
        },
        "outputId": "964ef14e-5149-44cd-8d93-aba5765158e6"
      },
      "outputs": [
        {
          "output_type": "stream",
          "name": "stdout",
          "text": [
            "Model: \"model_2\"\n",
            "_________________________________________________________________\n",
            " Layer (type)                Output Shape              Param #   \n",
            "=================================================================\n",
            " input_2 (InputLayer)        [(None, 30)]              0         \n",
            "                                                                 \n",
            " embedding_1 (Embedding)     (None, 30, 300)           1500300   \n",
            "                                                                 \n",
            " simple_rnn_1 (SimpleRNN)    (None, 30, 250)           137750    \n",
            "                                                                 \n",
            " dense_1 (Dense)             (None, 30, 5000)          1255000   \n",
            "                                                                 \n",
            " tf.__operators__.getitem_2   (None, 5000)             0         \n",
            " (SlicingOpLambda)                                               \n",
            "                                                                 \n",
            "=================================================================\n",
            "Total params: 2,893,050\n",
            "Trainable params: 2,893,050\n",
            "Non-trainable params: 0\n",
            "_________________________________________________________________\n"
          ]
        }
      ],
      "source": [
        "# 2.4.2\n",
        "# Your code here\n",
        "model5 = tf.keras.Model(model3.input, model3.output[:,-1,:])\n",
        "model5.summary()"
      ]
    },
    {
      "cell_type": "code",
      "execution_count": null,
      "metadata": {
        "id": "vf1na7GvAxHy",
        "colab": {
          "base_uri": "https://localhost:8080/"
        },
        "outputId": "e61074dc-ca88-446e-e192-83161c4e24a5"
      },
      "outputs": [
        {
          "output_type": "execute_result",
          "data": {
            "text/plain": [
              "array([  1,  51,   9,  78, 929, 267, 164, 468,  21, 234,  10, 373,   2,\n",
              "         0,   0,   0,   0,   0,   0,   0,   0,   0,   0,   0,   0,   0,\n",
              "         0,   0,   0,   0], dtype=int32)"
            ]
          },
          "metadata": {},
          "execution_count": 48
        }
      ],
      "source": [
        "X_test[0]"
      ]
    },
    {
      "cell_type": "code",
      "execution_count": null,
      "metadata": {
        "id": "hgGDZh9gJfBU"
      },
      "outputs": [],
      "source": [
        "X_test_end_removed = np.where(X_test==2, 0, X_test)"
      ]
    },
    {
      "cell_type": "code",
      "execution_count": null,
      "metadata": {
        "id": "ihHEZPu6JjZ0",
        "colab": {
          "base_uri": "https://localhost:8080/"
        },
        "outputId": "efd4232d-18b0-4381-c3e0-26aeb38c63cd"
      },
      "outputs": [
        {
          "output_type": "execute_result",
          "data": {
            "text/plain": [
              "array([  1,  51,   9,  78, 929, 267, 164, 468,  21, 234,  10, 373,   0,\n",
              "         0,   0,   0,   0,   0,   0,   0,   0,   0,   0,   0,   0,   0,\n",
              "         0,   0,   0,   0], dtype=int32)"
            ]
          },
          "metadata": {},
          "execution_count": 50
        }
      ],
      "source": [
        "X_test_end_removed[0]"
      ]
    },
    {
      "cell_type": "code",
      "execution_count": null,
      "metadata": {
        "id": "BpEX3F7Xwu-f",
        "colab": {
          "base_uri": "https://localhost:8080/"
        },
        "outputId": "012dccd9-c251-4762-efa6-084d271dc2ff"
      },
      "outputs": [
        {
          "output_type": "execute_result",
          "data": {
            "text/plain": [
              "['on to to the on to for of to it the and to i is the of and to and a to to that to of that in with a if and but i and']"
            ]
          },
          "metadata": {},
          "execution_count": 48
        }
      ],
      "source": [
        "#2.4.3\n",
        "# Your code here\n",
        "y_hat = model5.predict(X_test)\n",
        "y_hat_words_idx = np.argmax(y_hat, axis=1)\n",
        "y_hat_words = tokenizer.sequences_to_texts([y_hat_words_idx])\n",
        "y_hat_words"
      ]
    },
    {
      "cell_type": "code",
      "execution_count": null,
      "metadata": {
        "id": "Rpso3a3UMIIL",
        "colab": {
          "base_uri": "https://localhost:8080/"
        },
        "outputId": "cb6bf9c1-1b82-4630-dbd0-91401c4fd189"
      },
      "outputs": [
        {
          "output_type": "stream",
          "name": "stdout",
          "text": [
            "Predicted word for sentence 0:  on\n",
            "Predicted word for sentence 1:  to\n",
            "Predicted word for sentence 2:  to\n",
            "Predicted word for sentence 3:  the\n",
            "Predicted word for sentence 4:  on\n",
            "Predicted word for sentence 5:  to\n",
            "Predicted word for sentence 6:  for\n",
            "Predicted word for sentence 7:  of\n",
            "Predicted word for sentence 8:  to\n",
            "Predicted word for sentence 9:  it\n",
            "Predicted word for sentence 10:  the\n",
            "Predicted word for sentence 11:  and\n",
            "Predicted word for sentence 12:  to\n",
            "Predicted word for sentence 13:  i\n",
            "Predicted word for sentence 14:  is\n",
            "Predicted word for sentence 15:  the\n",
            "Predicted word for sentence 16:  of\n",
            "Predicted word for sentence 17:  and\n",
            "Predicted word for sentence 18:  to\n",
            "Predicted word for sentence 19:  and\n",
            "Predicted word for sentence 20:  a\n",
            "Predicted word for sentence 21:  to\n",
            "Predicted word for sentence 22:  to\n",
            "Predicted word for sentence 23:  that\n",
            "Predicted word for sentence 24:  to\n",
            "Predicted word for sentence 25:  of\n",
            "Predicted word for sentence 26:  that\n",
            "Predicted word for sentence 27:  in\n",
            "Predicted word for sentence 28:  with\n",
            "Predicted word for sentence 29:  a\n",
            "Predicted word for sentence 30:  if\n",
            "Predicted word for sentence 31:  and\n",
            "Predicted word for sentence 32:  but\n",
            "Predicted word for sentence 33:  i\n",
            "Predicted word for sentence 34:  and\n",
            "Continued sentence:\n",
            "<s> when you make changes please always check if everything is working  on\n",
            "Continued sentence:\n",
            "<s> i found them very similar  to\n",
            "Continued sentence:\n",
            "<s> give some overview of what the exercises are and why they are there  to\n",
            "Continued sentence:\n",
            "<s> honestly i do not remember  the\n",
            "Continued sentence:\n",
            "<s> can you check the video  on\n",
            "Continued sentence:\n",
            "<s> a&a when you have time  to\n",
            "Continued sentence:\n",
            "<s> otherwise we will need to start working on it  for\n",
            "Continued sentence:\n",
            "<s> i do believe these students will know cnns very well by the end  of\n",
            "Continued sentence:\n",
            "<s> they are ready  to\n",
            "Continued sentence:\n",
            "<s> today i have as much as you can handle  it\n",
            "Continued sentence:\n",
            "<s> almost done until then  the\n",
            "Continued sentence:\n",
            "<s> ok the video is super cool  and\n",
            "Continued sentence:\n",
            "<s> this is for me fun  to\n",
            "Continued sentence:\n",
            "<s> not much time  i\n",
            "Continued sentence:\n",
            "<s> for main course  is\n",
            "Continued sentence:\n",
            "<s> time to think of  the\n",
            "Continued sentence:\n",
            "<s> could you share the slides  of\n",
            "Continued sentence:\n",
            "<s> or we should write it here  and\n",
            "Continued sentence:\n",
            "<s> fyi the meeting at 3pm has been moved  to\n",
            "Continued sentence:\n",
            "<s> hey ski is closed  and\n",
            "Continued sentence:\n",
            "<s> v we can start  a\n",
            "Continued sentence:\n",
            "<s> n just told me  to\n",
            "Continued sentence:\n",
            "<s> let's do this if you have time  to\n",
            "Continued sentence:\n",
            "<s> kids two things  that\n",
            "Continued sentence:\n",
            "<s> about the schedule  to\n",
            "Continued sentence:\n",
            "<s> to the calendar  of\n",
            "Continued sentence:\n",
            "<s> i pushed very hard for him to start now  that\n",
            "Continued sentence:\n",
            "<s> to be frank  in\n",
            "Continued sentence:\n",
            "<s> it is not urgent just catching up  with\n",
            "Continued sentence:\n",
            "<s> here she is  a\n",
            "Continued sentence:\n",
            "<s> i will do it in class  if\n",
            "Continued sentence:\n",
            "<s> when i looked at it  and\n",
            "Continued sentence:\n",
            "<s> i can not exactly figure it out  but\n",
            "Continued sentence:\n",
            "<s> i blamed it on you  i\n",
            "Continued sentence:\n",
            "<s> i am getting my jibilijibs please stop me  and\n"
          ]
        }
      ],
      "source": [
        "y_hat_words = y_hat_words[0].split()\n",
        "for idx, value in enumerate(y_hat_words):\n",
        "  print(f'Predicted word for sentence {idx}: ', value)\n",
        "\n",
        "for idx, value in enumerate(y_hat_words):\n",
        "  print(f'Continued sentence:')\n",
        "  print(f'{clean_data_[idx]}  {value}')"
      ]
    },
    {
      "cell_type": "code",
      "execution_count": null,
      "metadata": {
        "id": "91VMmdJo3KgD"
      },
      "outputs": [],
      "source": [
        ""
      ]
    },
    {
      "cell_type": "markdown",
      "metadata": {
        "id": "h2pfM2rZHXkk"
      },
      "source": [
        "<div class=\"alert alert-block alert-danger\" style=\"color:black;background-color:#E7F4FA\">\n",
        "\n",
        "**2.5.4** - How do the results with the new dataset compare to the previous ones? Why do you think so? \n",
        "    \n",
        "</div>"
      ]
    },
    {
      "cell_type": "markdown",
      "metadata": {
        "id": "6opgbB2zHXkk"
      },
      "source": [
        "**Type your answer here**\n",
        "\n",
        "Predictions with the new dataset is better than the previous ones because the training data content is closer to the test data that we want to predict on. \n"
      ]
    },
    {
      "cell_type": "markdown",
      "metadata": {
        "id": "c4LSts_RHXkk"
      },
      "source": [
        "<div class=\"alert alert-block alert-danger\" style=\"color:black;background-color:#E7F4FA\">\n",
        "\n",
        "\n",
        "### **2.6 [4 points] COMPLETING THE SENTENCE**\n",
        "<br />\n",
        "\n",
        "**2.6.1** Until now we have predicted a single word for a given sentence. However, what if he meant more than one word when he typed in `...`\n",
        "\n",
        "We will now predict multiple words for each input sentence. To do this we will first predict one word, append this word to the input text and then predict once more with the updated input. Continue doing this to predict 5 words or until the end token `</s>` (whichever comes first). \n",
        "\n",
        "</div>"
      ]
    },
    {
      "cell_type": "code",
      "execution_count": null,
      "metadata": {
        "id": "8VxdEBR0HXkk",
        "colab": {
          "base_uri": "https://localhost:8080/"
        },
        "outputId": "68683a3c-4e3d-40b3-8315-80f0b83d5bb7"
      },
      "outputs": [
        {
          "output_type": "stream",
          "name": "stdout",
          "text": [
            "Text sentence: ['<s> i found them very similar']\n",
            "Predicted token: ['to the of the population']\n",
            "Text sentence: ['<s> give some of what the are and why they are there']\n",
            "Predicted token: ['to be a lot of']\n",
            "Text sentence: ['<s> i do not remember']\n",
            "Predicted token: ['the last time i was']\n",
            "Text sentence: ['<s> can you check the video']\n",
            "Predicted token: ['on the back of the']\n",
            "Text sentence: ['<s> a a when you have time']\n",
            "Predicted token: ['to make a new one']\n",
            "Text sentence: ['<s> otherwise we will need to start working on it']\n",
            "Predicted token: ['for a long time and']\n",
            "Text sentence: ['<s> i do believe these students will know very well by the end']\n",
            "Predicted token: ['of the world and the']\n",
            "Text sentence: ['<s> they are ready']\n",
            "Predicted token: ['to be a little more']\n",
            "Text sentence: ['<s> today i have as much as you can handle']\n",
            "Predicted token: ['it with a lot of']\n",
            "Text sentence: ['<s> almost done until then']\n",
            "Predicted token: ['the time is the same']\n",
            "Text sentence: ['<s> ok the video is super cool']\n",
            "Predicted token: ['and i dont know what']\n",
            "Text sentence: ['<s> this is for me fun']\n",
            "Predicted token: ['to play on the internet']\n",
            "Text sentence: ['<s> not much time']\n",
            "Predicted token: ['i just dont have to']\n",
            "Text sentence: ['<s> for main course']\n",
            "Predicted token: ['is a great way to']\n",
            "Text sentence: ['<s> time to think of']\n",
            "Predicted token: ['the people that are the']\n",
            "Text sentence: ['<s> could you share the']\n",
            "Predicted token: ['of the and i have']\n"
          ]
        }
      ],
      "source": [
        "# Your code here\n",
        "\n",
        "# Your code here\n",
        "# sentence_idx = 1\n",
        "\n",
        "sentence_idx_ = [1, 2, 3, 4, 5, 6, 7, 8, 9, 10, 11, 12, 13, 14, 15, 16]\n",
        "\n",
        "for sentence_idx in sentence_idx_: \n",
        "  last_token_idx = np.where(X_test[sentence_idx] == 0)[0][0]\n",
        "\n",
        "  X_test_end_copy = np.copy(X_test[sentence_idx])\n",
        "  predictions = [] \n",
        "  token = 1\n",
        "  while len(predictions) < 5: #and token != tokenizer.word_index['</s>']:\n",
        "    token = np.argmax(model5.predict(np.expand_dims(X_test_end_copy, axis=0)))\n",
        "    predictions.append(token)\n",
        "    X_test_end_copy[last_token_idx] = token \n",
        "    last_token_idx += 1\n",
        "    # print(token, tokenizer.word_index['</s>'])\n",
        "\n",
        "  print(\"Text sentence:\", tokenizer.sequences_to_texts([X_test[sentence_idx]]))\n",
        "  print(\"Predicted token:\", tokenizer.sequences_to_texts([predictions]))"
      ]
    },
    {
      "cell_type": "code",
      "source": [
        ""
      ],
      "metadata": {
        "id": "O9EQwIuYPmhs"
      },
      "execution_count": null,
      "outputs": []
    }
  ],
  "metadata": {
    "accelerator": "GPU",
    "colab": {
      "collapsed_sections": [],
      "name": "FINAL_cs109b_hw5_part 2.ipynb",
      "provenance": []
    },
    "kernelspec": {
      "display_name": "Python 3 (ipykernel)",
      "language": "python",
      "name": "python3"
    },
    "language_info": {
      "codemirror_mode": {
        "name": "ipython",
        "version": 3
      },
      "file_extension": ".py",
      "mimetype": "text/x-python",
      "name": "python",
      "nbconvert_exporter": "python",
      "pygments_lexer": "ipython3",
      "version": "3.9.9"
    },
    "widgets": {
      "application/vnd.jupyter.widget-state+json": {
        "2ce0c910dd174fab9e96c554de6a5134": {
          "model_module": "@jupyter-widgets/controls",
          "model_name": "HBoxModel",
          "model_module_version": "1.5.0",
          "state": {
            "_dom_classes": [],
            "_model_module": "@jupyter-widgets/controls",
            "_model_module_version": "1.5.0",
            "_model_name": "HBoxModel",
            "_view_count": null,
            "_view_module": "@jupyter-widgets/controls",
            "_view_module_version": "1.5.0",
            "_view_name": "HBoxView",
            "box_style": "",
            "children": [
              "IPY_MODEL_34dd2c4a91074b5f990a4e8b06c8f253",
              "IPY_MODEL_7faf448197974acf9c1b9dbc5e069ceb",
              "IPY_MODEL_19b17b3bf8d346aa9cf1eb2d294a18cd"
            ],
            "layout": "IPY_MODEL_99607531dd9a4b1297421b6cd75f690b"
          }
        },
        "34dd2c4a91074b5f990a4e8b06c8f253": {
          "model_module": "@jupyter-widgets/controls",
          "model_name": "HTMLModel",
          "model_module_version": "1.5.0",
          "state": {
            "_dom_classes": [],
            "_model_module": "@jupyter-widgets/controls",
            "_model_module_version": "1.5.0",
            "_model_name": "HTMLModel",
            "_view_count": null,
            "_view_module": "@jupyter-widgets/controls",
            "_view_module_version": "1.5.0",
            "_view_name": "HTMLView",
            "description": "",
            "description_tooltip": null,
            "layout": "IPY_MODEL_dd81c4b826ef4ea597444b40cfd65f71",
            "placeholder": "​",
            "style": "IPY_MODEL_e3acd1bffe864a248819ff11816825dd",
            "value": "100%"
          }
        },
        "7faf448197974acf9c1b9dbc5e069ceb": {
          "model_module": "@jupyter-widgets/controls",
          "model_name": "FloatProgressModel",
          "model_module_version": "1.5.0",
          "state": {
            "_dom_classes": [],
            "_model_module": "@jupyter-widgets/controls",
            "_model_module_version": "1.5.0",
            "_model_name": "FloatProgressModel",
            "_view_count": null,
            "_view_module": "@jupyter-widgets/controls",
            "_view_module_version": "1.5.0",
            "_view_name": "ProgressView",
            "bar_style": "success",
            "description": "",
            "description_tooltip": null,
            "layout": "IPY_MODEL_130ad88ebdf14cec94257cfc04e45495",
            "max": 1053,
            "min": 0,
            "orientation": "horizontal",
            "style": "IPY_MODEL_87dbfca388804b4b96894df934d1e85d",
            "value": 1053
          }
        },
        "19b17b3bf8d346aa9cf1eb2d294a18cd": {
          "model_module": "@jupyter-widgets/controls",
          "model_name": "HTMLModel",
          "model_module_version": "1.5.0",
          "state": {
            "_dom_classes": [],
            "_model_module": "@jupyter-widgets/controls",
            "_model_module_version": "1.5.0",
            "_model_name": "HTMLModel",
            "_view_count": null,
            "_view_module": "@jupyter-widgets/controls",
            "_view_module_version": "1.5.0",
            "_view_name": "HTMLView",
            "description": "",
            "description_tooltip": null,
            "layout": "IPY_MODEL_77d60bb07f8a41c7898424bcda5041f0",
            "placeholder": "​",
            "style": "IPY_MODEL_4d83e0742c2548af8ef7bd1791345086",
            "value": " 1053/1053 [06:25&lt;00:00,  2.17it/s]"
          }
        },
        "99607531dd9a4b1297421b6cd75f690b": {
          "model_module": "@jupyter-widgets/base",
          "model_name": "LayoutModel",
          "model_module_version": "1.2.0",
          "state": {
            "_model_module": "@jupyter-widgets/base",
            "_model_module_version": "1.2.0",
            "_model_name": "LayoutModel",
            "_view_count": null,
            "_view_module": "@jupyter-widgets/base",
            "_view_module_version": "1.2.0",
            "_view_name": "LayoutView",
            "align_content": null,
            "align_items": null,
            "align_self": null,
            "border": null,
            "bottom": null,
            "display": null,
            "flex": null,
            "flex_flow": null,
            "grid_area": null,
            "grid_auto_columns": null,
            "grid_auto_flow": null,
            "grid_auto_rows": null,
            "grid_column": null,
            "grid_gap": null,
            "grid_row": null,
            "grid_template_areas": null,
            "grid_template_columns": null,
            "grid_template_rows": null,
            "height": null,
            "justify_content": null,
            "justify_items": null,
            "left": null,
            "margin": null,
            "max_height": null,
            "max_width": null,
            "min_height": null,
            "min_width": null,
            "object_fit": null,
            "object_position": null,
            "order": null,
            "overflow": null,
            "overflow_x": null,
            "overflow_y": null,
            "padding": null,
            "right": null,
            "top": null,
            "visibility": null,
            "width": null
          }
        },
        "dd81c4b826ef4ea597444b40cfd65f71": {
          "model_module": "@jupyter-widgets/base",
          "model_name": "LayoutModel",
          "model_module_version": "1.2.0",
          "state": {
            "_model_module": "@jupyter-widgets/base",
            "_model_module_version": "1.2.0",
            "_model_name": "LayoutModel",
            "_view_count": null,
            "_view_module": "@jupyter-widgets/base",
            "_view_module_version": "1.2.0",
            "_view_name": "LayoutView",
            "align_content": null,
            "align_items": null,
            "align_self": null,
            "border": null,
            "bottom": null,
            "display": null,
            "flex": null,
            "flex_flow": null,
            "grid_area": null,
            "grid_auto_columns": null,
            "grid_auto_flow": null,
            "grid_auto_rows": null,
            "grid_column": null,
            "grid_gap": null,
            "grid_row": null,
            "grid_template_areas": null,
            "grid_template_columns": null,
            "grid_template_rows": null,
            "height": null,
            "justify_content": null,
            "justify_items": null,
            "left": null,
            "margin": null,
            "max_height": null,
            "max_width": null,
            "min_height": null,
            "min_width": null,
            "object_fit": null,
            "object_position": null,
            "order": null,
            "overflow": null,
            "overflow_x": null,
            "overflow_y": null,
            "padding": null,
            "right": null,
            "top": null,
            "visibility": null,
            "width": null
          }
        },
        "e3acd1bffe864a248819ff11816825dd": {
          "model_module": "@jupyter-widgets/controls",
          "model_name": "DescriptionStyleModel",
          "model_module_version": "1.5.0",
          "state": {
            "_model_module": "@jupyter-widgets/controls",
            "_model_module_version": "1.5.0",
            "_model_name": "DescriptionStyleModel",
            "_view_count": null,
            "_view_module": "@jupyter-widgets/base",
            "_view_module_version": "1.2.0",
            "_view_name": "StyleView",
            "description_width": ""
          }
        },
        "130ad88ebdf14cec94257cfc04e45495": {
          "model_module": "@jupyter-widgets/base",
          "model_name": "LayoutModel",
          "model_module_version": "1.2.0",
          "state": {
            "_model_module": "@jupyter-widgets/base",
            "_model_module_version": "1.2.0",
            "_model_name": "LayoutModel",
            "_view_count": null,
            "_view_module": "@jupyter-widgets/base",
            "_view_module_version": "1.2.0",
            "_view_name": "LayoutView",
            "align_content": null,
            "align_items": null,
            "align_self": null,
            "border": null,
            "bottom": null,
            "display": null,
            "flex": null,
            "flex_flow": null,
            "grid_area": null,
            "grid_auto_columns": null,
            "grid_auto_flow": null,
            "grid_auto_rows": null,
            "grid_column": null,
            "grid_gap": null,
            "grid_row": null,
            "grid_template_areas": null,
            "grid_template_columns": null,
            "grid_template_rows": null,
            "height": null,
            "justify_content": null,
            "justify_items": null,
            "left": null,
            "margin": null,
            "max_height": null,
            "max_width": null,
            "min_height": null,
            "min_width": null,
            "object_fit": null,
            "object_position": null,
            "order": null,
            "overflow": null,
            "overflow_x": null,
            "overflow_y": null,
            "padding": null,
            "right": null,
            "top": null,
            "visibility": null,
            "width": null
          }
        },
        "87dbfca388804b4b96894df934d1e85d": {
          "model_module": "@jupyter-widgets/controls",
          "model_name": "ProgressStyleModel",
          "model_module_version": "1.5.0",
          "state": {
            "_model_module": "@jupyter-widgets/controls",
            "_model_module_version": "1.5.0",
            "_model_name": "ProgressStyleModel",
            "_view_count": null,
            "_view_module": "@jupyter-widgets/base",
            "_view_module_version": "1.2.0",
            "_view_name": "StyleView",
            "bar_color": null,
            "description_width": ""
          }
        },
        "77d60bb07f8a41c7898424bcda5041f0": {
          "model_module": "@jupyter-widgets/base",
          "model_name": "LayoutModel",
          "model_module_version": "1.2.0",
          "state": {
            "_model_module": "@jupyter-widgets/base",
            "_model_module_version": "1.2.0",
            "_model_name": "LayoutModel",
            "_view_count": null,
            "_view_module": "@jupyter-widgets/base",
            "_view_module_version": "1.2.0",
            "_view_name": "LayoutView",
            "align_content": null,
            "align_items": null,
            "align_self": null,
            "border": null,
            "bottom": null,
            "display": null,
            "flex": null,
            "flex_flow": null,
            "grid_area": null,
            "grid_auto_columns": null,
            "grid_auto_flow": null,
            "grid_auto_rows": null,
            "grid_column": null,
            "grid_gap": null,
            "grid_row": null,
            "grid_template_areas": null,
            "grid_template_columns": null,
            "grid_template_rows": null,
            "height": null,
            "justify_content": null,
            "justify_items": null,
            "left": null,
            "margin": null,
            "max_height": null,
            "max_width": null,
            "min_height": null,
            "min_width": null,
            "object_fit": null,
            "object_position": null,
            "order": null,
            "overflow": null,
            "overflow_x": null,
            "overflow_y": null,
            "padding": null,
            "right": null,
            "top": null,
            "visibility": null,
            "width": null
          }
        },
        "4d83e0742c2548af8ef7bd1791345086": {
          "model_module": "@jupyter-widgets/controls",
          "model_name": "DescriptionStyleModel",
          "model_module_version": "1.5.0",
          "state": {
            "_model_module": "@jupyter-widgets/controls",
            "_model_module_version": "1.5.0",
            "_model_name": "DescriptionStyleModel",
            "_view_count": null,
            "_view_module": "@jupyter-widgets/base",
            "_view_module_version": "1.2.0",
            "_view_name": "StyleView",
            "description_width": ""
          }
        },
        "79033fd6811d425690991cb44e804fcd": {
          "model_module": "@jupyter-widgets/controls",
          "model_name": "HBoxModel",
          "model_module_version": "1.5.0",
          "state": {
            "_dom_classes": [],
            "_model_module": "@jupyter-widgets/controls",
            "_model_module_version": "1.5.0",
            "_model_name": "HBoxModel",
            "_view_count": null,
            "_view_module": "@jupyter-widgets/controls",
            "_view_module_version": "1.5.0",
            "_view_name": "HBoxView",
            "box_style": "",
            "children": [
              "IPY_MODEL_a6011d0eb98a4e719bea34f0b05e5a24",
              "IPY_MODEL_fd62345da8ee4545b5c4c50b35a3d400",
              "IPY_MODEL_0df1a205a7eb4b608220872fa56bf409"
            ],
            "layout": "IPY_MODEL_356382f8e9504f4d819230009432c7d5"
          }
        },
        "a6011d0eb98a4e719bea34f0b05e5a24": {
          "model_module": "@jupyter-widgets/controls",
          "model_name": "HTMLModel",
          "model_module_version": "1.5.0",
          "state": {
            "_dom_classes": [],
            "_model_module": "@jupyter-widgets/controls",
            "_model_module_version": "1.5.0",
            "_model_name": "HTMLModel",
            "_view_count": null,
            "_view_module": "@jupyter-widgets/controls",
            "_view_module_version": "1.5.0",
            "_view_name": "HTMLView",
            "description": "",
            "description_tooltip": null,
            "layout": "IPY_MODEL_f1716c8754264effbfc3e4d7e8bc39da",
            "placeholder": "​",
            "style": "IPY_MODEL_3dca9d153ec44a499879c659c4fe9ecb",
            "value": "100%"
          }
        },
        "fd62345da8ee4545b5c4c50b35a3d400": {
          "model_module": "@jupyter-widgets/controls",
          "model_name": "FloatProgressModel",
          "model_module_version": "1.5.0",
          "state": {
            "_dom_classes": [],
            "_model_module": "@jupyter-widgets/controls",
            "_model_module_version": "1.5.0",
            "_model_name": "FloatProgressModel",
            "_view_count": null,
            "_view_module": "@jupyter-widgets/controls",
            "_view_module_version": "1.5.0",
            "_view_name": "ProgressView",
            "bar_style": "success",
            "description": "",
            "description_tooltip": null,
            "layout": "IPY_MODEL_028f929530464dfab03e68e13d63e325",
            "max": 1053,
            "min": 0,
            "orientation": "horizontal",
            "style": "IPY_MODEL_4cd3c8de723c48db8cdb9f13d786f6c7",
            "value": 1053
          }
        },
        "0df1a205a7eb4b608220872fa56bf409": {
          "model_module": "@jupyter-widgets/controls",
          "model_name": "HTMLModel",
          "model_module_version": "1.5.0",
          "state": {
            "_dom_classes": [],
            "_model_module": "@jupyter-widgets/controls",
            "_model_module_version": "1.5.0",
            "_model_name": "HTMLModel",
            "_view_count": null,
            "_view_module": "@jupyter-widgets/controls",
            "_view_module_version": "1.5.0",
            "_view_name": "HTMLView",
            "description": "",
            "description_tooltip": null,
            "layout": "IPY_MODEL_b213b91d9ebd46a19c95b4fe1e18de5e",
            "placeholder": "​",
            "style": "IPY_MODEL_c5c361b5cc6e43d4974ebb39bd200e45",
            "value": " 1053/1053 [31:09&lt;00:00,  1.63s/it]"
          }
        },
        "356382f8e9504f4d819230009432c7d5": {
          "model_module": "@jupyter-widgets/base",
          "model_name": "LayoutModel",
          "model_module_version": "1.2.0",
          "state": {
            "_model_module": "@jupyter-widgets/base",
            "_model_module_version": "1.2.0",
            "_model_name": "LayoutModel",
            "_view_count": null,
            "_view_module": "@jupyter-widgets/base",
            "_view_module_version": "1.2.0",
            "_view_name": "LayoutView",
            "align_content": null,
            "align_items": null,
            "align_self": null,
            "border": null,
            "bottom": null,
            "display": null,
            "flex": null,
            "flex_flow": null,
            "grid_area": null,
            "grid_auto_columns": null,
            "grid_auto_flow": null,
            "grid_auto_rows": null,
            "grid_column": null,
            "grid_gap": null,
            "grid_row": null,
            "grid_template_areas": null,
            "grid_template_columns": null,
            "grid_template_rows": null,
            "height": null,
            "justify_content": null,
            "justify_items": null,
            "left": null,
            "margin": null,
            "max_height": null,
            "max_width": null,
            "min_height": null,
            "min_width": null,
            "object_fit": null,
            "object_position": null,
            "order": null,
            "overflow": null,
            "overflow_x": null,
            "overflow_y": null,
            "padding": null,
            "right": null,
            "top": null,
            "visibility": null,
            "width": null
          }
        },
        "f1716c8754264effbfc3e4d7e8bc39da": {
          "model_module": "@jupyter-widgets/base",
          "model_name": "LayoutModel",
          "model_module_version": "1.2.0",
          "state": {
            "_model_module": "@jupyter-widgets/base",
            "_model_module_version": "1.2.0",
            "_model_name": "LayoutModel",
            "_view_count": null,
            "_view_module": "@jupyter-widgets/base",
            "_view_module_version": "1.2.0",
            "_view_name": "LayoutView",
            "align_content": null,
            "align_items": null,
            "align_self": null,
            "border": null,
            "bottom": null,
            "display": null,
            "flex": null,
            "flex_flow": null,
            "grid_area": null,
            "grid_auto_columns": null,
            "grid_auto_flow": null,
            "grid_auto_rows": null,
            "grid_column": null,
            "grid_gap": null,
            "grid_row": null,
            "grid_template_areas": null,
            "grid_template_columns": null,
            "grid_template_rows": null,
            "height": null,
            "justify_content": null,
            "justify_items": null,
            "left": null,
            "margin": null,
            "max_height": null,
            "max_width": null,
            "min_height": null,
            "min_width": null,
            "object_fit": null,
            "object_position": null,
            "order": null,
            "overflow": null,
            "overflow_x": null,
            "overflow_y": null,
            "padding": null,
            "right": null,
            "top": null,
            "visibility": null,
            "width": null
          }
        },
        "3dca9d153ec44a499879c659c4fe9ecb": {
          "model_module": "@jupyter-widgets/controls",
          "model_name": "DescriptionStyleModel",
          "model_module_version": "1.5.0",
          "state": {
            "_model_module": "@jupyter-widgets/controls",
            "_model_module_version": "1.5.0",
            "_model_name": "DescriptionStyleModel",
            "_view_count": null,
            "_view_module": "@jupyter-widgets/base",
            "_view_module_version": "1.2.0",
            "_view_name": "StyleView",
            "description_width": ""
          }
        },
        "028f929530464dfab03e68e13d63e325": {
          "model_module": "@jupyter-widgets/base",
          "model_name": "LayoutModel",
          "model_module_version": "1.2.0",
          "state": {
            "_model_module": "@jupyter-widgets/base",
            "_model_module_version": "1.2.0",
            "_model_name": "LayoutModel",
            "_view_count": null,
            "_view_module": "@jupyter-widgets/base",
            "_view_module_version": "1.2.0",
            "_view_name": "LayoutView",
            "align_content": null,
            "align_items": null,
            "align_self": null,
            "border": null,
            "bottom": null,
            "display": null,
            "flex": null,
            "flex_flow": null,
            "grid_area": null,
            "grid_auto_columns": null,
            "grid_auto_flow": null,
            "grid_auto_rows": null,
            "grid_column": null,
            "grid_gap": null,
            "grid_row": null,
            "grid_template_areas": null,
            "grid_template_columns": null,
            "grid_template_rows": null,
            "height": null,
            "justify_content": null,
            "justify_items": null,
            "left": null,
            "margin": null,
            "max_height": null,
            "max_width": null,
            "min_height": null,
            "min_width": null,
            "object_fit": null,
            "object_position": null,
            "order": null,
            "overflow": null,
            "overflow_x": null,
            "overflow_y": null,
            "padding": null,
            "right": null,
            "top": null,
            "visibility": null,
            "width": null
          }
        },
        "4cd3c8de723c48db8cdb9f13d786f6c7": {
          "model_module": "@jupyter-widgets/controls",
          "model_name": "ProgressStyleModel",
          "model_module_version": "1.5.0",
          "state": {
            "_model_module": "@jupyter-widgets/controls",
            "_model_module_version": "1.5.0",
            "_model_name": "ProgressStyleModel",
            "_view_count": null,
            "_view_module": "@jupyter-widgets/base",
            "_view_module_version": "1.2.0",
            "_view_name": "StyleView",
            "bar_color": null,
            "description_width": ""
          }
        },
        "b213b91d9ebd46a19c95b4fe1e18de5e": {
          "model_module": "@jupyter-widgets/base",
          "model_name": "LayoutModel",
          "model_module_version": "1.2.0",
          "state": {
            "_model_module": "@jupyter-widgets/base",
            "_model_module_version": "1.2.0",
            "_model_name": "LayoutModel",
            "_view_count": null,
            "_view_module": "@jupyter-widgets/base",
            "_view_module_version": "1.2.0",
            "_view_name": "LayoutView",
            "align_content": null,
            "align_items": null,
            "align_self": null,
            "border": null,
            "bottom": null,
            "display": null,
            "flex": null,
            "flex_flow": null,
            "grid_area": null,
            "grid_auto_columns": null,
            "grid_auto_flow": null,
            "grid_auto_rows": null,
            "grid_column": null,
            "grid_gap": null,
            "grid_row": null,
            "grid_template_areas": null,
            "grid_template_columns": null,
            "grid_template_rows": null,
            "height": null,
            "justify_content": null,
            "justify_items": null,
            "left": null,
            "margin": null,
            "max_height": null,
            "max_width": null,
            "min_height": null,
            "min_width": null,
            "object_fit": null,
            "object_position": null,
            "order": null,
            "overflow": null,
            "overflow_x": null,
            "overflow_y": null,
            "padding": null,
            "right": null,
            "top": null,
            "visibility": null,
            "width": null
          }
        },
        "c5c361b5cc6e43d4974ebb39bd200e45": {
          "model_module": "@jupyter-widgets/controls",
          "model_name": "DescriptionStyleModel",
          "model_module_version": "1.5.0",
          "state": {
            "_model_module": "@jupyter-widgets/controls",
            "_model_module_version": "1.5.0",
            "_model_name": "DescriptionStyleModel",
            "_view_count": null,
            "_view_module": "@jupyter-widgets/base",
            "_view_module_version": "1.2.0",
            "_view_name": "StyleView",
            "description_width": ""
          }
        },
        "38f5fd76d9974b7f9ba5f5c3d1c243f1": {
          "model_module": "@jupyter-widgets/controls",
          "model_name": "HBoxModel",
          "model_module_version": "1.5.0",
          "state": {
            "_dom_classes": [],
            "_model_module": "@jupyter-widgets/controls",
            "_model_module_version": "1.5.0",
            "_model_name": "HBoxModel",
            "_view_count": null,
            "_view_module": "@jupyter-widgets/controls",
            "_view_module_version": "1.5.0",
            "_view_name": "HBoxView",
            "box_style": "",
            "children": [
              "IPY_MODEL_d04bf9074fe6412ca0b08c7371daa2ad",
              "IPY_MODEL_f5b2f6eae268417685679c485aeb9e4a",
              "IPY_MODEL_520b2d4ab2b14b3ab58504d901d61297"
            ],
            "layout": "IPY_MODEL_855b2e9611c24c54804f59076a9d05d4"
          }
        },
        "d04bf9074fe6412ca0b08c7371daa2ad": {
          "model_module": "@jupyter-widgets/controls",
          "model_name": "HTMLModel",
          "model_module_version": "1.5.0",
          "state": {
            "_dom_classes": [],
            "_model_module": "@jupyter-widgets/controls",
            "_model_module_version": "1.5.0",
            "_model_name": "HTMLModel",
            "_view_count": null,
            "_view_module": "@jupyter-widgets/controls",
            "_view_module_version": "1.5.0",
            "_view_name": "HTMLView",
            "description": "",
            "description_tooltip": null,
            "layout": "IPY_MODEL_dd5c7ff8d4084b6c9e7533c535fedfed",
            "placeholder": "​",
            "style": "IPY_MODEL_9500131921654795a94945c855f01b8b",
            "value": "100%"
          }
        },
        "f5b2f6eae268417685679c485aeb9e4a": {
          "model_module": "@jupyter-widgets/controls",
          "model_name": "FloatProgressModel",
          "model_module_version": "1.5.0",
          "state": {
            "_dom_classes": [],
            "_model_module": "@jupyter-widgets/controls",
            "_model_module_version": "1.5.0",
            "_model_name": "FloatProgressModel",
            "_view_count": null,
            "_view_module": "@jupyter-widgets/controls",
            "_view_module_version": "1.5.0",
            "_view_name": "ProgressView",
            "bar_style": "success",
            "description": "",
            "description_tooltip": null,
            "layout": "IPY_MODEL_10c47d238fd1428fbaa39ef28698ebac",
            "max": 1053,
            "min": 0,
            "orientation": "horizontal",
            "style": "IPY_MODEL_6952e00b0bcb40e3aa1b516990d0e14e",
            "value": 1053
          }
        },
        "520b2d4ab2b14b3ab58504d901d61297": {
          "model_module": "@jupyter-widgets/controls",
          "model_name": "HTMLModel",
          "model_module_version": "1.5.0",
          "state": {
            "_dom_classes": [],
            "_model_module": "@jupyter-widgets/controls",
            "_model_module_version": "1.5.0",
            "_model_name": "HTMLModel",
            "_view_count": null,
            "_view_module": "@jupyter-widgets/controls",
            "_view_module_version": "1.5.0",
            "_view_name": "HTMLView",
            "description": "",
            "description_tooltip": null,
            "layout": "IPY_MODEL_7f951a1b3c3a46d385ee85a08f301124",
            "placeholder": "​",
            "style": "IPY_MODEL_c138e7ca6f9249c69cc644d27c636d7d",
            "value": " 1053/1053 [41:56&lt;00:00,  2.19s/it]"
          }
        },
        "855b2e9611c24c54804f59076a9d05d4": {
          "model_module": "@jupyter-widgets/base",
          "model_name": "LayoutModel",
          "model_module_version": "1.2.0",
          "state": {
            "_model_module": "@jupyter-widgets/base",
            "_model_module_version": "1.2.0",
            "_model_name": "LayoutModel",
            "_view_count": null,
            "_view_module": "@jupyter-widgets/base",
            "_view_module_version": "1.2.0",
            "_view_name": "LayoutView",
            "align_content": null,
            "align_items": null,
            "align_self": null,
            "border": null,
            "bottom": null,
            "display": null,
            "flex": null,
            "flex_flow": null,
            "grid_area": null,
            "grid_auto_columns": null,
            "grid_auto_flow": null,
            "grid_auto_rows": null,
            "grid_column": null,
            "grid_gap": null,
            "grid_row": null,
            "grid_template_areas": null,
            "grid_template_columns": null,
            "grid_template_rows": null,
            "height": null,
            "justify_content": null,
            "justify_items": null,
            "left": null,
            "margin": null,
            "max_height": null,
            "max_width": null,
            "min_height": null,
            "min_width": null,
            "object_fit": null,
            "object_position": null,
            "order": null,
            "overflow": null,
            "overflow_x": null,
            "overflow_y": null,
            "padding": null,
            "right": null,
            "top": null,
            "visibility": null,
            "width": null
          }
        },
        "dd5c7ff8d4084b6c9e7533c535fedfed": {
          "model_module": "@jupyter-widgets/base",
          "model_name": "LayoutModel",
          "model_module_version": "1.2.0",
          "state": {
            "_model_module": "@jupyter-widgets/base",
            "_model_module_version": "1.2.0",
            "_model_name": "LayoutModel",
            "_view_count": null,
            "_view_module": "@jupyter-widgets/base",
            "_view_module_version": "1.2.0",
            "_view_name": "LayoutView",
            "align_content": null,
            "align_items": null,
            "align_self": null,
            "border": null,
            "bottom": null,
            "display": null,
            "flex": null,
            "flex_flow": null,
            "grid_area": null,
            "grid_auto_columns": null,
            "grid_auto_flow": null,
            "grid_auto_rows": null,
            "grid_column": null,
            "grid_gap": null,
            "grid_row": null,
            "grid_template_areas": null,
            "grid_template_columns": null,
            "grid_template_rows": null,
            "height": null,
            "justify_content": null,
            "justify_items": null,
            "left": null,
            "margin": null,
            "max_height": null,
            "max_width": null,
            "min_height": null,
            "min_width": null,
            "object_fit": null,
            "object_position": null,
            "order": null,
            "overflow": null,
            "overflow_x": null,
            "overflow_y": null,
            "padding": null,
            "right": null,
            "top": null,
            "visibility": null,
            "width": null
          }
        },
        "9500131921654795a94945c855f01b8b": {
          "model_module": "@jupyter-widgets/controls",
          "model_name": "DescriptionStyleModel",
          "model_module_version": "1.5.0",
          "state": {
            "_model_module": "@jupyter-widgets/controls",
            "_model_module_version": "1.5.0",
            "_model_name": "DescriptionStyleModel",
            "_view_count": null,
            "_view_module": "@jupyter-widgets/base",
            "_view_module_version": "1.2.0",
            "_view_name": "StyleView",
            "description_width": ""
          }
        },
        "10c47d238fd1428fbaa39ef28698ebac": {
          "model_module": "@jupyter-widgets/base",
          "model_name": "LayoutModel",
          "model_module_version": "1.2.0",
          "state": {
            "_model_module": "@jupyter-widgets/base",
            "_model_module_version": "1.2.0",
            "_model_name": "LayoutModel",
            "_view_count": null,
            "_view_module": "@jupyter-widgets/base",
            "_view_module_version": "1.2.0",
            "_view_name": "LayoutView",
            "align_content": null,
            "align_items": null,
            "align_self": null,
            "border": null,
            "bottom": null,
            "display": null,
            "flex": null,
            "flex_flow": null,
            "grid_area": null,
            "grid_auto_columns": null,
            "grid_auto_flow": null,
            "grid_auto_rows": null,
            "grid_column": null,
            "grid_gap": null,
            "grid_row": null,
            "grid_template_areas": null,
            "grid_template_columns": null,
            "grid_template_rows": null,
            "height": null,
            "justify_content": null,
            "justify_items": null,
            "left": null,
            "margin": null,
            "max_height": null,
            "max_width": null,
            "min_height": null,
            "min_width": null,
            "object_fit": null,
            "object_position": null,
            "order": null,
            "overflow": null,
            "overflow_x": null,
            "overflow_y": null,
            "padding": null,
            "right": null,
            "top": null,
            "visibility": null,
            "width": null
          }
        },
        "6952e00b0bcb40e3aa1b516990d0e14e": {
          "model_module": "@jupyter-widgets/controls",
          "model_name": "ProgressStyleModel",
          "model_module_version": "1.5.0",
          "state": {
            "_model_module": "@jupyter-widgets/controls",
            "_model_module_version": "1.5.0",
            "_model_name": "ProgressStyleModel",
            "_view_count": null,
            "_view_module": "@jupyter-widgets/base",
            "_view_module_version": "1.2.0",
            "_view_name": "StyleView",
            "bar_color": null,
            "description_width": ""
          }
        },
        "7f951a1b3c3a46d385ee85a08f301124": {
          "model_module": "@jupyter-widgets/base",
          "model_name": "LayoutModel",
          "model_module_version": "1.2.0",
          "state": {
            "_model_module": "@jupyter-widgets/base",
            "_model_module_version": "1.2.0",
            "_model_name": "LayoutModel",
            "_view_count": null,
            "_view_module": "@jupyter-widgets/base",
            "_view_module_version": "1.2.0",
            "_view_name": "LayoutView",
            "align_content": null,
            "align_items": null,
            "align_self": null,
            "border": null,
            "bottom": null,
            "display": null,
            "flex": null,
            "flex_flow": null,
            "grid_area": null,
            "grid_auto_columns": null,
            "grid_auto_flow": null,
            "grid_auto_rows": null,
            "grid_column": null,
            "grid_gap": null,
            "grid_row": null,
            "grid_template_areas": null,
            "grid_template_columns": null,
            "grid_template_rows": null,
            "height": null,
            "justify_content": null,
            "justify_items": null,
            "left": null,
            "margin": null,
            "max_height": null,
            "max_width": null,
            "min_height": null,
            "min_width": null,
            "object_fit": null,
            "object_position": null,
            "order": null,
            "overflow": null,
            "overflow_x": null,
            "overflow_y": null,
            "padding": null,
            "right": null,
            "top": null,
            "visibility": null,
            "width": null
          }
        },
        "c138e7ca6f9249c69cc644d27c636d7d": {
          "model_module": "@jupyter-widgets/controls",
          "model_name": "DescriptionStyleModel",
          "model_module_version": "1.5.0",
          "state": {
            "_model_module": "@jupyter-widgets/controls",
            "_model_module_version": "1.5.0",
            "_model_name": "DescriptionStyleModel",
            "_view_count": null,
            "_view_module": "@jupyter-widgets/base",
            "_view_module_version": "1.2.0",
            "_view_name": "StyleView",
            "description_width": ""
          }
        }
      }
    }
  },
  "nbformat": 4,
  "nbformat_minor": 0
}