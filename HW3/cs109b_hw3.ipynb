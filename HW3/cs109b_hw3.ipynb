{
 "cells": [
  {
   "cell_type": "markdown",
   "metadata": {
    "cell_id": "41410c6c-d31e-493d-a03a-f23d1f2ef101",
    "deepnote_cell_height": 330.859375,
    "deepnote_cell_type": "markdown"
   },
   "source": [
    "# <img style=\"float: left; padding-right: 10px; width: 45px\" src=\"https://raw.githubusercontent.com/Harvard-IACS/2018-CS109A/master/content/styles/iacs.png\"> Data Science 2: Advanced Topics in Data Science \n",
    "\n",
    "## Homework 3: Artificial Neural Networks, Model Interpretation, and Regularization\n",
    "\n",
    "\n",
    "**Harvard University**<br/>\n",
    "**Spring 2022**<br/>\n",
    "**Instructors**: Mark Glickman & Pavlos Protopapas\n",
    "\n",
    "<hr style=\"height:2pt\">"
   ]
  },
  {
   "cell_type": "code",
   "execution_count": 1,
   "metadata": {
    "cell_id": "00001-949fdd22-f785-41b0-b8a4-f0d4655162e7",
    "deepnote_cell_height": 207,
    "deepnote_cell_type": "code",
    "deepnote_output_heights": [
     2
    ],
    "deepnote_to_be_reexecuted": false,
    "execution_millis": 57,
    "execution_start": 1646232777526,
    "scrolled": true,
    "source_hash": "2662afb8"
   },
   "outputs": [
    {
     "data": {
      "text/html": [
       "<style>\n",
       "blockquote { background: #AEDE94; }\n",
       "h1 { \n",
       "    padding-top: 25px;\n",
       "    padding-bottom: 25px;\n",
       "    text-align: left; \n",
       "    padding-left: 10px;\n",
       "    background-color: #DDDDDD; \n",
       "    color: black;\n",
       "}\n",
       "h2 { \n",
       "    padding-top: 10px;\n",
       "    padding-bottom: 10px;\n",
       "    text-align: left; \n",
       "    padding-left: 5px;\n",
       "    background-color: #EEEEEE; \n",
       "    color: black;\n",
       "}\n",
       "\n",
       "div.exercise {\n",
       "\tbackground-color: #ffcccc;\n",
       "\tborder-color: #E9967A; \t\n",
       "\tborder-left: 5px solid #800080; \n",
       "\tpadding: 0.5em;\n",
       "}\n",
       "\n",
       "div.exercise-r {\n",
       "\tbackground-color: #fce8e8;\n",
       "\tborder-color: #E9967A; \t\n",
       "\tborder-left: 5px solid #800080; \n",
       "\tpadding: 0.5em;\n",
       "}\n",
       "\n",
       "\n",
       "span.sub-q {\n",
       "\tfont-weight: bold;\n",
       "}\n",
       "div.theme {\n",
       "\tbackground-color: #DDDDDD;\n",
       "\tborder-color: #E9967A; \t\n",
       "\tborder-left: 5px solid #800080; \n",
       "\tpadding: 0.5em;\n",
       "\tfont-size: 18pt;\n",
       "}\n",
       "div.gc { \n",
       "\tbackground-color: #AEDE94;\n",
       "\tborder-color: #E9967A; \t \n",
       "\tborder-left: 5px solid #800080; \n",
       "\tpadding: 0.5em;\n",
       "\tfont-size: 12pt;\n",
       "}\n",
       "p.q1 { \n",
       "    padding-top: 5px;\n",
       "    padding-bottom: 5px;\n",
       "    text-align: left; \n",
       "    padding-left: 5px;\n",
       "    background-color: #EEEEEE; \n",
       "    color: black;\n",
       "}\n",
       "header {\n",
       "   padding-top: 35px;\n",
       "    padding-bottom: 35px;\n",
       "    text-align: left; \n",
       "    padding-left: 10px;\n",
       "    background-color: #DDDDDD; \n",
       "    color: black;\n",
       "}\n",
       "</style>\n",
       "\n"
      ],
      "text/plain": [
       "<IPython.core.display.HTML object>"
      ]
     },
     "execution_count": 1,
     "metadata": {},
     "output_type": "execute_result"
    }
   ],
   "source": [
    "#RUN THIS CELL \n",
    "import requests\n",
    "from IPython.core.display import HTML\n",
    "styles = requests.get(\n",
    "    \"https://raw.githubusercontent.com/Harvard-IACS/2018-CS109A/master/content/styles/cs109.css\"\n",
    ").text\n",
    "HTML(styles)"
   ]
  },
  {
   "cell_type": "code",
   "execution_count": 2,
   "metadata": {
    "cell_id": "00002-fd8e82ff-ae62-4d87-af7a-c972725d2ec1",
    "deepnote_cell_height": 459,
    "deepnote_cell_type": "code",
    "deepnote_to_be_reexecuted": false,
    "execution_millis": 5705,
    "execution_start": 1646232787992,
    "source_hash": "106968ac"
   },
   "outputs": [],
   "source": [
    "import random\n",
    "random.seed(2222022)\n",
    "\n",
    "import os\n",
    "import sys\n",
    "\n",
    "import matplotlib.pyplot as plt\n",
    "import numpy as np\n",
    "import pandas as pd\n",
    "import seaborn as sns\n",
    "\n",
    "from sklearn.inspection import permutation_importance\n",
    "from sklearn.linear_model import LogisticRegression\n",
    "from sklearn.metrics import roc_auc_score, accuracy_score\n",
    "from sklearn.model_selection import train_test_split\n",
    "from sklearn.preprocessing import StandardScaler\n",
    "from sklearn.utils import resample\n",
    "\n",
    "# TensorFlow and tf.keras\n",
    "import tensorflow as tf\n",
    "\n",
    "%matplotlib inline"
   ]
  },
  {
   "cell_type": "markdown",
   "metadata": {
    "cell_id": "00003-0d0f8347-2790-40cf-89d1-28d7db6277dd",
    "deepnote_cell_height": 574.5,
    "deepnote_cell_type": "markdown"
   },
   "source": [
    "<a id=\"instructions\"></a>\n",
    "\n",
    "<hr style=\"height:2pt\">\n",
    "\n",
    "### INSTRUCTIONS\n",
    "\n",
    "- This homework can be submitted **in pairs**.\n",
    "\n",
    "- To submit your assignment follow the instructions given in Canvas.\n",
    "\n",
    "- Please **restart the kernel and run the entire notebook again before you submit.**\n",
    "\n",
    "- Running cells out of order is a common pitfall in Jupyter Notebooks. To make sure your code continues to work, restart the kernel and rerun your notebook periodically while working through this assignment. \n",
    "\n",
    "- We have tried to include all the libraries you may need to do the assignment in the imports cell provided below. **Please use only the libraries provided in those imports.**\n",
    "\n",
    "- Please use `.head(...)` when viewing data. Do not submit a notebook that is **excessively long**. \n",
    "\n",
    "- In questions that require code to answer, such as \"calculate and report $R^2$\", do not just output the value from a cell. Write a `print(...)` function that clearly labels the output, includes a reference to the calculated value, and rounds it to a reasonable number of digits. **Do not hard code values in your printed output**. For example, this is an appropriate print statement:\n",
    "```python\n",
    "print(f'The R^2 is {R:.4f}')\n",
    "```\n",
    "- **Your plots MUST be clearly labeled and easy to read,** including clear labels for the $x$ and $y$ axes, a descriptive title (\"MSE plot\" is NOT a descriptive title; \"Training and validation MSE at varying degree polynomial regression models\" on the other hand is descriptive), a legend when appropriate, and clearly formatted text and graphics.\n",
    "\n",
    "- **Your code may also be evaluated for efficiency and clarity.** As a result, correct output is not always sufficient for full credit.\n",
    "\n",
    "<hr style=\"height:2pt\">"
   ]
  },
  {
   "cell_type": "markdown",
   "metadata": {
    "cell_id": "00004-bdb4212f-f6fd-4355-b1c4-7d1ae142b682",
    "deepnote_cell_height": 435.375,
    "deepnote_cell_type": "markdown"
   },
   "source": [
    "<a id=\"contents\"></a>\n",
    "\n",
    "# Notebook Contents\n",
    "\n",
    "- [**PART 1 [65 pts]: Model interpretation and predictive intervals in ANNs**](#part1)\n",
    "  - [Overview and Data Description](#part1intro)\n",
    "  - [Questions](#part1questions)\n",
    "  - [Solutions](#part1solutions)\n",
    "\n",
    "\n",
    "- [**PART 2 [35 pts]: Kannada MNIST Kaggle competition**](#part2)\n",
    "  - [Problem Statement](#part2intro)\n",
    "  - [The Kannada MNIST Dataset](#part2about)\n",
    "  - [Downloading the Data Files](#part2data)\n",
    "  - [CS109B Kaggle Competition](#part2kaggle)\n",
    "  - [Questions](#part2questions)\n",
    "  - [Solutions](#part2solutions)\n"
   ]
  },
  {
   "cell_type": "markdown",
   "metadata": {
    "cell_id": "00005-a1947a47-1ade-456a-8e8e-4f071ddbe037",
    "deepnote_cell_height": 987.15625,
    "deepnote_cell_type": "markdown"
   },
   "source": [
    "<a id=\"part1\"></a>\n",
    "    \n",
    "<!-- <div class=\"alert alert-block alert-danger\" style=\"color:black;background-color:#E7F4FA\"> -->\n",
    "\n",
    "# PART 1 [65 pts]: Model interpretation and predictive intervals in ANNs\n",
    "\n",
    "[Return to contents](#contents)\n",
    "\n",
    "<a id=\"part1intro\"></a>\n",
    "\n",
    "## Overview and Data Description\n",
    "\n",
    "[Return to contents](#contents)\n",
    "\n",
    "In this problem, you will be building and interpreting models to predict whether a flight was delayed for its arrival. The model will be based on features that can be measured as the flight takes off.\n",
    "\n",
    "We will also estimate the predictive intervals of the model using bootstrapping. We will utilize those predictive intervals to build a new kind of model: a model that refrains from making a prediction when it is not confident.\n",
    "\n",
    "The included variables are:\n",
    "\n",
    "    \n",
    "**ARRIVAL_DELAY**: the difference between scheduled arrival and actual arrival, in minutes (positive is late, negative is early).\n",
    "\n",
    "**DISTANCE**: the distance between arrival and departure airports, in miles.\n",
    "\n",
    "**SCHEDULED_TIME**: the flight's scheduled travel time in minutes.\n",
    "\n",
    "**MONTH**: the month the flight took off, 1 = January, 2 = February, etc.\n",
    "\n",
    "**SCHED_DEP_HOUR**: the scheduled departure time (the hour of the day).\n",
    "\n",
    "**SCHED_ARR_HOUR**: the scheduled arrival time (the hour of the day).\n",
    "\n",
    "**FLIGHT_COUNT**: the number of flights flying out of the origin airport before noon on a typical day.\n",
    "\n",
    "**DAY_OF_WEEK**: the day of the week, 1 = Monday, 2 = Tuesday, etc.\n",
    "\n",
    "**ORIGIN_AIRPORT**: the airport the flight took off from.\n",
    "\n",
    "**DESTINATION_AIRPORT**: the airport the flight was scheduled to land at.\n",
    "\n",
    "For the airport codes, see: https://www.bts.gov/topics/airlines-and-airports/world-airport-codes\n",
    "\n",
    "To sucessfully complete this part, you will proceed by fitting a NN model, evaluating its accuracy, interpreting the predictors' importance, and finally evaluating the predictive intervals.\n",
    "\n",
    "**NOTE:** the observations were sampled so that roughly half of the observations were delayed and half of the observations were not delayed.\n",
    "\n",
    "<!-- </div> -->"
   ]
  },
  {
   "cell_type": "markdown",
   "metadata": {
    "cell_id": "00006-6557a00f-03aa-4479-9e9d-193ea19b9025",
    "deepnote_cell_height": 2818.03125,
    "deepnote_cell_type": "markdown",
    "tags": []
   },
   "source": [
    "<a id=\"part1questions\"></a>\n",
    "\n",
    "## <div class='exercise'>PART 1: Questions</div> \n",
    "\n",
    "[Return to contents](#contents)\n",
    "\n",
    "<a id=\"q11\"></a>\n",
    "\n",
    "**1.1** **Preprocess the data**\n",
    "\n",
    "Our first step will be to read in our dataset and preprocess our data.\n",
    "\n",
    "- **1.1.1**  Read in the dataset `flights.csv`. Create a variable `DELAY_OR_NOT` that denotes whether `ARRIVAL_DELAY` is greater-than-or-equal-to 15 minutes (the FAA and BTS define a flight as delayed if it is 15 minutes late or more). This is going to be the response variable for the rest of this question. \n",
    "\n",
    "\n",
    "- **1.1.2** Preprocess the data: deal with missing values if there are any, one-hot-encode the non-numeric categorical variables, and split and standardize the data (use an 80/20 train-test split with `random_state=111`). Print the resulting shapes of your $X$ and $y$ dataframes for both your train and your test sets. **NOTE:** While inspecting your data, you may notice that a large number of airport codes are recorded using 5-digit values instead of the expected 3-letter codes. That is perfectly fine. Those 5-digit values should be considered valid and just be treated the same as they would be if they were 3-letter codes.\n",
    "\n",
    "<a id=\"q12\"></a>\n",
    "\n",
    "**1.2** **Fit an ANN**\n",
    "\n",
    "Fit an artificial neural network model using all predictors (name this model `NN_model`).  Use a dense feed-forward network with two hidden layers with 15 nodes in each hidden layer. For this network, use a reasonable activation function for the hidden layers, select an appropriate loss function and optimizer, specify a validation split of 0.2, train for a reasonable number of epochs, and feel free to use tensorflow's default batch size while training. Plot the training accuracy and validation accuracy as a function of epochs from your `NN_model`'s training history. Evaluate the `NN_model` model on both train and test, and print out the resulting train and test accuracies.\n",
    "\n",
    "**Hint:** You should base your choice of \"a reasonable number of epochs\" on the visualization of the model's training history.\n",
    "\n",
    "<a id=\"q13\"></a>\n",
    "\n",
    "**1.3** **Fit and examine a \"proxy\" model**\n",
    "\n",
    "Neural networks are often called 'black-box' models because it is difficult to interpret just what role each feature plays in the predictions they output. But suppose we choose a second type of model which is easier to interpret and train it to *predict the predictions* of the`NN_model`. That is, the response variable for the second model is the set of predictions generated by the `NN_model`, $\\hat{y}$, **not** the true values, $y$. Interpreting this second, \"proxy\" model can then give us some insight into how the `NN_model` is making its predictions.\n",
    "\n",
    "\n",
    "- **1.3.1** First, generate a set of `NN_model` class predictions for the training set. These $\\hat{y}$ training predictions will be used instead of the true $y$ training values when we fit our proxy model in 1.3.2. The $X$ values used in our 1.3.2 proxy model should be the same ones used for `NN_model`.\n",
    "\n",
    "\n",
    "- **1.3.2** Next, fit a logistic regression model using your $\\hat{y}$ values from 1.3.1 (name this model `logreg`). Use ridge-like regularization. Print the `logreg` test accuracy to confirm that it is similar to what we saw for our `NN_model` test accuracy in 1.2. You may need to adjust `C` in order to achieve a similar accuracy.\n",
    "\n",
    "\n",
    "- **1.3.3** Now use sklearn's `permutation_importance` function (already included in this notebook's imports) to compute the feature importance using the `logreg` model. Plot the **relative** feature importance (normalizing your importances so that your largest importance equals 1 for comparison purposes) for the top-10 most important predictors identified by the `permutation_importance` function.\n",
    "\n",
    "  - Please refer to sklearn's official documentation to learn how this function works.\n",
    "  \n",
    "  - When running `permutation_importance` for this problem, you can use the default number of `n_repeats` and your estimator's default `scorer`. To speed up the time it takes to run your permutations, you can try setting `n_jobs=-1` to take full advantage of all of your available processor cores.\n",
    "\n",
    "<a id=\"q14\"></a>\n",
    "\n",
    "**1.4** **Visualize important features** \n",
    "\n",
    "Another way to interpret the  `NN_model` is by examining the response as a function of any of the predictors. Particularly, we will select from features often found most significant from the analysis above. Though the data has been scaled, **for all plots in 1.4, please visualize using the original scale for interpretability.**\n",
    "\n",
    "**NOTE:** The predictors you are required to use in 1.4 may differ from some of the top-10 predictors you identified in 1.3 as a result of random variability in our algorithms.\n",
    "\n",
    "\n",
    "- **1.4.1** Set all predictors to their means/modes except for `SCHED_DEP_HOUR` (when deciding between mean and mode, consider whether a given predictor is continous or categorical). Next, predict the `NN_model` probability of delay and plot the predicted probabilities of delay vs. `SCHED_DEP_HOUR` on the data from the **training set**. Interpret what you see in 2-4 sentences.\n",
    "\n",
    "\n",
    "- **1.4.2** Set all predictors to their means/modes except for `SCHED_DEP_HOUR` and `FLIGHT_COUNT`. Predict the `NN_model` probability of delay and plot the predicted probabilities of delay vs. `SCHED_DEP_HOUR` and `FLIGHT_COUNT` from the training set (see the question 1.4 \"HINT\" below).\n",
    "\n",
    "\n",
    "- **1.4.3** Set all predictors to their means/modes except for `SCHED_DEP_HOUR` and `SCHED_ARR_HOUR`. Predict the `NN_model` probability of delay and plot the predicted probabilities of delay vs. `SCHED_DEP_HOUR` and `SCHED_ARR_HOUR` from the training set.\n",
    "\n",
    "\n",
    "- **1.4.4** Set all predictors to their means/modes except for except for `SCHED_DEP_HOUR` and `DISTANCE`. Predict the `NN_model` probability of delay and plot the predicted probabilities of delay vs. `SCHED_DEP_HOUR` and `DISTANCE` from the training set. \n",
    "\n",
    "\n",
    "- **1.4.5** In 5-10 sentences, interpret what you have seen in 1.4.2, 1.4.3, and 1.4.4.\n",
    "\n",
    "**HINT:** For 1.4.2, 1.4.3, and 1.4.4, when you include `SCHED_DEP_HOUR` on one axis and your second predictor on the other axis, you can color your data points based on their corresponding predicted probabilities by using  the `c` and `cmap` arguments in `plt.scatter`. You can also add a labeled colorbar to your plot to make clear what those colors mean. You can refer to the [matplotlib documentation](https://matplotlib.org/stable/tutorials/index) for examples. This [stackoverflow post](https://stackoverflow.com/questions/17682216/scatter-plot-and-color-mapping-in-python) covering color mapping with scatter plots may also be useful. \n",
    "\n",
    "<a id=\"q15\"></a>\n",
    "\n",
    "**1.5** **Bootstrap prediction intervals**\n",
    "\n",
    "In this part, we will attempt to do model inference. Neural Networks have too many parameters, and therefore inference on all the parameters is intractable and meaningless. \n",
    "\n",
    "Using the same network architecture as `NN_model` (layers, nodes, activations, etc.) and your scaled data from that model, create multiple training sets using bootstrapping and fit a separate neural network model to each bootstrapped set of data (the number of bootstraped *datasets*, $n$, should be at least 50). For each of the $n$ models, make predictions on the test data. Randomly select 8 test observations and on 8 subplots, plot the distribution of the $n$ predicted probabilities with the 95% prediction intervals clearly marked and reported in each subplot and the **actual** class of each observation included in each subplot's title for easy reference.\n",
    "    \n",
    "Interpret what you see in 3-5 sentences.\n",
    "\n",
    "**NOTE:** The code for this problem can take an extremely long time to execute. Please feel free to use the `progressbar` function provided below to visually track the progress of your bootstraps.\n",
    "\n",
    "<a id=\"q16\"></a>\n",
    "\n",
    "**1.6** **Build an \"abstain\" bagging model**\n",
    "\n",
    "Using the probability distribution of the predictions obtained from the bootstrapped samples above, we can evaluate how \"significant\" our bagged (i.e. bootstrap-aggregated) prediction will be for each test observation.\n",
    "\n",
    "To accomplish this, you will first calculate the ratio of bootstrapped probabilities that cross the threshold value of $\\hat{p}=0.5$. Let's call this ratio the **Posterior Prediction Ratio (PPR)**. When a bagged prediction's $PPR=0$, all predictions are compatible (i.e. all bootstrapped probabilities for that test observation are on the same side of $\\hat{p}=0.5$). Likewise, when the $PPR=0.5$, half of the bootstrapped predictions for that test observation are $\\hat{y}=0$, and the other half are $\\hat{y}=1$. After calculating your $PPR$ values for all test observations, you should have $n=2000$ $PPR$ values (i.e. one for each test observation).\n",
    "\n",
    "Next, to get more accurate predictions, we can create an **abstain** model that will abstain from making a prediction for a particular observation if some defined threshold for significance (i.e. minimum $PPR$ value) is not met. (If you'd like to learn more about abstain models, you can read more [here](https://openreview.net/forum?id=rJxF73R9tX).)\n",
    "\n",
    "Let's explore how your resulting test accuracies might change by using your bootstrapped prediction results from question 1.5 for an **abstain bagging model** (i.e. a bootstrap aggregated model where some test observations are simply not predicted based on a given $PPR$ threshold). You can make your abstain model *stricter* by using smaller $PPR$ threshold values.\n",
    "\n",
    "- Print the test accuracy for your **bagging model** predictions from question 1.5 using predictions for all 2,000 of our test observations. \n",
    "\n",
    "- Plot the test accuracies for an **abstain bagging model** using your predictions from question 1.5 as a function of increasing $PPR$.\n",
    "\n",
    "- Also, plot the proportion of test observations not abstained (i.e. the proportion of those predicted) for your **abstain bagging model** as a function of increasing $PPR$.\n",
    "\n",
    "- Interpret what you see in 3-5 sentences.\n",
    "\n",
    "**NOTE**: You should observe that as $PPR$ decreases (more confident predictions), you must also compromise on the number of points that your abstain model predicts confidently. \n"
   ]
  },
  {
   "cell_type": "markdown",
   "metadata": {
    "cell_id": "00007-c242feec-3cd2-442f-a7fe-cf7bdd92d19a",
    "deepnote_cell_height": 122.390625,
    "deepnote_cell_type": "markdown"
   },
   "source": [
    "<a id=\"part1solutions\"></a>\n",
    "\n",
    "## PART 1: Solutions\n",
    "\n",
    "[Return to contents](#contents)\n"
   ]
  },
  {
   "cell_type": "markdown",
   "metadata": {
    "cell_id": "00008-a3a90d77-3445-477d-aa33-928112d73341",
    "deepnote_cell_height": 102.796875,
    "deepnote_cell_type": "markdown",
    "tags": []
   },
   "source": [
    "<div class='exercise-r'>\n",
    "\n",
    "**1.1**  **Preprocess the data**\n",
    "\n",
    "Our first step will be to read in our dataset and preprocess our data.\n",
    "\n",
    "\n",
    "\n",
    "</div>"
   ]
  },
  {
   "cell_type": "markdown",
   "metadata": {
    "cell_id": "00009-784f36f8-1822-4c10-b950-1c3806faaa9f",
    "deepnote_cell_height": 111.1875,
    "deepnote_cell_type": "markdown",
    "tags": []
   },
   "source": [
    "<div class='exercise-r'>\n",
    "\n",
    "**1.1.1**   Read in the dataset `flights.csv`. Create a variable `DELAY_OR_NOT` that denotes whether `ARRIVAL_DELAY` is greater-than-or-equal-to 15 minutes (the FAA and BTS define a flight as delayed if it is 15 minutes late or more). This is going to be the response variable for the rest of this question. \n",
    "\n",
    "\n",
    "\n",
    "\n",
    "</div>"
   ]
  },
  {
   "cell_type": "code",
   "execution_count": 3,
   "metadata": {
    "cell_id": "00010-ba10197a-06d0-45fa-a65e-c4c94c7c8abd",
    "deepnote_cell_height": 117,
    "deepnote_cell_type": "code",
    "deepnote_to_be_reexecuted": false,
    "execution_millis": 39,
    "execution_start": 1646177109693,
    "source_hash": "8f394f88"
   },
   "outputs": [],
   "source": [
    "# your code here\n",
    "flights = pd.read_csv(\"data/flights.csv\")\n",
    "flights['DELAY_OR_NOT'] = np.where(flights['ARRIVAL_DELAY'] >= 15, 1, 0)"
   ]
  },
  {
   "cell_type": "markdown",
   "metadata": {
    "cell_id": "00011-c063462f-a17e-4af4-a558-956bc8489e33",
    "deepnote_cell_height": 178.390625,
    "deepnote_cell_type": "markdown",
    "tags": []
   },
   "source": [
    "<div class='exercise-r'>\n",
    "\n",
    "**1.1.2**  Preprocess the data: deal with missing values if there are any, one-hot-encode the non-numeric categorical variables, and split and standardize the data (use an 80/20 train-test split with `random_state=111`). Print the resulting shapes of your $X$ and $y$ dataframes for both your train and your test sets. **NOTE:** While inspecting your data, you may notice that a large number of airport codes are recorded using 5-digit values instead of the expected 3-letter codes. That is perfectly fine. Those 5-digit values should be considered valid and just be treated the same as they would be if they were 3-letter codes.\n",
    "\n",
    "<a id=\"q12\"></a>\n",
    "\n",
    "\n",
    "\n",
    "</div>"
   ]
  },
  {
   "cell_type": "code",
   "execution_count": 4,
   "metadata": {
    "cell_id": "00012-52bacc2d-cb79-4af6-9304-f0d762749a03",
    "deepnote_cell_height": 261,
    "deepnote_cell_type": "code",
    "deepnote_to_be_reexecuted": false,
    "execution_millis": 38,
    "execution_start": 1646177109754,
    "source_hash": "be8563b8",
    "tags": []
   },
   "outputs": [],
   "source": [
    "# CHECK FOR MISSING VALUES\n",
    "flights.isnull().sum()\n",
    "flights[flights['DISTANCE'].isnull()]\n",
    "\n",
    "# replace na with mean values based on origina and destination\n",
    "flights.loc[flights['DISTANCE'].isnull(), 'DISTANCE'] = flights[(flights['ORIGIN_AIRPORT']== \"BOS\") & \n",
    "                                                              (flights['DESTINATION_AIRPORT'] == \"SFO\")]['DISTANCE'].mean()\n",
    "flights.loc[flights['FLIGHT_COUNT'].isnull(), 'FLIGHT_COUNT'] = flights[(flights['ORIGIN_AIRPORT']== \"BOS\") & \n",
    "                                                              (flights['DESTINATION_AIRPORT'] == \"SFO\")]['FLIGHT_COUNT'].mean()\n",
    "flights.loc[flights['SCHEDULED_TIME'].isnull(), 'SCHEDULED_TIME'] = flights[(flights['ORIGIN_AIRPORT']== \"BOS\") & \n",
    "                                                                  (flights['DESTINATION_AIRPORT'] == \"SFO\")]['SCHEDULED_TIME'].mean()"
   ]
  },
  {
   "cell_type": "code",
   "execution_count": 5,
   "metadata": {
    "cell_id": "00013-d2361ba8-5667-4f51-b440-12ce70b55bc1",
    "deepnote_cell_height": 603,
    "deepnote_cell_type": "code",
    "deepnote_to_be_reexecuted": false,
    "execution_millis": 134,
    "execution_start": 1646177109792,
    "source_hash": "56c957f6"
   },
   "outputs": [],
   "source": [
    "# ONE-HOT ENCODING\n",
    "categorical_var = ['ORIGIN_AIRPORT', 'DESTINATION_AIRPORT']\n",
    "for i in categorical_var:\n",
    "    dummies = pd.get_dummies(flights[i], prefix=i)\n",
    "    flights = flights.join(dummies)\n",
    "    flights = flights.drop(columns = i)\n",
    "    \n",
    "# TRAIN TEST SPLIT\n",
    "y = flights[['DELAY_OR_NOT']]\n",
    "X = flights.drop(columns = ['DELAY_OR_NOT', 'ARRIVAL_DELAY'])\n",
    "X_train, X_test, y_train, y_test = train_test_split(X, y, test_size=0.20, random_state=111)\n",
    "\n",
    "X_train = X_train.reset_index(drop=True)\n",
    "X_test = X_test.reset_index(drop=True)\n",
    "y_train = y_train.reset_index(drop=True)\n",
    "y_test = y_test.reset_index(drop=True)\n",
    "                 \n",
    "# STANDARDIZE\n",
    "continuous_var = ['MONTH', 'SCHED_DEP_HOUR', 'SCHED_ARR_HOUR','DAY_OF_WEEK','DISTANCE','SCHEDULED_TIME', 'FLIGHT_COUNT']\n",
    "X_train_scaled = X_train.copy()\n",
    "features = X_train_scaled[continuous_var]\n",
    "\n",
    "scaler = StandardScaler().fit(features.values)\n",
    "\n",
    "features = scaler.transform(features.values)\n",
    "X_train_scaled[continuous_var] = features\n",
    "\n",
    "X_test_scaled = X_test.copy()\n",
    "features = X_test_scaled[continuous_var]\n",
    "X_test_scaled[continuous_var] = scaler.transform(features.values)"
   ]
  },
  {
   "cell_type": "markdown",
   "metadata": {
    "cell_id": "00014-f61dac47-9ad0-4591-aea1-b2e394f938a0",
    "deepnote_cell_height": 273.578125,
    "deepnote_cell_type": "markdown",
    "tags": []
   },
   "source": [
    "<div class='exercise-r'>\n",
    "\n",
    "**1.2**  **Fit an ANN**\n",
    "\n",
    "Fit an artificial neural network model using all predictors (name this model `NN_model`).  Use a dense feed-forward network with two hidden layers with 15 nodes in each hidden layer. For this network, use a reasonable activation function for the hidden layers, select an appropriate loss function and optimizer, specify a validation split of 0.2, train for a reasonable number of epochs, and feel free to use tensorflow's default batch size while training. Plot the training accuracy and validation accuracy as a function of epochs from your `NN_model`'s training history. Evaluate the `NN_model` model on both train and test, and print out the resulting train and test accuracies.\n",
    "\n",
    "**Hint:** You should base your choice of \"a reasonable number of epochs\" on the visualization of the model's training history.\n",
    "\n",
    "<a id=\"q13\"></a>\n",
    "\n",
    "\n",
    "\n",
    "</div>"
   ]
  },
  {
   "cell_type": "code",
   "execution_count": 6,
   "metadata": {
    "cell_id": "00015-91f142a2-bdac-4a7b-a6c2-679ef7cb5d04",
    "deepnote_cell_height": 675.421875,
    "deepnote_cell_type": "code",
    "deepnote_to_be_reexecuted": false,
    "execution_millis": 40025,
    "execution_start": 1646177110010,
    "source_hash": "aeadc0b8"
   },
   "outputs": [
    {
     "name": "stdout",
     "output_type": "stream",
     "text": [
      "Model: \"Many_layers_neurons\"\n",
      "_________________________________________________________________\n",
      " Layer (type)                Output Shape              Param #   \n",
      "=================================================================\n",
      " dense (Dense)               (None, 15)                12165     \n",
      "                                                                 \n",
      " dense_1 (Dense)             (None, 15)                240       \n",
      "                                                                 \n",
      " dense_2 (Dense)             (None, 1)                 16        \n",
      "                                                                 \n",
      "=================================================================\n",
      "Total params: 12,421\n",
      "Trainable params: 12,421\n",
      "Non-trainable params: 0\n",
      "_________________________________________________________________\n"
     ]
    }
   ],
   "source": [
    "#### Building NN_model\n",
    "NN_model = tf.keras.models.Sequential(name='Many_layers_neurons')\n",
    "\n",
    "#### First hidden layer  \n",
    "NN_model.add(tf.keras.layers.Dense(15, activation='relu',\n",
    "                                   kernel_initializer='random_uniform', \n",
    "                                   bias_initializer='random_uniform',\n",
    "                                   input_shape=(X_train_scaled.shape[1],)))\n",
    "\n",
    "#### Second hidden layer  \n",
    "NN_model.add(tf.keras.layers.Dense(15, activation='relu',\n",
    "                                   kernel_initializer='random_uniform', \n",
    "                                   bias_initializer='random_uniform'))\n",
    "\n",
    "#### Add the output layer and check the summary\n",
    "NN_model.add(tf.keras.layers.Dense(1,  activation='sigmoid'))\n",
    "NN_model.summary()"
   ]
  },
  {
   "cell_type": "code",
   "execution_count": 7,
   "metadata": {
    "cell_id": "00016-8f22a543-d6aa-420c-b9cc-f322d0140b4b",
    "deepnote_cell_height": 153,
    "deepnote_cell_type": "code",
    "deepnote_to_be_reexecuted": false,
    "execution_millis": 0,
    "execution_start": 1646177150033,
    "source_hash": "944de727"
   },
   "outputs": [],
   "source": [
    "# Compile model\n",
    "NN_model.compile(optimizer=tf.keras.optimizers.Adam(), loss='binary_crossentropy', metrics = 'accuracy')\n",
    "\n",
    "# Fit model\n",
    "history = NN_model.fit(X_train_scaled, y_train, validation_split = 0.2, epochs=100, verbose = 0)"
   ]
  },
  {
   "cell_type": "code",
   "execution_count": 8,
   "metadata": {
    "cell_id": "00017-098689ac-195e-45d3-a5a4-ad260c2ea39c",
    "deepnote_cell_height": 754.796875,
    "deepnote_cell_type": "code",
    "deepnote_output_heights": [
     225.796875
    ]
   },
   "outputs": [
    {
     "data": {
      "image/png": "[encoded data removed]",
      "text/plain": [
       "<Figure size 1440x360 with 2 Axes>"
      ]
     },
     "metadata": {
      "needs_background": "light"
     },
     "output_type": "display_data"
    }
   ],
   "source": [
    "# Plot training and validation loss\n",
    "def plot_loss_acc(history):\n",
    "    train_loss = history.history['loss'] \n",
    "    val_loss = history.history['val_loss']\n",
    "    train_acc = history.history['accuracy'] \n",
    "    val_acc = history.history['val_accuracy']\n",
    "\n",
    "    fig, ax = plt.subplots(1, 2, figsize = (20,5))\n",
    "    ax[0].loglog(train_loss, label = 'Training')\n",
    "    ax[0].loglog(val_loss, label = 'Validation')\n",
    "    ax[0].set_title('Training and validation loss by epoch')\n",
    "    ax[0].set_xlabel('Epoch')\n",
    "    ax[0].set_ylabel('Loss')\n",
    "    ax[0].legend()\n",
    "\n",
    "    ax[1].loglog(train_acc, label = 'Training')\n",
    "    ax[1].loglog(val_acc, label = 'Validation')\n",
    "    ax[1].set_title('Training and validation accuracy by epoch')\n",
    "    ax[1].set_xlabel('Epoch')\n",
    "    ax[1].set_ylabel('Accuracy')\n",
    "    ax[1].legend()\n",
    "    plt.show()\n",
    "    pass\n",
    "\n",
    "plot_loss_acc(history)"
   ]
  },
  {
   "cell_type": "markdown",
   "metadata": {
    "cell_id": "1161c1f4-78ef-4541-a9c9-2c56184a89c7",
    "deepnote_cell_height": 155.984375,
    "deepnote_cell_type": "markdown",
    "tags": []
   },
   "source": [
    "**Choice of reasonable number of epochs**\n",
    "\n",
    "On the plot below we see that with 200 epochs our model starts overfitting, meaning that we can see there is a sheer divergence between validation loss and training loss. At 200 epochs our validation loss is increasing significantly and our training loss is decreasing significantly, meaning that we are overfitting on our training dataset. Given this, now we decide a reasonable number of epochs to be 10 instead of 100. "
   ]
  },
  {
   "cell_type": "code",
   "execution_count": 9,
   "metadata": {
    "cell_id": "9d1a9c0f-0d19-45fe-9707-11b2ed3b45a0",
    "deepnote_cell_height": 459,
    "deepnote_cell_type": "code",
    "deepnote_to_be_reexecuted": false,
    "execution_millis": 4806,
    "execution_start": 1646177151725,
    "source_hash": "52072f3c",
    "tags": []
   },
   "outputs": [],
   "source": [
    "#### Building NN_model\n",
    "NN_model = tf.keras.models.Sequential(name='Many_layers_neurons')\n",
    "\n",
    "#### First hidden layer  \n",
    "NN_model.add(tf.keras.layers.Dense(15, activation='relu',\n",
    "                                   kernel_initializer='random_uniform', \n",
    "                                   bias_initializer='random_uniform',\n",
    "                                   input_shape=(X_train_scaled.shape[1],)))\n",
    "\n",
    "#### Second hidden layer  \n",
    "NN_model.add(tf.keras.layers.Dense(15, activation='relu',\n",
    "                                   kernel_initializer='random_uniform', \n",
    "                                   bias_initializer='random_uniform'))\n",
    "\n",
    "#### Add the output layer and check the summary\n",
    "NN_model.add(tf.keras.layers.Dense(1,  activation='sigmoid'))\n",
    "\n",
    "# Compile model\n",
    "NN_model.compile(optimizer=tf.keras.optimizers.Adam(), loss='binary_crossentropy', metrics = 'accuracy')\n",
    "\n",
    "# Fit model\n",
    "history = NN_model.fit(X_train_scaled, y_train, validation_split = 0.2, epochs=10, verbose = 0)"
   ]
  },
  {
   "cell_type": "code",
   "execution_count": 10,
   "metadata": {
    "cell_id": "00018-b6e84bc9-b372-4a67-8042-7cc9468cd887",
    "deepnote_cell_height": 203.390625,
    "deepnote_cell_type": "code",
    "deepnote_to_be_reexecuted": false,
    "execution_millis": 347,
    "execution_start": 1646177157532,
    "source_hash": "ad5bcbfb"
   },
   "outputs": [
    {
     "name": "stdout",
     "output_type": "stream",
     "text": [
      "Training accuracy:  0.780\n",
      "Test accuracy:  0.711\n"
     ]
    }
   ],
   "source": [
    "# evaluate on train and test and print accuracy results\n",
    "train_loss, train_acc = NN_model.evaluate(X_train_scaled, y_train, verbose = 0)\n",
    "test_loss, test_acc = NN_model.evaluate(X_test_scaled, y_test, verbose = 0)\n",
    "print(f'Training accuracy: {train_acc: .3f}')\n",
    "print(f'Test accuracy: {test_acc: .3f}')"
   ]
  },
  {
   "cell_type": "markdown",
   "metadata": {
    "cell_id": "00019-6f677419-d7f6-471c-a48e-ec84c09d83a2",
    "deepnote_cell_height": 192.390625,
    "deepnote_cell_type": "markdown",
    "tags": []
   },
   "source": [
    "<div class='exercise-r'>\n",
    "\n",
    "**1.3**  **Fit and examine a \"proxy\" model**\n",
    "\n",
    "Neural networks are often called 'black-box' models because it is difficult to interpret just what role each feature plays in the predictions they output. But suppose we choose a second type of model which is easier to interpret and train it to *predict the predictions* of the`NN_model`. That is, the response variable for the second model is the set of predictions generated by the `NN_model`, $\\hat{y}$, **not** the true values, $y$. Interpreting this second, \"proxy\" model can then give us some insight into how the `NN_model` is making its predictions.\n",
    "\n",
    "\n",
    "\n",
    "\n",
    "</div>"
   ]
  },
  {
   "cell_type": "markdown",
   "metadata": {
    "cell_id": "00020-9108d854-e7b7-4dc2-8af6-492d8783e38d",
    "deepnote_cell_height": 111.1875,
    "deepnote_cell_type": "markdown",
    "tags": []
   },
   "source": [
    "<div class='exercise-r'>\n",
    "\n",
    "**1.3.1**  First, generate a set of `NN_model` class predictions for the training set. These $\\hat{y}$ training predictions will be used instead of the true $y$ training values when we fit our proxy model in 1.3.2. The $X$ values used in our 1.3.2 proxy model should be the same ones used for `NN_model`.\n",
    "\n",
    "\n",
    "\n",
    "\n",
    "</div>"
   ]
  },
  {
   "cell_type": "code",
   "execution_count": 11,
   "metadata": {
    "cell_id": "00021-0b9a903f-7553-4a7b-b1ec-64b5f8c74121",
    "deepnote_cell_height": 99,
    "deepnote_cell_type": "code",
    "deepnote_to_be_reexecuted": false,
    "execution_millis": 762,
    "execution_start": 1646177158333,
    "source_hash": "17fd4a87"
   },
   "outputs": [],
   "source": [
    "# generate prediction\n",
    "y_predict = np.where((NN_model.predict(X_train_scaled))> 0.5, 1, 0)"
   ]
  },
  {
   "cell_type": "markdown",
   "metadata": {
    "cell_id": "00022-7afb8c83-ed20-4e7d-b95d-cf587a6e0ce7",
    "deepnote_cell_height": 111.1875,
    "deepnote_cell_type": "markdown",
    "tags": []
   },
   "source": [
    "<div class='exercise-r'>\n",
    "\n",
    "**1.3.2**  Next, fit a logistic regression model using your $\\hat{y}$ values from 1.3.1 (name this model `logreg`). Use ridge-like regularization. Print the `logreg` test accuracy to confirm that it is similar to what we saw for our `NN_model` test accuracy in 1.2. You may need to adjust `C` in order to achieve a similar accuracy.\n",
    "\n",
    "\n",
    "\n",
    "\n",
    "</div>"
   ]
  },
  {
   "cell_type": "code",
   "execution_count": 12,
   "metadata": {
    "cell_id": "00023-34042c5f-7fdb-45d2-a5d6-f05a2b247fb7",
    "deepnote_cell_height": 201.6875,
    "deepnote_cell_type": "code",
    "deepnote_to_be_reexecuted": false,
    "execution_millis": 890,
    "execution_start": 1646177158651,
    "source_hash": "3682d72a"
   },
   "outputs": [
    {
     "name": "stdout",
     "output_type": "stream",
     "text": [
      "Test accuracy of proxy model: 0.719\n"
     ]
    }
   ],
   "source": [
    "# your code here\n",
    "logreg = LogisticRegression(penalty='l2', C=10, max_iter = 10000)\n",
    "logreg.fit(X_train_scaled, np.ravel(y_predict))\n",
    "y_pred_log = logreg.predict(X_test_scaled)\n",
    "test_acc_prox = accuracy_score(np.ravel(y_test), y_pred_log)\n",
    "print(f\"Test accuracy of proxy model: {test_acc_prox:.3f}\")"
   ]
  },
  {
   "cell_type": "markdown",
   "metadata": {
    "cell_id": "00024-3d5dabc3-01e9-4d13-baad-6ec0f1d24ffe",
    "deepnote_cell_height": 240.1875,
    "deepnote_cell_type": "markdown",
    "tags": []
   },
   "source": [
    "<div class='exercise-r'>\n",
    "\n",
    "**1.3.3**  Now use sklearn's `permutation_importance` function (already included in this notebook's imports) to compute the feature importance using the `logreg` model. Plot the **relative** feature importance (normalizing your importances so that your largest importance equals 1 for comparison purposes) for the top-10 most important predictors identified by the `permutation_importance` function.\n",
    "\n",
    "  - Please refer to sklearn's official documentation to learn how this function works.\n",
    "  \n",
    "  - When running `permutation_importance` for this problem, you can use the default number of `n_repeats` and your estimator's default `scorer`. To speed up the time it takes to run your permutations, you can try setting `n_jobs=-1` to take full advantage of all of your available processor cores.\n",
    "\n",
    "<a id=\"q14\"></a>\n",
    "\n",
    "\n",
    "\n",
    "</div>"
   ]
  },
  {
   "cell_type": "code",
   "execution_count": 13,
   "metadata": {
    "cell_id": "00025-fa7108f7-463e-446d-9d58-076789c2ac0a",
    "deepnote_cell_height": 99,
    "deepnote_cell_type": "code",
    "deepnote_to_be_reexecuted": false,
    "execution_millis": 63523,
    "execution_start": 1646177159562,
    "source_hash": "68691502"
   },
   "outputs": [],
   "source": [
    "# your code here\n",
    "logreg_imp = permutation_importance(logreg, X_train_scaled, y_train, n_jobs=-1, random_state = 0)"
   ]
  },
  {
   "cell_type": "code",
   "execution_count": 14,
   "metadata": {
    "cell_id": "c806de04-d6a5-48e0-8b95-0bf81385709e",
    "deepnote_cell_height": 247.78125,
    "deepnote_cell_type": "code",
    "deepnote_output_heights": [
     78.78125
    ],
    "deepnote_to_be_reexecuted": false,
    "execution_millis": 6,
    "execution_start": 1646177223106,
    "source_hash": "7e521f28",
    "tags": []
   },
   "outputs": [
    {
     "data": {
      "text/plain": [
       "Index(['ORIGIN_AIRPORT_SEA', 'DESTINATION_AIRPORT_ATL', 'ORIGIN_AIRPORT_LGA',\n",
       "       'FLIGHT_COUNT', 'DESTINATION_AIRPORT_ORD', 'ORIGIN_AIRPORT_ATL',\n",
       "       'MONTH', 'DESTINATION_AIRPORT_LGA', 'DAY_OF_WEEK', 'SCHED_DEP_HOUR'],\n",
       "      dtype='object')"
      ]
     },
     "execution_count": 14,
     "metadata": {},
     "output_type": "execute_result"
    }
   ],
   "source": [
    "logreg_imp_score = logreg_imp['importances_mean']\n",
    "logreg_imp_score_norm = logreg_imp_score/logreg_imp_score.max()\n",
    "top_10_ind = logreg_imp_score_norm.argsort()[-10:]\n",
    "top_10_var = X_train.columns[top_10_ind]\n",
    "top_10_var"
   ]
  },
  {
   "cell_type": "code",
   "execution_count": 15,
   "metadata": {
    "cell_id": "db867e9d-f061-40bb-afe4-672cf429e962",
    "deepnote_cell_height": 435,
    "deepnote_cell_type": "code",
    "deepnote_output_heights": [
     266
    ],
    "deepnote_to_be_reexecuted": false,
    "execution_millis": 653,
    "execution_start": 1646177223114,
    "source_hash": "45ca9b63",
    "tags": []
   },
   "outputs": [
    {
     "data": {
      "image/png": "[encoded data removed]",
      "text/plain": [
       "<Figure size 432x288 with 1 Axes>"
      ]
     },
     "metadata": {
      "needs_background": "light"
     },
     "output_type": "display_data"
    }
   ],
   "source": [
    "ax = sns.barplot(x=logreg_imp_score_norm[top_10_ind], y=top_10_var, color = 'yellow', orient = 'h')\n",
    "for index, val in enumerate(logreg_imp_score_norm[top_10_ind]):\n",
    "    ax.text(val/3, index, round(val, 2), weight = 'bold', va = 'center')\n",
    "ax.set_title('NN Feature Importance According to Logistic Regression Proxy')\n",
    "sns.despine(right = True)"
   ]
  },
  {
   "cell_type": "markdown",
   "metadata": {
    "cell_id": "00026-b048e514-3b77-4966-acd8-275e7d45cc1e",
    "deepnote_cell_height": 206.390625,
    "deepnote_cell_type": "markdown",
    "tags": []
   },
   "source": [
    "<div class='exercise-r'>\n",
    "\n",
    "**1.4**  **Visualize important features** \n",
    "\n",
    "Another way to interpret the  `NN_model` is by examining the response as a function of any of the predictors. Particularly, we will select from features often found most significant from the analysis above. Though the data has been scaled, **for all plots in 1.4, please visualize using the original scale for interpretability.**\n",
    "\n",
    "**NOTE:** The predictors you are required to use in 1.4 may differ from some of the top-10 predictors you identified in 1.3 as a result of random variability in our algorithms.\n",
    "\n",
    "\n",
    "\n",
    "\n",
    "</div>"
   ]
  },
  {
   "cell_type": "markdown",
   "metadata": {
    "cell_id": "00027-09770423-3dd0-4ce6-a18a-19ce419ca57f",
    "deepnote_cell_height": 133.59375,
    "deepnote_cell_type": "markdown",
    "tags": []
   },
   "source": [
    "<div class='exercise-r'>\n",
    "\n",
    "**1.4.1**  Set all predictors to their means/modes except for `SCHED_DEP_HOUR` (when deciding between mean and mode, consider whether a given predictor is continous or categorical. Next, predict the `NN_model` probability of delay and plot the predicted probabilities of delay vs. `SCHED_DEP_HOUR` on the data from the **training set**. Interpret what you see in 2-4 sentences.\n",
    "\n",
    " \n",
    "\n",
    "\n",
    "</div>"
   ]
  },
  {
   "cell_type": "code",
   "execution_count": 16,
   "metadata": {
    "cell_id": "00028-19b6b04d-581d-45d7-b88f-f07efef76354",
    "deepnote_cell_height": 648,
    "deepnote_cell_type": "code",
    "deepnote_output_heights": [
     281
    ],
    "deepnote_to_be_reexecuted": false,
    "execution_millis": 1088,
    "execution_start": 1646177223779,
    "source_hash": "d35b08c"
   },
   "outputs": [
    {
     "data": {
      "image/png": "[encoded data removed]",
      "text/plain": [
       "<Figure size 432x288 with 1 Axes>"
      ]
     },
     "metadata": {
      "needs_background": "light"
     },
     "output_type": "display_data"
    }
   ],
   "source": [
    "# set all predictors to mean/mode\n",
    "continuous_var = continuous_var\n",
    "categorical_var = [i for i in X_train.columns if i not in continuous_var]\n",
    "X_train_14 = X_train_scaled.copy()\n",
    "X_train_14[continuous_var] = X_train_14[continuous_var].mean()\n",
    "for i in categorical_var:\n",
    "    X_train_14[i] = (X_train_14[i].mode()[0])\n",
    "X_train_14['SCHED_DEP_HOUR'] = X_train_scaled['SCHED_DEP_HOUR']\n",
    "\n",
    "# predict\n",
    "y_pred_14 = NN_model.predict(X_train_14)\n",
    "plt.scatter(X_train['SCHED_DEP_HOUR'], y_pred_14)\n",
    "plt.title(\"Predicted probabilities vs. SCHED_DEP_HOUR\") \n",
    "plt.xlabel(\"SCHED_DEP_HOUR\")\n",
    "plt.ylabel(\"Predicted probability\")\n",
    "plt.show()"
   ]
  },
  {
   "cell_type": "markdown",
   "metadata": {
    "cell_id": "00029-050b0bee-c36d-4310-853c-078da5608309",
    "deepnote_cell_height": 52.390625,
    "deepnote_cell_type": "markdown"
   },
   "source": [
    "**INTERPRETATION:**"
   ]
  },
  {
   "cell_type": "markdown",
   "metadata": {
    "cell_id": "00030-894d9d93-59de-43c0-8e98-7c3bbd34d775",
    "deepnote_cell_height": 69.390625,
    "deepnote_cell_type": "markdown"
   },
   "source": [
    "- The later the departure hour in the day, the more likely the flight will be delayed."
   ]
  },
  {
   "cell_type": "markdown",
   "metadata": {
    "cell_id": "00031-ae5b194f-fd92-4a03-9066-418157b0c4e1",
    "deepnote_cell_height": 111.1875,
    "deepnote_cell_type": "markdown",
    "tags": []
   },
   "source": [
    "<div class='exercise-r'>\n",
    "\n",
    "**1.4.2**  Set all predictors to their means/modes except for `SCHED_DEP_HOUR` and `FLIGHT_COUNT`. Predict the `NN_model` probability of delay and plot the predicted probabilities of delay vs. `SCHED_DEP_HOUR` and `FLIGHT_COUNT` from the training set (see the question 1.4 \"HINT\" below).\n",
    "\n",
    "\n",
    "\n",
    "\n",
    "</div>"
   ]
  },
  {
   "cell_type": "code",
   "execution_count": 17,
   "metadata": {
    "cell_id": "00032-7d2e30bf-7b4f-421a-955a-d7b42883d656",
    "deepnote_cell_height": 720,
    "deepnote_cell_type": "code",
    "deepnote_output_heights": [
     281
    ],
    "deepnote_to_be_reexecuted": false,
    "execution_millis": 1146,
    "execution_start": 1646177224729,
    "source_hash": "4a6e7f83"
   },
   "outputs": [
    {
     "data": {
      "image/png": "[encoded data removed]",
      "text/plain": [
       "<Figure size 432x288 with 2 Axes>"
      ]
     },
     "metadata": {
      "needs_background": "light"
     },
     "output_type": "display_data"
    }
   ],
   "source": [
    "# set all predictors to mean/mode\n",
    "continuous_var = continuous_var\n",
    "categorical_var = [i for i in X_train.columns if i not in continuous_var]\n",
    "X_train_14 = X_train_scaled.copy()\n",
    "X_train_14[continuous_var] = X_train_14[continuous_var].mean()\n",
    "for i in categorical_var:\n",
    "    X_train_14[i] = (X_train_14[i].mode()[0])\n",
    "X_train_14.head()\n",
    "X_train_14['SCHED_DEP_HOUR'] = X_train_scaled['SCHED_DEP_HOUR']\n",
    "X_train_14['FLIGHT_COUNT'] = X_train_scaled['FLIGHT_COUNT']\n",
    "\n",
    "# predict\n",
    "y_pred_14 = NN_model.predict(X_train_14)\n",
    "plt.scatter(X_train['SCHED_DEP_HOUR'], X_train['FLIGHT_COUNT'], c = y_pred_14, cmap = 'viridis')\n",
    "plt.colorbar()\n",
    "plt.title(\"Predicted probabilities represented by color\") \n",
    "plt.xlabel(\"SCHED_DEP_HOUR\")\n",
    "plt.ylabel(\"FLIGHT_COUNT\")\n",
    "plt.show()\n"
   ]
  },
  {
   "cell_type": "markdown",
   "metadata": {
    "cell_id": "00033-8c16dddd-b510-4004-9cba-b374e3d054e9",
    "deepnote_cell_height": 111.1875,
    "deepnote_cell_type": "markdown",
    "tags": []
   },
   "source": [
    "<div class='exercise-r'>\n",
    "\n",
    "**1.4.3**  Set all predictors to their means/modes except for `SCHED_DEP_HOUR` and `SCHED_ARR_HOUR`. Predict the `NN_model` probability of delay and plot the predicted probabilities of delay vs. `SCHED_DEP_HOUR` and `SCHED_ARR_HOUR` from the training set.\n",
    "\n",
    "\n",
    "\n",
    "\n",
    "</div>"
   ]
  },
  {
   "cell_type": "code",
   "execution_count": 18,
   "metadata": {
    "cell_id": "00034-071d0cba-4a2a-42b1-984a-c05a60f72611",
    "deepnote_cell_height": 702,
    "deepnote_cell_type": "code",
    "deepnote_output_heights": [
     281
    ],
    "deepnote_to_be_reexecuted": false,
    "execution_millis": 1448,
    "execution_start": 1646177225891,
    "source_hash": "e4e73179"
   },
   "outputs": [
    {
     "data": {
      "image/png": "[encoded data removed]",
      "text/plain": [
       "<Figure size 432x288 with 2 Axes>"
      ]
     },
     "metadata": {
      "needs_background": "light"
     },
     "output_type": "display_data"
    }
   ],
   "source": [
    "# set all predictors to mean/mode\n",
    "continuous_var = continuous_var\n",
    "categorical_var = [i for i in X_train.columns if i not in continuous_var]\n",
    "X_train_14 = X_train_scaled.copy()\n",
    "X_train_14[continuous_var] = X_train_14[continuous_var].mean()\n",
    "for i in categorical_var:\n",
    "    X_train_14[i] = (X_train_14[i].mode()[0])\n",
    "X_train_14.head()\n",
    "X_train_14['SCHED_DEP_HOUR'] = X_train_scaled['SCHED_DEP_HOUR']\n",
    "X_train_14['SCHED_ARR_HOUR'] = X_train_scaled['SCHED_ARR_HOUR']\n",
    "\n",
    "# predict\n",
    "y_pred_14 = NN_model.predict(X_train_14)\n",
    "plt.scatter(X_train['SCHED_DEP_HOUR'], X_train['SCHED_ARR_HOUR'], c = y_pred_14, cmap = 'viridis')\n",
    "plt.colorbar()\n",
    "plt.title(\"Predicted probabilities represented by color\") \n",
    "plt.xlabel(\"SCHED_DEP_HOUR\")\n",
    "plt.ylabel(\"SCHED_ARR_HOUR\")\n",
    "plt.show()"
   ]
  },
  {
   "cell_type": "markdown",
   "metadata": {
    "cell_id": "00035-12ea222b-7817-4cbb-bdd6-397bef52adad",
    "deepnote_cell_height": 111.1875,
    "deepnote_cell_type": "markdown",
    "tags": []
   },
   "source": [
    "<div class='exercise-r'>\n",
    "\n",
    "**1.4.4**  Set all predictors to their means/modes except for except for `SCHED_DEP_HOUR` and `DISTANCE`. Predict the `NN_model` probability of delay and plot the predicted probabilities of delay vs. `SCHED_DEP_HOUR` and `DISTANCE` from the training set. \n",
    "\n",
    "\n",
    "\n",
    "\n",
    "</div>"
   ]
  },
  {
   "cell_type": "code",
   "execution_count": 19,
   "metadata": {
    "cell_id": "00036-65b767f7-c089-4ddb-b7e2-49f21f648b7a",
    "deepnote_cell_height": 702,
    "deepnote_cell_type": "code",
    "deepnote_output_heights": [
     281
    ],
    "deepnote_to_be_reexecuted": false,
    "execution_millis": 1192,
    "execution_start": 1646177226980,
    "source_hash": "bc9dbfa9"
   },
   "outputs": [
    {
     "data": {
      "image/png": "[encoded data removed]",
      "text/plain": [
       "<Figure size 432x288 with 2 Axes>"
      ]
     },
     "metadata": {
      "needs_background": "light"
     },
     "output_type": "display_data"
    }
   ],
   "source": [
    "# set all predictors to mean/mode\n",
    "continuous_var = continuous_var\n",
    "categorical_var = [i for i in X_train.columns if i not in continuous_var]\n",
    "X_train_14 = X_train_scaled.copy()\n",
    "X_train_14[continuous_var] = X_train_14[continuous_var].mean()\n",
    "for i in categorical_var:\n",
    "    X_train_14[i] = (X_train_14[i].mode()[0])\n",
    "X_train_14.head()\n",
    "X_train_14['SCHED_DEP_HOUR'] = X_train_scaled['SCHED_DEP_HOUR']\n",
    "X_train_14['DISTANCE'] = X_train_scaled['DISTANCE']\n",
    "\n",
    "# predict\n",
    "y_pred_14 = NN_model.predict(X_train_14)\n",
    "plt.scatter(X_train['SCHED_DEP_HOUR'], X_train['DISTANCE'], c = y_pred_14, cmap = 'viridis')\n",
    "plt.colorbar()\n",
    "plt.title(\"Predicted probabilities represented by color\") \n",
    "plt.xlabel(\"SCHED_DEP_HOUR\")\n",
    "plt.ylabel(\"DISTANCE\")\n",
    "plt.show()"
   ]
  },
  {
   "cell_type": "markdown",
   "metadata": {
    "cell_id": "00037-707683db-4410-49d4-8efd-7e2ae0a715c0",
    "deepnote_cell_height": 192.390625,
    "deepnote_cell_type": "markdown",
    "tags": []
   },
   "source": [
    "<div class='exercise-r'>\n",
    "\n",
    "**1.4.5**  In 5-10 sentences, interpret what you have seen in 1.4.2, 1.4.3, and 1.4.4.\n",
    "\n",
    "**HINT:** For 1.4.2, 1.4.3, and 1.4.4, when you include `SCHED_DEP_HOUR` on one axis and your second predictor on the other axis, you can color your data points based on their corresponding predicted probabilities by using  the `c` and `cmap` arguments in `plt.scatter`. You can also add a labeled colorbar to your plot to make clear what those colors mean. You can refer to the [matplotlib documentation](https://matplotlib.org/stable/tutorials/index) for examples. This [stackoverflow post](https://stackoverflow.com/questions/17682216/scatter-plot-and-color-mapping-in-python) covering color mapping with scatter plots may also be useful. \n",
    "\n",
    "<a id=\"q15\"></a>\n",
    "\n",
    "\n",
    "\n",
    "</div>"
   ]
  },
  {
   "cell_type": "markdown",
   "metadata": {
    "cell_id": "00038-9f3e9237-7ace-4f90-88ec-4671821b7bad",
    "deepnote_cell_height": 52.390625,
    "deepnote_cell_type": "markdown"
   },
   "source": [
    "**INTERPRETATION:**"
   ]
  },
  {
   "cell_type": "markdown",
   "metadata": {
    "cell_id": "00039-f8cd740c-84e3-47d9-a8af-2f7b95210e75",
    "deepnote_cell_height": 254.578125,
    "deepnote_cell_type": "markdown"
   },
   "source": [
    "- In 1.4.1, we observe that when we hold all other variables constant at their means and modes, the predicted probabilitie of delay increases as SCHED_DEP_HOUR increases. This means that keeping all other factors fixed, flights departing later in the day are more likely to be delayed.\n",
    "- In 1.4.2 - 1.4.4, we relax the constraints of holding fixed other variables for different variables. The plots show that predictied probabilities increase with SCHED_DEP_HOUR, but not with the other variables we examined (SCHED_ARR_HOUR, DISTANCE, and FLIGHT_COUNT). We see that the predicted probabilities, represented by the colors of the scatter points, increase as we move along the x-axes of the plots, but not along the y-axes. \n",
    "- This result is consistent with the importance analysis we conducted above. The importance index for SCHED_DEP_HOUR is the highest and is significantly higher than the second most important feature."
   ]
  },
  {
   "cell_type": "markdown",
   "metadata": {
    "cell_id": "00040-bfa712f4-7e29-4894-9562-c9006f70e69b",
    "deepnote_cell_height": 368.78125,
    "deepnote_cell_type": "markdown",
    "tags": []
   },
   "source": [
    "<div class='exercise-r'>\n",
    "\n",
    "**1.5**  **Bootstrap prediction intervals**\n",
    "\n",
    "In this part, we will attempt to do model inference. Neural Networks have too many parameters, and therefore inference on all the parameters is intractable and meaningless. \n",
    "\n",
    "Using the same network architecture as `NN_model` (layers, nodes, activations, etc.) and your scaled data from that model, create multiple training sets using bootstrapping and fit a separate neural network model to each bootstrapped set of data (the number of bootstraped *datasets*, $n$, should be at least 50). For each of the $n$ models, make predictions on the test data. Randomly select 8 test observations and on 8 subplots, plot the distribution of the $n$ predicted probabilities with the 95% prediction intervals clearly marked and reported in each subplot and the **actual** class of each observation included in each subplot's title for easy reference.\n",
    "    \n",
    "Interpret what you see in 3-5 sentences.\n",
    "\n",
    "**NOTE:** The code for this problem can take an extremely long time to execute. Please feel free to use the `progressbar` function provided below to visually track the progress of your bootstraps.\n",
    "\n",
    "<a id=\"q16\"></a>\n",
    "\n",
    "\n",
    "\n",
    "</div>"
   ]
  },
  {
   "cell_type": "code",
   "execution_count": 20,
   "metadata": {
    "cell_id": "00041-3c4356ee-8785-42a7-8cde-ec8db4295af1",
    "deepnote_cell_height": 711,
    "deepnote_cell_type": "code",
    "deepnote_to_be_reexecuted": false,
    "execution_millis": 0,
    "execution_start": 1646177228165,
    "source_hash": "6f2c3778"
   },
   "outputs": [],
   "source": [
    "def progressbar(n_step, n_total):\n",
    "    \"\"\"Prints self-updating progress bar to stdout to track for-loop progress\n",
    "    \n",
    "    There are entire 3rd-party libraries dedicated to custom progress-bars.\n",
    "    A simple function like this is often more than enough to get the job done.\n",
    "    \n",
    "    :param n_total: total number of expected for-loop iterations\n",
    "    :type n_total: int\n",
    "    :param n_step: current iteration number, starting at 0\n",
    "    :type n_step: int\n",
    "\n",
    "    .. example::\n",
    "    \n",
    "        for i in range(n_iterations):\n",
    "            progressbar(i, n_iterations)\n",
    "            \n",
    "    .. source:\n",
    "    \n",
    "        This function is a simplified version of code found here:\n",
    "        https://stackoverflow.com/questions/3160699/python-progress-bar/15860757#15860757\n",
    "    \"\"\"\n",
    "    n_step = n_step + 1\n",
    "    barlen = 50\n",
    "    progress = n_step / n_total\n",
    "    block = int(round(barlen * progress))\n",
    "    status = \"\"\n",
    "    if n_step == n_total:\n",
    "        status = \"Done...\\r\\n\\n\"\n",
    "    text = \"\\r [{0}] {1}/{2} {3}\".format(\n",
    "        \"=\" * block + \"-\" * (barlen - block),\n",
    "        n_step,\n",
    "        n_total,\n",
    "        status,\n",
    "    )\n",
    "    sys.stdout.write(text)\n",
    "    sys.stdout.flush()"
   ]
  },
  {
   "cell_type": "code",
   "execution_count": 21,
   "metadata": {
    "cell_id": "1ecf5635-0b62-49d7-8dac-1c18cc9b5364",
    "deepnote_cell_height": 437.390625,
    "deepnote_cell_type": "code",
    "deepnote_to_be_reexecuted": false,
    "execution_millis": 1,
    "execution_start": 1646177228166,
    "source_hash": "6596ca48",
    "tags": []
   },
   "outputs": [
    {
     "name": "stdout",
     "output_type": "stream",
     "text": [
      " [==================================================] 50/50 Done...\n",
      "\n"
     ]
    }
   ],
   "source": [
    "# Define a bootstrap function, which takes as input a dataframe \n",
    "def bootstrap(df1, df2):\n",
    "    selectionIndex = np.random.randint(0, df1.shape[0], size = df1.shape[0])\n",
    "    new_df1 = df1.iloc[selectionIndex]\n",
    "    new_df2 = df2.iloc[selectionIndex]\n",
    "\n",
    "    return new_df1, new_df2\n",
    "\n",
    "# Run bootstrap model and save predictions\n",
    "n_bootstrap = 50\n",
    "list_prob_distr_predictions = []\n",
    "\n",
    "for i in range(n_bootstrap):\n",
    "    progressbar(i, n_bootstrap)\n",
    "    boot_x, boot_y = bootstrap(X_train_scaled, y_train)\n",
    "    NN_model.fit(boot_x, boot_y, epochs=10, verbose = 0)\n",
    "    y_pred_boot = NN_model.predict(X_test_scaled)\n",
    "    list_prob_distr_predictions.append(y_pred_boot)"
   ]
  },
  {
   "cell_type": "code",
   "execution_count": 22,
   "metadata": {
    "cell_id": "016d5975-cc57-45e2-8458-dfe504cf31b0",
    "deepnote_cell_height": 1013.078125,
    "deepnote_cell_type": "code",
    "deepnote_output_heights": [
     21.1875,
     420.390625
    ],
    "deepnote_to_be_reexecuted": false,
    "execution_millis": 9,
    "execution_start": 1646177255458,
    "source_hash": "cf4232f4",
    "tags": []
   },
   "outputs": [
    {
     "name": "stdout",
     "output_type": "stream",
     "text": [
      "[ 815  723 1318 1077 1228 1396  664 1679]\n"
     ]
    },
    {
     "data": {
      "image/png": "[encoded data removed]",
      "text/plain": [
       "<Figure size 1440x720 with 8 Axes>"
      ]
     },
     "metadata": {
      "needs_background": "light"
     },
     "output_type": "display_data"
    }
   ],
   "source": [
    "# generate prediction from predicted probs\n",
    "predicted_prob = np.array(list_prob_distr_predictions)\n",
    "predicted_label = np.where(predicted_prob > 0.5, 1, 0)\n",
    "\n",
    "# randomly pick 8 observations\n",
    "np.random.seed(1234)\n",
    "rand_int = np.random.randint(0, 2000, size=8)\n",
    "print(rand_int)\n",
    "eight_random_obs = predicted_prob[:, rand_int]\n",
    "\n",
    "# plot distribution\n",
    "fig, axes = plt.subplots(2, 4, figsize = (20,10))\n",
    "for i, ax in enumerate(axes.flatten()):\n",
    "    \n",
    "    probs = eight_random_obs[:, i]\n",
    "    correct = y_test.iloc[rand_int[i]][0]\n",
    "    \n",
    "    lower_perc = np.percentile(probs, 2.5)\n",
    "    upper_perc = np.percentile(probs, 97.5)\n",
    "    height, bins, patches = ax.hist(probs)\n",
    "    ax.axvline(lower_perc, color = 'red')\n",
    "    ax.axvline(upper_perc, color = 'red')\n",
    "    ax.fill_betweenx([0, height.max()], lower_perc, upper_perc, color = 'red', alpha=0.1, label = \"95% CI\")\n",
    "    ax.legend()\n",
    "    ax.set_title(f\"Observation {i+1}\\nCorrect prediction: \" + str(correct))\n",
    "plt.show()"
   ]
  },
  {
   "cell_type": "markdown",
   "metadata": {
    "cell_id": "00044-776aec9d-66e6-4e90-9a71-51a6f3150333",
    "deepnote_cell_height": 52.390625,
    "deepnote_cell_type": "markdown"
   },
   "source": [
    "**INTERPRETATION:**"
   ]
  },
  {
   "cell_type": "markdown",
   "metadata": {
    "cell_id": "00045-0280ca46-310e-4f06-816c-c98273076e2f",
    "deepnote_cell_height": 282.984375,
    "deepnote_cell_type": "markdown"
   },
   "source": [
    "- For 7 out of 8 of the randomly selected observation, the model predicts correctly but the spread of probability varies.\n",
    "- For observation 2, 3, 4, and 6, virtually all of the predicted probabilities from the bootstrap model are 1.0, corresponding to the correct classification. The 95% CI for these observations are also very tight. For these observations, our model is very confident and correctly so.\n",
    "- For observation 7, we see the majority of the predicted probability around 1, corresponding to the correct classification. However, there is more spread compared to the observations in the first bullet point and the 95% CI is wider. While our model is correct here, it is less certain.\n",
    "- For observation 8, while the highest mass of predicted probability is correctly around 0.0, there is a larger spread of values all the way up to 0.6. Hence, there is more disagreement amongst our bootstrap models for this observation.\n",
    "- For observation 1, our model predicted the wrong label but was very confident in the wrong prediction."
   ]
  },
  {
   "cell_type": "markdown",
   "metadata": {
    "cell_id": "00046-69221984-2cad-402b-bbe7-0e1cb858bac5",
    "deepnote_cell_height": 696.953125,
    "deepnote_cell_type": "markdown",
    "tags": []
   },
   "source": [
    "<div class='exercise-r'>\n",
    "\n",
    "**1.6**  **Build an \"abstain\" bagging model**\n",
    "\n",
    "Using the probability distribution of the predictions obtained from the bootstrapped samples above, we can evaluate how \"significant\" our bagged (i.e. bootstrap-aggregated) prediction will be for each test observation.\n",
    "\n",
    "To accomplish this, you will first calculate the ratio of bootstrapped probabilities that cross the threshold value of $\\hat{p}=0.5$. Let's call this ratio the **Posterior Prediction Ratio (PPR)**. When a bagged prediction's $PPR=0$, all predictions are compatible (i.e. all bootstrapped probabilities for that test observation are on the same side of $\\hat{p}=0.5$). Likewise, when the $PPR=0.5$, half of the bootstrapped predictions for that test observation are $\\hat{y}=0$, and the other half are $\\hat{y}=1$. After calculating your $PPR$ values for all test observations, you should have $n=2000$ $PPR$ values (i.e. one for each test observation).\n",
    "\n",
    "Next, to get more accurate predictions, we can create an **abstain** model that will abstain from making a prediction for a particular observation if some defined threshold for significance (i.e. minimum $PPR$ value) is not met. (If you'd like to learn more about abstain models, you can read more [here](https://openreview.net/forum?id=rJxF73R9tX).)\n",
    "\n",
    "Let's explore how your resulting test accuracies might change by using your bootstrapped prediction results from question 1.5 for an **abstain bagging model** (i.e. a bootstrap aggregated model where some test observations are simply not predicted based on a given $PPR$ threshold). You can make your abstain model *stricter* by using smaller $PPR$ threshold values.\n",
    "\n",
    "- Print the test accuracy for your **bagging model** predictions from question 1.5 using predictions for all 2,000 of our test observations. \n",
    "\n",
    "- Plot the test accuracies for an **abstain bagging model** using your predictions from question 1.5 as a function of increasing $PPR$.\n",
    "\n",
    "- Also, plot the proportion of test observations not abstained (i.e. the proportion of those predicted) for your **abstain bagging model** as a function of increasing $PPR$.\n",
    "\n",
    "- Interpret what you see in 3-5 sentences.\n",
    "\n",
    "**NOTE**: You should observe that as $PPR$ decreases (more confident predictions), you must also compromise on the number of points that your abstain model predicts confidently. \n",
    "\n",
    "\n",
    "</div>"
   ]
  },
  {
   "cell_type": "code",
   "execution_count": 23,
   "metadata": {
    "cell_id": "00047-a83a55f2-1b2b-4c4b-8918-d0e61cfe22b6",
    "deepnote_cell_height": 1052.6875,
    "deepnote_cell_type": "code",
    "deepnote_output_heights": [
     null,
     226
    ],
    "deepnote_to_be_reexecuted": false,
    "execution_start": 1646177257088,
    "source_hash": "203e9227"
   },
   "outputs": [
    {
     "name": "stdout",
     "output_type": "stream",
     "text": [
      "Test accuracy of bagged model: 0.643\n"
     ]
    },
    {
     "data": {
      "image/png": "[encoded data removed]",
      "text/plain": [
       "<Figure size 720x216 with 2 Axes>"
      ]
     },
     "metadata": {
      "needs_background": "light"
     },
     "output_type": "display_data"
    }
   ],
   "source": [
    "# Calculate PPR for each observation\n",
    "# PPR: ratio of prediction that is different from final prediction (average prediction)\n",
    "\n",
    "PPR = 1 - np.maximum(np.mean(predicted_label, axis = 0), (1-np.mean(predicted_label, axis = 0))) #shape 2000 x1 across 50 models\n",
    "bagged_prediction = np.where(np.mean(predicted_label, axis = 0) > 0.5, 1, 0) # shape is 2000x1\n",
    "\n",
    "# Test accuracy of bagging model\n",
    "bag_test_acc = accuracy_score(y_test, bagged_prediction)\n",
    "print(f\"Test accuracy of bagged model: {bag_test_acc:.3f}\")\n",
    "\n",
    "# Abstain model\n",
    "def abstain_model(PPR_list, bag_pred, y_test, thres):\n",
    "    pred_abstain, y_test_predicted = [], []\n",
    "    for i, ppr in enumerate(PPR_list):\n",
    "        if ppr <= thres: #if the disagreement ratio is below your tolerance for disagreement outcome\n",
    "            y_test_predicted.append(y_test.iloc[i])\n",
    "            pred_abstain.append(bagged_prediction[i])\n",
    "    ab_test_acc = accuracy_score(y_test_predicted, pred_abstain)\n",
    "    proportion = len(pred_abstain)/len(y_test)\n",
    "    return ab_test_acc, proportion\n",
    "\n",
    "thres_list = np.arange(0, 0.55, 0.05)\n",
    "ab_test_acc, proportion = [], []\n",
    "\n",
    "for t in thres_list:\n",
    "    acc, prop = abstain_model(PPR, bagged_prediction, y_test, t)\n",
    "    ab_test_acc.append(acc)\n",
    "    proportion.append(prop)\n",
    "\n",
    "fig, ax = plt.subplots(1, 2, figsize = (10,3))\n",
    "ax[0].plot(thres_list, ab_test_acc)\n",
    "ax[0].set_title(\"Abstain model test accuracy\")\n",
    "ax[0].set_xlabel(\"PPR threshold\")\n",
    "ax[0].set_ylabel(\"Test accuracy\")\n",
    "ax[1].plot(thres_list, proportion)\n",
    "ax[1].set_title(\"Abstain model proportion predicted\")\n",
    "ax[1].set_xlabel(\"PPR threshold\")\n",
    "ax[1].set_ylabel(\"Proportion predicted\")\n",
    "plt.show()"
   ]
  },
  {
   "cell_type": "markdown",
   "metadata": {
    "cell_id": "00048-fcfec54d-d712-4ec6-a54d-8ffb21dbde7f",
    "deepnote_cell_height": 52.390625,
    "deepnote_cell_type": "markdown"
   },
   "source": [
    "**INTERPRETATION:**"
   ]
  },
  {
   "cell_type": "markdown",
   "metadata": {
    "cell_id": "00049-a989afd0-271d-4cb3-af60-c0600d873a6a",
    "deepnote_cell_height": 161.984375,
    "deepnote_cell_type": "markdown"
   },
   "source": [
    "- As we increase the PPR threshold, we relaxing the constraint on certainty and predict on more test observation. Hence, the proportion predicted increases.\n",
    "- However, as we increase the PPR threshold, we also observe that the model become less accurate and trending closer to the accuracy of the original bagging model. That's because with low PPR threshold, we are stricter with our prediction and only predict when we are certain (or when there is less variability in the prediction of the bootstraps). "
   ]
  },
  {
   "cell_type": "markdown",
   "metadata": {
    "cell_id": "00050-87b654bf-69dc-4d05-a9d5-380769a015d8",
    "deepnote_cell_height": 2547.6875,
    "deepnote_cell_type": "markdown"
   },
   "source": [
    "<a id=\"part2\"></a>\n",
    "\n",
    "<!-- <div class=\"alert alert-block alert-danger\" style=\"color:black;background-color:#E7F4FA\"> -->\n",
    "\n",
    "# PART 2 [35 pts]: Kannada MNIST Kaggle competition\n",
    "\n",
    "[Return to contents](#contents)\n",
    "\n",
    "\n",
    "<a id=\"part2intro\"></a>\n",
    "\n",
    "## Problem Statement\n",
    "\n",
    "[Return to contents](#contents)\n",
    "\n",
    "\n",
    "ANNs can be prone to overfitting, where they learn specific patterns present in the training data, but the patterns do not generalize to new data.\n",
    "\n",
    "There are several methods used to improve ANN generalization. \n",
    "\n",
    "One approach is to use an architecture just barely wide or deep enough to fit the data. The idea here is that smaller networks are less expressive and thus less able to overfit the data.\n",
    "\n",
    "However, it is difficult to know a priori the correct size of the ANN, and it is computationally costly to hunt for the correct size. Given this, other methodologies are used to prevent overfitting and improve ANNs' generalizability. These methodologies, like other techniques that combat overfitting, fall under the umbrella term of \"regularization\".\n",
    "\n",
    "In this problem, you are asked to regularize a network of a given architecture.\n",
    "\n",
    "<a id=\"part2about\"></a>\n",
    "\n",
    "## The Kannada MNIST Dataset\n",
    "\n",
    "[Return to contents](#contents)\n",
    "\n",
    "\n",
    "![](https://www.googleapis.com/download/storage/v1/b/kaggle-user-content/o/inbox%2F3630446%2F1e01bcc28b5ccb7ad38a4ffefb13cde0%2Fwondu.png?generation=1603204077179447&alt=media)\n",
    "\n",
    "\n",
    "For this problem, we will be working with a modified version of the [Kannada MNIST dataset](https://arxiv.org/pdf/1908.01242.pdf), which is a large database of handwritten digits in the indigenous language *Kannada*.\n",
    "\n",
    "This dataset consists of 60,000 28x28 grayscale images of the ten digits, along with a test set of 10,000 images. \n",
    "\n",
    "For this homework, we will simplify the problem by only using the digits labeled `0` and `1` owing to the similarity of the two symbols, and we will use a total of 1,200 samples for training (this includes the data you will use for validation).\n",
    "\n",
    "To understand the dataset better, we recommend this [article](https://towardsdatascience.com/a-new-handwritten-digits-dataset-in-ml-town-kannada-mnist-69df0f2d1456) by Vinay Prabhu, the curator of the dataset.\n",
    "\n",
    "<a id=\"part2data\"></a>\n",
    "\n",
    "## Downloading the Data Files\n",
    "\n",
    "[Return to contents](#contents)\n",
    "\n",
    "\n",
    "**Please download the specific `kmnist_train.csv` and `kmnist_test.csv` data files available on [the \"Data\" tab of the CS109B HW3 Kaggle Competition website](https://www.kaggle.com/t/af72601cf0ff4e14b60dd4ca62c54b3d). (DO NOT USE DATA FROM ANY OTHER SOURCE!)**\n",
    "\n",
    "Here's a brief description of the data files:\n",
    "\n",
    "- `kmnist_train.csv` is our training dataset and the last column contains our response class. The 784 other columns correspond to the pixel values of the 28x28 dimension image. Class 0 means a sample is the handwritten digit `0` and class 1 means a sample is the handwritten digit `1` in the Kannada written language. `kmnist_train.csv` has 1,200 samples.\n",
    "\n",
    "\n",
    "- `kmnist_test.csv` has a structure similar to `kmnist_train.csv`, however the class label column is NOT included in with the test set. `kmnist_test.csv` has 2,000 samples. \n",
    "\n",
    "\n",
    "Kaggle leaderboard scores are accuracy scores calculated by Kaggle when you upload your predictions on this test set.\n",
    "\n",
    "- `sample_submission.csv` is the format that kaggle will accept. The uploaded `.csv` must contain 2 columns. The first column must be named `id` and needs to contain the test observation index numbers for each prediction, the second must be named `category` and needs to contain your class predictions (i.e. `0` or `1`) for each corresponding test observation index location. \n",
    "\n",
    "<a id=\"part2kaggle\"></a>\n",
    "\n",
    "## CS109B Kaggle Competition\n",
    "\n",
    "[Return to contents](#contents)\n",
    "\n",
    "**ACCESS AND JOIN THE COMPETITION**:\n",
    "\n",
    "**You need to create an account on Kaggle and [join the competition via this link](https://www.kaggle.com/t/af72601cf0ff4e14b60dd4ca62c54b3d). This is a limited participation competition. Please DO NOT share this link.**\n",
    "\n",
    "**For more information on the rules** governing this CS109B Kaggle competition, please see below and also review [the modelling restrictions DOS and DON'TS outlined in question 2.3](#q23).\n",
    "\n",
    "**IMPORTANT NOTES ABOUT SCORING**:\n",
    "\n",
    "- The **public leaderboard** on Kaggle displays your performance on only 50% of the test set.\n",
    "\n",
    "\n",
    "- After the competition is complete, the **private leaderboard** will show your performance on the remaining 50% of the test set.\n",
    "\n",
    "- Question 2.3.5 is worth 5 points (the entire notebook is scored out of 100). Points for this questions will be awarded based on the **private leaderboard** as follows.\n",
    "\n",
    "|Private Leaderboard Score   | Points|\n",
    "|----------------------------|-------|\n",
    "|$0.945 \\leq \\text{score}$ |5|\n",
    "|$0.944 \\leq \\text{score} \\lt 0.945$|4|\n",
    "|$0.93 \\leq \\text{score} \\lt 0.94$|3|\n",
    "|$0.92 \\leq \\text{score} \\lt 0.93$|2|\n",
    "|$0.889 \\leq \\text{score} \\lt 0.92$|1|\n",
    "\n",
    "**🏆 Grand Prize(s):** The **Top-4** students on the private leaderboard will win an invitation to dinner with Pavlos and some of the CS109B teaching staff. This refers to the top 4 individuals on the board. The invitation will be extended to 5 students if the restriction to 4 would otherwise divide a group (e.g., 3 single submissions at the top followed by a group of 2).\n",
    "\n",
    "**ADDITIONAL COMPETITION RULES:**\n",
    "\n",
    "- Multiple Kaggle submissions are permitted (with a maximum of 20 submissions per-participant per-day), **just note that you will need to choose, on Kaggle, the ONE single submission to use for final scoring prior to the final HW3 submission deadline**, and **your submitted notebook MUST contain the matching code and model that generated your ONE chosen submission.**\n",
    "\n",
    "\n",
    "- **To repeat this point, the version of your final HW3 notebook submitted on Canvas MUST contain the same code and exact same model used to generate your ONE chosen Kaggle submission.** (TFs may rerun your notebook code to ensure comparable final leaderboard results.)\n",
    "\n",
    "\n",
    "- **Please do not manually label your submissions.** In other words, the labels should only be the outcome of your model.\n",
    "\n",
    "\n",
    "- **No external data are allowed, you MUST USE ONLY the KMNIST training and test data downloaded via the \"Data\" tab of [the CS109B competition page linked above](#part2data).**\n",
    "\n",
    "\n",
    "- **Do not** create multiple accounts on Kaggle.\n"
   ]
  },
  {
   "cell_type": "markdown",
   "metadata": {
    "cell_id": "00051-57f25c83-7072-4f48-a158-01e52cf95fc5",
    "deepnote_cell_height": 1568.140625,
    "deepnote_cell_type": "markdown"
   },
   "source": [
    "<!-- <div class=\"alert alert-block alert-danger\" style=\"color:black;background-color:#E7F4FA\"> -->\n",
    "\n",
    "<a id=\"part2questions\"></a>\n",
    "\n",
    "## <div class='exercise'>PART2 Questions</div>\n",
    "\n",
    "[Return to contents](#contents)\n",
    "\n",
    "\n",
    "<a id=\"q21\"></a>\n",
    "\n",
    "**2.1** **Get and visualize the data**\n",
    "\n",
    "- Download the train and test data from [the competition page](#part2data).\n",
    "- We will utilize `kmnist_test.csv` in question 2.3.4 only. \n",
    "- Load the data and use the matplotlib function `imshow` to display a handwritten 0 and a handwritten 1 from the training set.\n",
    "\n",
    "<a id=\"q22\"></a>\n",
    "\n",
    "**2.2** **Overfit an ANN** \n",
    "\n",
    "Build and fit a fully-connected network (FCN) with the architecture given below using `tensorflow.keras` and assign it to a variable called `model_overfit`:\n",
    "\n",
    "- Number of hidden layers: 3\n",
    "- Nodes per hidden layer: 100, 100, 100\n",
    "- Activation function: ReLU \n",
    "- Loss function: binary_crossentropy\n",
    "- Output unit: Sigmoid \n",
    "- Optimizer: adam (use the defaults; no other tuning)\n",
    "- Epochs: 1,000\n",
    "- Batch size: 128\n",
    "- Validation size: 0.3\n",
    "\n",
    "![diagram](https://www.googleapis.com/download/storage/v1/b/kaggle-user-content/o/inbox%2F3630446%2F6a491ff8d4ff590dc8ded9a25461cd4b%2FScreenshot%202020-10-20%20at%209.42.36%20PM.png?generation=1603210420701577&alt=media) \n",
    "    \n",
    "This ANN, when trained on the dataset, will overfit to the training set. Plot the training accuracy and validation accuracy (the x-axis should represent the number of epochs, and the y-axis should represent the accuracy). Explain how you can tell the model is overfitting. \n",
    "\n",
    "<a id=\"q23\"></a>\n",
    "\n",
    "**2.3** **Regularize the overfit network**\n",
    "\n",
    "Create an ANN that doesn't overfit and use it to [compete on Kaggle](#part2kaggle).\n",
    "\n",
    "**DON'TS**\n",
    "\n",
    "- **DO NOT change the architecture**. In other words, keep the same number of layers, same number of nodes, same activation function, and same loss function and output unit as was used in your question 2.2 overfit model. **No CNNs, RNNs, ensembles, or fancy enhancements.**\n",
    "\n",
    "- **DO NOT manually label your submissions.** In other words, the labels should only be the outcome of your model.\n",
    "\n",
    "- **DO NOT use any external data.** Please use ONLY the specific KMNIST datasets provided to you (via the CS109B [data link above](#part2data)) for training your model and for generating your test predictions.\n",
    "\n",
    "**DOS**\n",
    "\n",
    " - **YOU CAN change the** number of epochs (max 2000), batch size, optimizer, and of course, add elements that can help to regularize your model (e.g., dropout, L2 norm, etc.).\n",
    " - **YOU CAN also** do data augmentation using the provided training data. \n",
    "\n",
    "**IMPORTANT: YOU MUST** ensure that the version of the code and model in your final submitted notebook is the **EXACT SAME** code and model used to generate your Kaggle submission. TFs may run your submitted model to ensure comparable results. **Other Kaggle competition rules and scoring details [are listed here](#part2kaggle).**\n",
    "\n",
    "- **2.3.1** Build and train your regularized model (you MUST adhere to the \"DOS\" and \"DON'TS\" listed above), print your model summary, and print your final training and validation accuracy and loss.\n",
    "\n",
    "\n",
    "- **2.3.2** Plot your model's training accuracy and validation accuracy as a function of epochs.\n",
    "\n",
    "\n",
    "- **2.3.3** In several sentences, describe the approach you have taken to improve the performance of your regularized model in 2.3.1 and any observations you might have regarding your training and Kaggle results.\n",
    "\n",
    "\n",
    "- **2.3.4** Generate your test-set class predictions using your regularized model. Save those predictions to a `.csv` formatted file. Submit that `.csv` file [to the CS109B Kaggle Competition](#part2kaggle) for leaderboard scoring. **IMPORTANT:** For Kaggle to accept and score your submitted `.csv` file, it MUST contain 2 columns. The first column must be named `\"id\"` and needs to contain the test observation index numbers corresponding to each of your 2,000 predictions (index starting at `0`), the second column must be named `\"category\"` and needs to contain your class predictions (i.e. `0` or `1`) for each corresponding test observation index location. Both columns should contain integer data types.\n",
    "\n",
    "\n",
    "- **2.3.5** **Specify your Kaggle name that you have used on the leaderboard**. We CANNOT give you credit without this."
   ]
  },
  {
   "cell_type": "markdown",
   "metadata": {
    "cell_id": "00052-22c4243d-00b7-4eb2-89f4-b7c559abc615",
    "deepnote_cell_height": 122.390625,
    "deepnote_cell_type": "markdown"
   },
   "source": [
    "<a id=\"part2solutions\"></a>\n",
    "\n",
    "## PART 2 Solutions\n",
    "\n",
    "[Return to contents](#contents)\n"
   ]
  },
  {
   "cell_type": "markdown",
   "metadata": {
    "cell_id": "00053-6d786d11-24ad-4f04-b816-e8cdf5e6f031",
    "deepnote_cell_height": 175.984375,
    "deepnote_cell_type": "markdown"
   },
   "source": [
    "<div class='exercise-r'>\n",
    "\n",
    "**2.1**  **Get and visualize the data**\n",
    "\n",
    "- Download the train and test data from [the competition page](#part2data).\n",
    "- We will utilize `kmnist_test.csv` in question 2.3.4 only. \n",
    "- Load the data and use the matplotlib function `imshow` to display a handwritten 0 and a handwritten 1 from the training set.\n",
    "\n",
    "<a id=\"q22\"></a>\n",
    "\n",
    "\n",
    "\n",
    "</div>"
   ]
  },
  {
   "cell_type": "code",
   "execution_count": 25,
   "metadata": {
    "cell_id": "00054-afde8bb2-610d-4fc2-a0be-3faae05ea082",
    "deepnote_cell_height": 586,
    "deepnote_cell_type": "code",
    "deepnote_output_heights": [
     201
    ],
    "deepnote_to_be_reexecuted": false,
    "execution_millis": 636,
    "execution_start": 1646232851078,
    "source_hash": "7a715608"
   },
   "outputs": [
    {
     "data": {
      "image/png": "[encoded data removed]",
      "text/plain": [
       "<Figure size 432x288 with 2 Axes>"
      ]
     },
     "metadata": {
      "needs_background": "light"
     },
     "output_type": "display_data"
    }
   ],
   "source": [
    "# import data\n",
    "kmnist_test = pd.read_csv(\"data/kmnist_test.csv\")\n",
    "kmnist_train = pd.read_csv(\"data/kmnist_train.csv\")\n",
    "\n",
    "x_test = kmnist_test\n",
    "x_train = kmnist_train.iloc[:,:-1]\n",
    "y_train = kmnist_train.iloc[:, -1]\n",
    "\n",
    "# display\n",
    "img0 = np.array(x_train.iloc[400, :]).reshape(28,28)\n",
    "img1 = np.array(x_train.iloc[300, :]).reshape(28,28)\n",
    "fig, ax = plt.subplots(1, 2)\n",
    "ax[0].set_title(f'Predicted value is {y_train[400]}')\n",
    "ax[0].imshow(img0, cmap='gray')\n",
    "ax[1].set_title(f'Predicted value is {y_train[300]}')\n",
    "ax[1].imshow(img1, cmap='gray')\n",
    "plt.show()"
   ]
  },
  {
   "cell_type": "markdown",
   "metadata": {
    "cell_id": "00055-7803c327-2242-4e7e-ad21-879307db7434",
    "deepnote_cell_height": 555.59375,
    "deepnote_cell_type": "markdown"
   },
   "source": [
    "<div class='exercise-r'>\n",
    "\n",
    "**2.2**  **Overfit an ANN** \n",
    "\n",
    "Build and fit a fully-connected network (FCN) with the architecture given below using `tensorflow.keras` and assign it to a variable called `model_overfit`:\n",
    "\n",
    "- Number of hidden layers: 3\n",
    "- Nodes per hidden layer: 100, 100, 100\n",
    "- Activation function: ReLU \n",
    "- Loss function: binary_crossentropy\n",
    "- Output unit: Sigmoid \n",
    "- Optimizer: adam (use the defaults; no other tuning)\n",
    "- Epochs: 1,000\n",
    "- Batch size: 128\n",
    "- Validation size: 0.3\n",
    "\n",
    "![diagram](https://www.googleapis.com/download/storage/v1/b/kaggle-user-content/o/inbox%2F3630446%2F6a491ff8d4ff590dc8ded9a25461cd4b%2FScreenshot%202020-10-20%20at%209.42.36%20PM.png?generation=1603210420701577&alt=media) \n",
    "    \n",
    "This ANN, when trained on the dataset, will overfit to the training set. Plot the training accuracy and validation accuracy (the x-axis should represent the number of epochs, and the y-axis should represent the accuracy). Explain how you can tell the model is overfitting. \n",
    "\n",
    "<a id=\"q23\"></a>\n",
    "\n",
    "\n",
    "\n",
    "</div>"
   ]
  },
  {
   "cell_type": "code",
   "execution_count": 26,
   "metadata": {
    "cell_id": "52a3012c-55d3-49a6-b5b2-1906f8f177d1",
    "deepnote_cell_height": 405,
    "deepnote_cell_type": "code",
    "deepnote_to_be_reexecuted": false,
    "execution_millis": 1,
    "execution_start": 1646196625576,
    "source_hash": "bbdc9023",
    "tags": []
   },
   "outputs": [],
   "source": [
    "# overfit model\n",
    "model_overfit = tf.keras.models.Sequential([\n",
    "  tf.keras.layers.Input(shape = (784,)),\n",
    "  tf.keras.layers.Dense(100, activation='relu'),\n",
    "  tf.keras.layers.Dense(100, activation='relu'),\n",
    "  tf.keras.layers.Dense(100, activation='relu'),\n",
    "  tf.keras.layers.Dense(1, activation='sigmoid')\n",
    "\n",
    "])\n",
    "\n",
    "model_overfit.compile(\n",
    "    loss='binary_crossentropy',\n",
    "    optimizer=tf.keras.optimizers.Adam(),\n",
    "    metrics=['accuracy'])\n",
    "\n",
    "history = model_overfit.fit(x_train, y_train,\n",
    "                            #validation_data=(x_val,y_val), \n",
    "                            validation_split=0.3,\n",
    "                            batch_size = 128, epochs=1000, verbose=0)"
   ]
  },
  {
   "cell_type": "code",
   "execution_count": 27,
   "metadata": {
    "cell_id": "00061-d3d97286-f07d-4d55-9113-6010401d1503",
    "deepnote_cell_height": 343.84375,
    "deepnote_cell_type": "code",
    "deepnote_output_heights": [
     228.84375
    ]
   },
   "outputs": [
    {
     "data": {
      "image/png": "[encoded data removed]",
      "text/plain": [
       "<Figure size 1440x360 with 2 Axes>"
      ]
     },
     "metadata": {
      "needs_background": "light"
     },
     "output_type": "display_data"
    }
   ],
   "source": [
    "# Plot training and validation loss\n",
    "plot_loss_acc(history)"
   ]
  },
  {
   "cell_type": "markdown",
   "metadata": {
    "cell_id": "00062-bf9bc9dc-6f5c-4bd7-bbfd-2ffc0cb6f29e",
    "deepnote_cell_height": 147.59375,
    "deepnote_cell_type": "markdown"
   },
   "source": [
    "**INTERPRETATION**\n",
    "* The training accuracy after 1000 epochs is 100% while the validation accuracy is only around 50%. We see a large divergence between the two around epoch 10. The large gap between the training and validation loss is sign that the model has overfit to the training data."
   ]
  },
  {
   "cell_type": "markdown",
   "metadata": {
    "cell_id": "00059-17d5588d-4a1d-4036-a8b6-e0ac5e5e78fc",
    "deepnote_cell_height": 495.375,
    "deepnote_cell_type": "markdown"
   },
   "source": [
    "<div class='exercise-r'>\n",
    "\n",
    "**2.3**  **Regularize the overfit network**\n",
    "\n",
    "Create an ANN that doesn't overfit and use it to [compete on Kaggle](#part2kaggle).\n",
    "\n",
    "**DON'TS**\n",
    "\n",
    "- **DO NOT change the architecture**. In other words, keep the same number of layers, same number of nodes, same activation function, and same loss function and output unit as was used in your question 2.2 overfit model. **No CNNs, RNNs, ensembles, or fancy enhancements.**\n",
    "\n",
    "- **DO NOT manually label your submissions.** In other words, the labels should only be the outcome of your model.\n",
    "\n",
    "- **DO NOT use any external data.** Please use ONLY the specific KMNIST datasets provided to you (via the CS109B [data link above](#part2data)) for training your model and for generating your test predictions.\n",
    "\n",
    "**DOS**\n",
    "\n",
    " - **YOU CAN change the** number of epochs (max 2000), batch size, optimizer, and of course, add elements that can help to regularize your model (e.g., dropout, L2 norm, etc.).\n",
    " - **YOU CAN also** do data augmentation using the provided training data. \n",
    "\n",
    "**IMPORTANT: YOU MUST** ensure that the version of the code and model in your final submitted notebook is the **EXACT SAME** code and model used to generate your Kaggle submission. TFs may run your submitted model to ensure comparable results. **Other Kaggle competition rules and scoring details [are listed here](#part2kaggle).**\n",
    "\n",
    "\n",
    "\n",
    "</div>"
   ]
  },
  {
   "cell_type": "code",
   "execution_count": 62,
   "metadata": {
    "cell_id": "00064-d904683d-092e-4144-b6bb-9f276510a5c6",
    "deepnote_cell_height": 840,
    "deepnote_cell_type": "code"
   },
   "outputs": [],
   "source": [
    "from tensorflow.keras.preprocessing.image import ImageDataGenerator\n",
    "\n",
    "# import data\n",
    "kmnist_test = pd.read_csv(\"data/kmnist_test.csv\")\n",
    "kmnist_train = pd.read_csv(\"data/kmnist_train.csv\")\n",
    "\n",
    "x_test = kmnist_test\n",
    "x_train = kmnist_train.iloc[:,:-1]\n",
    "y_train = kmnist_train.iloc[:, -1]\n",
    "\n",
    "# Split into train and validation\n",
    "x_train, x_val, y_train, y_val = train_test_split(x_train, y_train, test_size=0.3)\n",
    "\n",
    "# Reshape train\n",
    "x_train_reshaped = np.concatenate([i.reshape(1,28,28)[:,:,:,None] for i in np.array(x_train)])\n",
    "\n",
    "# generate new data\n",
    "def add_noise(img):\n",
    "    VARIABILITY = 20 # customize this\n",
    "    deviation = VARIABILITY*np.random.random()\n",
    "    noise = np.random.normal(0, deviation, img.shape)\n",
    "    img += noise\n",
    "    img = np.clip(img, 0., 255.)\n",
    "    return img\n",
    "\n",
    "datagen_aug = ImageDataGenerator(\n",
    "      rescale=1./255,\n",
    "      rotation_range=20,\n",
    "      width_shift_range=0.5,\n",
    "      height_shift_range=0.5,\n",
    "      shear_range=0.2,\n",
    "      zoom_range=0.2,\n",
    "      preprocessing_function=add_noise,\n",
    "      horizontal_flip=True,\n",
    "      fill_mode='nearest',\n",
    ")\n",
    "\n",
    "augmented_data = datagen_aug.flow(x_train_reshaped, y_train, batch_size=len(x_train))\n",
    "x_augmented = augmented_data[0][0].reshape(840,784)\n",
    "y_augmented = augmented_data[0][1]\n",
    "\n",
    "# add new data into original train data\n",
    "x_train_augmented = np.concatenate([x_augmented, np.array(x_train)])\n",
    "y_train_augmented = np.concatenate([y_augmented, np.array(y_train)])"
   ]
  },
  {
   "cell_type": "code",
   "execution_count": 63,
   "metadata": {
    "cell_id": "00065-fe0eb20f-552a-4865-88ea-7e29ebf131e1",
    "deepnote_cell_height": 581.390625,
    "deepnote_cell_type": "code",
    "tags": []
   },
   "outputs": [
    {
     "name": "stdout",
     "output_type": "stream",
     "text": [
      "Restoring model weights from the end of the best epoch: 67.\n",
      "Epoch 217: early stopping\n"
     ]
    }
   ],
   "source": [
    "# train the model\n",
    "np.random.seed(1234)\n",
    "es = tf.keras.callbacks.EarlyStopping(monitor='val_accuracy', patience=150, restore_best_weights=True, verbose=1)\n",
    "\n",
    "model_regularised = tf.keras.models.Sequential([\n",
    "  tf.keras.layers.Dropout(.3, input_shape=(784,)),\n",
    "  tf.keras.layers.Input(shape = (784,)),\n",
    "  tf.keras.layers.Dense(100, activation='relu', kernel_regularizer='l2'),\n",
    "  tf.keras.layers.Dense(100, activation='relu', kernel_regularizer='l2'),\n",
    "  tf.keras.layers.Dense(100, activation='relu', kernel_regularizer='l2'),\n",
    "  tf.keras.layers.Dense(1, activation='sigmoid', kernel_regularizer='l2')\n",
    "\n",
    "])\n",
    "\n",
    "model_regularised.compile(\n",
    "    loss='binary_crossentropy',\n",
    "    optimizer=tf.keras.optimizers.Adam(0.001),\n",
    "    metrics=['accuracy'])\n",
    "\n",
    "history = model_regularised.fit(x_train_augmented, y_train_augmented, \n",
    "                                batch_size = 20, \n",
    "                                epochs=700, \n",
    "                                callbacks=es,\n",
    "                                validation_data=(x_val,y_val), \n",
    "                                #validation_split=0.3,\n",
    "                                verbose=0)"
   ]
  },
  {
   "cell_type": "markdown",
   "metadata": {
    "cell_id": "00066-7778e2a0-9642-47e7-aa19-704ea876b5e6",
    "deepnote_cell_height": 66.390625,
    "deepnote_cell_type": "markdown"
   },
   "source": [
    "<div class='exercise-r'>\n",
    "\n",
    "**2.3.2**  Plot your model's training accuracy and validation accuracy as a function of epochs.\n",
    "\n",
    "\n",
    "\n",
    "\n",
    "</div>"
   ]
  },
  {
   "cell_type": "code",
   "execution_count": 64,
   "metadata": {
    "cell_id": "00067-2a81bd93-980d-4777-aef8-ccc6284dbbba",
    "deepnote_cell_height": 345.015625,
    "deepnote_cell_type": "code",
    "deepnote_output_heights": [
     230.015625
    ]
   },
   "outputs": [
    {
     "data": {
      "image/png": "[encoded data removed]",
      "text/plain": [
       "<Figure size 1440x360 with 2 Axes>"
      ]
     },
     "metadata": {
      "needs_background": "light"
     },
     "output_type": "display_data"
    }
   ],
   "source": [
    "# Plot training and validation loss\n",
    "plot_loss_acc(history)"
   ]
  },
  {
   "cell_type": "code",
   "execution_count": 65,
   "metadata": {
    "cell_id": "00068-05670330-364a-4f77-a013-28d818d8c909",
    "deepnote_cell_height": 264.171875,
    "deepnote_cell_type": "code"
   },
   "outputs": [
    {
     "name": "stdout",
     "output_type": "stream",
     "text": [
      "Training Evaluation\n",
      "53/53 [==============================] - 0s 3ms/step - loss: 0.4535 - accuracy: 0.7589\n",
      "[0.45348137617111206, 0.7589285969734192]\n",
      "Validation Evaluation\n",
      "12/12 [==============================] - 0s 3ms/step - loss: 0.2090 - accuracy: 0.9639\n",
      "[0.20902709662914276, 0.9638888835906982]\n"
     ]
    }
   ],
   "source": [
    "print(\"Training Evaluation\")\n",
    "print(model_regularised.evaluate(x_train_augmented,y_train_augmented))\n",
    "print(\"Validation Evaluation\")\n",
    "print(model_regularised.evaluate(x_val,y_val))"
   ]
  },
  {
   "cell_type": "markdown",
   "metadata": {
    "cell_id": "00063-f5532551-8b73-4657-9f9d-eb59d5560b5e",
    "deepnote_cell_height": 88.796875,
    "deepnote_cell_type": "markdown"
   },
   "source": [
    "<div class='exercise-r'>\n",
    "\n",
    "**2.3.3**  In several sentences, describe the approach you have taken to improve the performance of your regularized model in 2.3.1 and any observations you might have regarding your training and Kaggle results.\n",
    "\n",
    "\n",
    "\n",
    "\n",
    "</div>"
   ]
  },
  {
   "cell_type": "markdown",
   "metadata": {
    "cell_id": "00064-72d8bb0c-2e15-431f-8920-0d45e8250beb",
    "deepnote_cell_height": 52.390625,
    "deepnote_cell_type": "markdown"
   },
   "source": [
    "**APPROACH AND OBSERVATIONS:**"
   ]
  },
  {
   "cell_type": "markdown",
   "metadata": {
    "cell_id": "00065-93d4cd97-ee2f-467f-887d-0a0d61566de9",
    "deepnote_cell_height": 190.390625,
    "deepnote_cell_type": "markdown"
   },
   "source": [
    "* First, we reduce the number of epoch to 700 instead of 1000. We also apply an early stopping criteria to further limite the number of epoch trained to reduce overfitting. Our early stopping criteria has a patience value of 150.\n",
    "* Another approach we implemented is to include L2 regularization on all the layers in the network to reduce the size of the weights.\n",
    "* We also added a dropout layer with a probability of 0.3.\n",
    "* Finally we created an augmented the data using ImageDataGenerator package."
   ]
  },
  {
   "cell_type": "markdown",
   "metadata": {
    "cell_id": "00066-fba302ec-34f0-4adc-ac48-181980ed6d55",
    "deepnote_cell_height": 178.390625,
    "deepnote_cell_type": "markdown"
   },
   "source": [
    "<div class='exercise-r'>\n",
    "\n",
    "**2.3.4**  Generate your test-set class predictions using your regularized model. Save those predictions to a `.csv` formatted file. Submit that `.csv` file [to the CS109B Kaggle Competition](#part2kaggle) for leaderboard scoring. **IMPORTANT:** For Kaggle to accept and score your submitted `.csv` file, it MUST contain 2 columns. The first column must be named `\"id\"` and needs to contain the test observation index numbers corresponding to each of your 2,000 predictions (index starting at `0`), the second column must be named `\"category\"` and needs to contain your class predictions (i.e. `0` or `1`) for each corresponding test observation index location. Both columns should contain integer data types.\n",
    "\n",
    "\n",
    "\n",
    "\n",
    "</div>"
   ]
  },
  {
   "cell_type": "code",
   "execution_count": 66,
   "metadata": {
    "cell_id": "ed15b192-7ff5-409b-b78e-9f076d230e47",
    "deepnote_cell_height": 605.1875,
    "deepnote_cell_type": "code",
    "deepnote_output_heights": [
     382.1875
    ],
    "deepnote_to_be_reexecuted": false,
    "execution_millis": 547,
    "execution_start": 1646203789451,
    "source_hash": "b100f496",
    "tags": []
   },
   "outputs": [
    {
     "data": {
      "text/html": [
       "<div>\n",
       "<style scoped>\n",
       "    .dataframe tbody tr th:only-of-type {\n",
       "        vertical-align: middle;\n",
       "    }\n",
       "\n",
       "    .dataframe tbody tr th {\n",
       "        vertical-align: top;\n",
       "    }\n",
       "\n",
       "    .dataframe thead th {\n",
       "        text-align: right;\n",
       "    }\n",
       "</style>\n",
       "<table border=\"1\" class=\"dataframe\">\n",
       "  <thead>\n",
       "    <tr style=\"text-align: right;\">\n",
       "      <th></th>\n",
       "      <th>id</th>\n",
       "      <th>category</th>\n",
       "    </tr>\n",
       "  </thead>\n",
       "  <tbody>\n",
       "    <tr>\n",
       "      <th>0</th>\n",
       "      <td>0</td>\n",
       "      <td>0</td>\n",
       "    </tr>\n",
       "    <tr>\n",
       "      <th>1</th>\n",
       "      <td>1</td>\n",
       "      <td>1</td>\n",
       "    </tr>\n",
       "    <tr>\n",
       "      <th>2</th>\n",
       "      <td>2</td>\n",
       "      <td>0</td>\n",
       "    </tr>\n",
       "    <tr>\n",
       "      <th>3</th>\n",
       "      <td>3</td>\n",
       "      <td>0</td>\n",
       "    </tr>\n",
       "    <tr>\n",
       "      <th>4</th>\n",
       "      <td>4</td>\n",
       "      <td>0</td>\n",
       "    </tr>\n",
       "    <tr>\n",
       "      <th>...</th>\n",
       "      <td>...</td>\n",
       "      <td>...</td>\n",
       "    </tr>\n",
       "    <tr>\n",
       "      <th>1995</th>\n",
       "      <td>1995</td>\n",
       "      <td>1</td>\n",
       "    </tr>\n",
       "    <tr>\n",
       "      <th>1996</th>\n",
       "      <td>1996</td>\n",
       "      <td>0</td>\n",
       "    </tr>\n",
       "    <tr>\n",
       "      <th>1997</th>\n",
       "      <td>1997</td>\n",
       "      <td>1</td>\n",
       "    </tr>\n",
       "    <tr>\n",
       "      <th>1998</th>\n",
       "      <td>1998</td>\n",
       "      <td>0</td>\n",
       "    </tr>\n",
       "    <tr>\n",
       "      <th>1999</th>\n",
       "      <td>1999</td>\n",
       "      <td>1</td>\n",
       "    </tr>\n",
       "  </tbody>\n",
       "</table>\n",
       "<p>2000 rows × 2 columns</p>\n",
       "</div>"
      ],
      "text/plain": [
       "        id  category\n",
       "0        0         0\n",
       "1        1         1\n",
       "2        2         0\n",
       "3        3         0\n",
       "4        4         0\n",
       "...    ...       ...\n",
       "1995  1995         1\n",
       "1996  1996         0\n",
       "1997  1997         1\n",
       "1998  1998         0\n",
       "1999  1999         1\n",
       "\n",
       "[2000 rows x 2 columns]"
      ]
     },
     "execution_count": 66,
     "metadata": {},
     "output_type": "execute_result"
    }
   ],
   "source": [
    "y_predict = np.where((model_regularised.predict(x_test))>= 0.5, 1, 0)\n",
    "submission1 = pd.DataFrame(y_predict, columns= ['category'])\n",
    "indexes = np.arange(0, 2000)\n",
    "submission1_idx = pd.DataFrame(indexes, columns = ['id'])\n",
    "category_ = submission1['category']\n",
    "submission = submission1_idx.join(category_)\n",
    "\n",
    "submission"
   ]
  },
  {
   "cell_type": "code",
   "execution_count": 67,
   "metadata": {
    "cell_id": "f3c1d9be-dd7b-4408-ac5b-cb3a276801cf",
    "deepnote_cell_height": 81,
    "deepnote_cell_type": "code",
    "deepnote_to_be_reexecuted": false,
    "execution_millis": 8,
    "execution_start": 1646203791869,
    "source_hash": "c230bcb4",
    "tags": []
   },
   "outputs": [],
   "source": [
    "submission.to_csv('try1_unicorns1.csv',mode = 'w', index=False)"
   ]
  },
  {
   "cell_type": "markdown",
   "metadata": {
    "cell_id": "00068-e205acbc-ac54-4132-9863-5923428d16ec",
    "deepnote_cell_height": 66.390625,
    "deepnote_cell_type": "markdown"
   },
   "source": [
    "<div class='exercise-r'>\n",
    "\n",
    "**2.3.5**  **Specify your Kaggle name that you have used on the leaderboard**. We CANNOT give you credit without this.\n",
    "\n",
    "</div>"
   ]
  },
  {
   "cell_type": "markdown",
   "metadata": {
    "cell_id": "00069-3ad3a3e2-29fc-4a7f-9ae4-a90bc31ea180",
    "deepnote_cell_height": 52.390625,
    "deepnote_cell_type": "markdown"
   },
   "source": [
    "**YOUR KAGGLE LEADERBOARD NAME:**"
   ]
  },
  {
   "cell_type": "markdown",
   "metadata": {
    "cell_id": "00070-42bc0ec0-8c75-4c64-b7da-9fc863855037",
    "deepnote_cell_height": 52.390625,
    "deepnote_cell_type": "markdown"
   },
   "source": [
    "\n",
    "**cute_unicorns**"
   ]
  },
  {
   "cell_type": "markdown",
   "metadata": {
    "cell_id": "00071-27363904-bc3a-42d5-8f21-00baaefff5ab",
    "deepnote_cell_height": 52.390625,
    "deepnote_cell_type": "markdown"
   },
   "source": [
    "[Return to contents](#contents)"
   ]
  },
  {
   "cell_type": "markdown",
   "metadata": {
    "created_in_deepnote_cell": true,
    "deepnote_cell_type": "markdown",
    "tags": []
   },
   "source": [
    "<a style='text-decoration:none;line-height:16px;display:flex;color:#5B5B62;padding:10px;justify-content:end;' href='https://deepnote.com?utm_source=created-in-deepnote-cell&projectId=65278b88-5ba3-48f3-bf4e-578b5e939cd0' target=\"_blank\">\n",
    "<img alt='Created in deepnote.com' style='display:inline;max-height:16px;margin:0px;margin-right:7.5px;' src='data:image/svg+xml;base64,PD94bWwgdmVyc2lvbj0iMS4wIiBlbmNvZGluZz0iVVRGLTgiPz4KPHN2ZyB3aWR0aD0iODBweCIgaGVpZ2h0PSI4MHB4IiB2aWV3Qm94PSIwIDAgODAgODAiIHZlcnNpb249IjEuMSIgeG1sbnM9Imh0dHA6Ly93d3cudzMub3JnLzIwMDAvc3ZnIiB4bWxuczp4bGluaz0iaHR0cDovL3d3dy53My5vcmcvMTk5OS94bGluayI+CiAgICA8IS0tIEdlbmVyYXRvcjogU2tldGNoIDU0LjEgKDc2NDkwKSAtIGh0dHBzOi8vc2tldGNoYXBwLmNvbSAtLT4KICAgIDx0aXRsZT5Hcm91cCAzPC90aXRsZT4KICAgIDxkZXNjPkNyZWF0ZWQgd2l0aCBTa2V0Y2guPC9kZXNjPgogICAgPGcgaWQ9IkxhbmRpbmciIHN0cm9rZT0ibm9uZSIgc3Ryb2tlLXdpZHRoPSIxIiBmaWxsPSJub25lIiBmaWxsLXJ1bGU9ImV2ZW5vZGQiPgogICAgICAgIDxnIGlkPSJBcnRib2FyZCIgdHJhbnNmb3JtPSJ0cmFuc2xhdGUoLTEyMzUuMDAwMDAwLCAtNzkuMDAwMDAwKSI+CiAgICAgICAgICAgIDxnIGlkPSJHcm91cC0zIiB0cmFuc2Zvcm09InRyYW5zbGF0ZSgxMjM1LjAwMDAwMCwgNzkuMDAwMDAwKSI+CiAgICAgICAgICAgICAgICA8cG9seWdvbiBpZD0iUGF0aC0yMCIgZmlsbD0iIzAyNjVCNCIgcG9pbnRzPSIyLjM3NjIzNzYyIDgwIDM4LjA0NzY2NjcgODAgNTcuODIxNzgyMiA3My44MDU3NTkyIDU3LjgyMTc4MjIgMzIuNzU5MjczOSAzOS4xNDAyMjc4IDMxLjY4MzE2ODMiPjwvcG9seWdvbj4KICAgICAgICAgICAgICAgIDxwYXRoIGQ9Ik0zNS4wMDc3MTgsODAgQzQyLjkwNjIwMDcsNzYuNDU0OTM1OCA0Ny41NjQ5MTY3LDcxLjU0MjI2NzEgNDguOTgzODY2LDY1LjI2MTk5MzkgQzUxLjExMjI4OTksNTUuODQxNTg0MiA0MS42NzcxNzk1LDQ5LjIxMjIyODQgMjUuNjIzOTg0Niw0OS4yMTIyMjg0IEMyNS40ODQ5Mjg5LDQ5LjEyNjg0NDggMjkuODI2MTI5Niw0My4yODM4MjQ4IDM4LjY0NzU4NjksMzEuNjgzMTY4MyBMNzIuODcxMjg3MSwzMi41NTQ0MjUgTDY1LjI4MDk3Myw2Ny42NzYzNDIxIEw1MS4xMTIyODk5LDc3LjM3NjE0NCBMMzUuMDA3NzE4LDgwIFoiIGlkPSJQYXRoLTIyIiBmaWxsPSIjMDAyODY4Ij48L3BhdGg+CiAgICAgICAgICAgICAgICA8cGF0aCBkPSJNMCwzNy43MzA0NDA1IEwyNy4xMTQ1MzcsMC4yNTcxMTE0MzYgQzYyLjM3MTUxMjMsLTEuOTkwNzE3MDEgODAsMTAuNTAwMzkyNyA4MCwzNy43MzA0NDA1IEM4MCw2NC45NjA0ODgyIDY0Ljc3NjUwMzgsNzkuMDUwMzQxNCAzNC4zMjk1MTEzLDgwIEM0Ny4wNTUzNDg5LDc3LjU2NzA4MDggNTMuNDE4MjY3Nyw3MC4zMTM2MTAzIDUzLjQxODI2NzcsNTguMjM5NTg4NSBDNTMuNDE4MjY3Nyw0MC4xMjg1NTU3IDM2LjMwMzk1NDQsMzcuNzMwNDQwNSAyNS4yMjc0MTcsMzcuNzMwNDQwNSBDMTcuODQzMDU4NiwzNy43MzA0NDA1IDkuNDMzOTE5NjYsMzcuNzMwNDQwNSAwLDM3LjczMDQ0MDUgWiIgaWQ9IlBhdGgtMTkiIGZpbGw9IiMzNzkzRUYiPjwvcGF0aD4KICAgICAgICAgICAgPC9nPgogICAgICAgIDwvZz4KICAgIDwvZz4KPC9zdmc+' > </img>\n",
    "Created in <span style='font-weight:600;margin-left:4px;'>Deepnote</span></a>"
   ]
  }
 ],
 "metadata": {
  "deepnote": {},
  "deepnote_execution_queue": [],
  "deepnote_notebook_id": "ed0f2af0-39f1-4795-bb12-0fcdf29bc321",
  "kernelspec": {
   "display_name": "Python 3",
   "language": "python",
   "name": "python3"
  },
  "language_info": {
   "codemirror_mode": {
    "name": "ipython",
    "version": 3
   },
   "file_extension": ".py",
   "mimetype": "text/x-python",
   "name": "python",
   "nbconvert_exporter": "python",
   "pygments_lexer": "ipython3",
   "version": "3.9.5"
  }
 },
 "nbformat": 4,
 "nbformat_minor": 4
}
